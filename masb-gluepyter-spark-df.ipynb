{
	"cells": [
		{
			"cell_type": "markdown",
			"metadata": {
				"deletable": false,
				"editable": false,
				"trusted": true
			},
			"source": [
				"\n",
				"# Glue Studio Notebook\n",
				"You are now running a **Glue Studio** notebook; before you can start using your notebook you *must* start an interactive session.\n",
				"\n",
				"## Available Magics\n",
				"|          Magic              |   Type       |                                                                        Description                                                                        |\n",
				"|-----------------------------|--------------|-----------------------------------------------------------------------------------------------------------------------------------------------------------|\n",
				"| %%configure                 |  Dictionary  |  A json-formatted dictionary consisting of all configuration parameters for a session. Each parameter can be specified here or through individual magics. |\n",
				"| %profile                    |  String      |  Specify a profile in your aws configuration to use as the credentials provider.                                                                          |\n",
				"| %iam_role                   |  String      |  Specify an IAM role to execute your session with.                                                                                                        |\n",
				"| %region                     |  String      |  Specify the AWS region in which to initialize a session                                                                                                  |\n",
				"| %session_id                 |  String      |  Returns the session ID for the running session.                                                                                                          |\n",
				"| %connections                |  List        |  Specify a comma separated list of connections to use in the session.                                                                                     |\n",
				"| %additional_python_modules  |  List        |  Comma separated list of pip packages, s3 paths or private pip arguments.                                                                                 |\n",
				"| %extra_py_files             |  List        |  Comma separated list of additional Python files from S3.                                                                                                 |\n",
				"| %extra_jars                 |  List        |  Comma separated list of additional Jars to include in the cluster.                                                                                       |\n",
				"| %number_of_workers          |  Integer     |  The number of workers of a defined worker_type that are allocated when a job runs. worker_type must be set too.                                          |\n",
				"| %worker_type                |  String      |  Standard, G.1X, *or* G.2X. number_of_workers must be set too. Default is G.1X                                                                            |\n",
				"| %glue_version               |  String      |  The version of Glue to be used by this session. Currently, the only valid options are 2.0 and 3.0                                                        |\n",
				"| %security_configuration     |  String      |  Define a security configuration to be used with this session.                                                                                            |\n",
				"| %sql                        |  String      |  Run SQL code. All lines after the initial %%sql magic will be passed as part of the SQL code.                                                            |\n",
				"| %streaming                  |  String      |  Changes the session type to Glue Streaming.                                                                                                              |\n",
				"| %etl                        |  String      |   Changes the session type to Glue ETL.                                                                                                                   |\n",
				"| %status                     |              |  Returns the status of the current Glue session including its duration, configuration and executing user / role.                                          |\n",
				"| %stop_session               |              |  Stops the current session.                                                                                                                               |\n",
				"| %list_sessions              |              |  Lists all currently running sessions by name and ID.                                                                                                     |"
			]
		},
		{
			"cell_type": "code",
			"execution_count": null,
			"metadata": {
				"editable": true,
				"trusted": true,
				"vscode": {
					"languageId": "python_glue_session"
				}
			},
			"outputs": [
				{
					"name": "stdout",
					"output_type": "stream",
					"text": [
						"Welcome to the Glue Interactive Sessions Kernel\n",
						"For more information on available magic commands, please type %help in any new cell.\n",
						"\n",
						"Please view our Getting Started page to access the most up-to-date information on the Interactive Sessions kernel: https://docs.aws.amazon.com/glue/latest/dg/interactive-sessions.html\n",
						"It looks like there is a newer version of the kernel available. The latest version is 0.34 and you have 0.30 installed.\n",
						"Please run `pip install --upgrade aws-glue-sessions` to upgrade your kernel\n",
						"Authenticating with environment variables and user-defined glue_role_arn: arn:aws:iam::533588983801:role/FULL_GLUE\n",
						"Attempting to use existing AssumeRole session credentials.\n",
						"Trying to create a Glue session for the kernel.\n",
						"Worker Type: G.1X\n",
						"Number of Workers: 5\n",
						"Session ID: 54aaeac2-74c5-4d33-b9f2-dae565cd43cf\n",
						"Applying the following default arguments:\n",
						"--glue_kernel_version 0.30\n",
						"--enable-glue-datacatalog true\n",
						"Waiting for session 54aaeac2-74c5-4d33-b9f2-dae565cd43cf to get into ready status...\n",
						"Session 54aaeac2-74c5-4d33-b9f2-dae565cd43cf has been created\n",
						"\n",
						"\n"
					]
				}
			],
			"source": [
				"import sys\n",
				"from awsglue.transforms import *\n",
				"from awsglue.utils import getResolvedOptions\n",
				"from pyspark.context import SparkContext\n",
				"from awsglue.context import GlueContext\n",
				"from awsglue.job import Job\n",
				"###\n",
				"from pyspark.sql import SparkSession\n",
				"spark = SparkSession.builder.appName(\"pySparkDF\").getOrCreate()\n",
				"##\n",
				"sc = SparkContext.getOrCreate()\n",
				"glueContext = GlueContext(sc)\n",
				"spark = glueContext.spark_session\n",
				"job = Job(glueContext)"
			]
		},
		{
			"cell_type": "markdown",
			"metadata": {},
			"source": [
				"# Spark DFs"
			]
		},
		{
			"cell_type": "markdown",
			"metadata": {},
			"source": [
				"## 64. Introduction to Spark DFs"
			]
		},
		{
			"cell_type": "markdown",
			"metadata": {},
			"source": [
				"## 65. Creating Spark DFs\n",
				"1. ```python\n",
				"from pyspark.sql import SparkSession\n",
				"spark = SparkSession.builder.appName(\"pySparkDF\").getOrCreate()\n",
				"``` \n",
				"\n",
				"\n",
				"2. There're many ways to read the data (parquet, csv, odbc, etc)\n",
				"```python \n",
				"df = spark.read.csv(ruta)\n",
				"```\n",
				"If headers are as row, you can specify that we don't want that. For this we  "
			]
		},
		{
			"cell_type": "markdown",
			"metadata": {},
			"source": [
				"```python\n",
				"from pyspark.sql import SparkSession\n",
				"spark = SparkSession.builder.appName(\"pySparkDF\").getOrCreate()\n",
				"```"
			]
		},
		{
			"cell_type": "code",
			"execution_count": 7,
			"metadata": {
				"trusted": true,
				"vscode": {
					"languageId": "python_glue_session"
				}
			},
			"outputs": [
				{
					"name": "stdout",
					"output_type": "stream",
					"text": [
						"+---+------+----------------+------+------+-----+--------------------+\n",
						"|_c0|   _c1|             _c2|   _c3|   _c4|  _c5|                 _c6|\n",
						"+---+------+----------------+------+------+-----+--------------------+\n",
						"|age|gender|            name|course|  roll|marks|               email|\n",
						"| 28|Female| Hubert Oliveras|    DB| 02984|   59|Annika Hoffman_Na...|\n",
						"| 29|Female|Toshiko Hillyard| Cloud| 12899|   62|Margene Moores_Ma...|\n",
						"| 28|  Male|  Celeste Lollis|    PF| 21267|   45|Jeannetta Golden_...|\n",
						"| 29|Female|    Elenore Choy|    DB| 32877|   29|Billi Clore_Mitzi...|\n",
						"| 28|  Male|  Sheryll Towler|   DSA| 41487|   41|Claude Panos_Judi...|\n",
						"| 28|  Male|  Margene Moores|   MVC| 52771|   32|Toshiko Hillyard_...|\n",
						"| 28|  Male|     Neda Briski|   OOP| 61973|   69|Alberta Freund_El...|\n",
						"| 28|Female|    Claude Panos| Cloud| 72409|   85|Sheryll Towler_Al...|\n",
						"| 28|  Male|  Celeste Lollis|   MVC| 81492|   64|Nicole Harwood_Cl...|\n",
						"| 29|  Male|  Cordie Harnois|   OOP| 92882|   51|Judie Chipps_Clem...|\n",
						"| 29|Female|       Kena Wild|   DSA|102285|   35|Dustin Feagins_Ma...|\n",
						"| 29|  Male| Ernest Rossbach|    DB|111449|   53|Maybell Duguay_Ab...|\n",
						"| 28|Female|  Latia Vanhoose|    DB|122502|   27|Latia Vanhoose_Mi...|\n",
						"| 29|Female|  Latia Vanhoose|   MVC|132110|   55|Eda Neathery_Nico...|\n",
						"| 29|  Male|     Neda Briski|    PF|141770|   42|Margene Moores_Mi...|\n",
						"| 29|Female|  Latia Vanhoose|    DB|152159|   27|Claude Panos_Sant...|\n",
						"| 29|  Male|  Loris Crossett|   MVC|161771|   36|Mitzi Seldon_Jenn...|\n",
						"| 29|  Male|  Annika Hoffman|   OOP|171660|   22|Taryn Brownlee_Mi...|\n",
						"| 29|  Male|   Santa Kerfien|    PF|182129|   56|Judie Chipps_Tary...|\n",
						"+---+------+----------------+------+------+-----+--------------------+\n",
						"only showing top 20 rows\n"
					]
				}
			],
			"source": [
				"df = spark.read.csv('s3://xxxxxxxx/StudentData.csv')\n",
				"df.show()"
			]
		},
		{
			"cell_type": "code",
			"execution_count": 1,
			"metadata": {
				"trusted": true,
				"vscode": {
					"languageId": "python_glue_session"
				}
			},
			"outputs": [
				{
					"name": "stdout",
					"output_type": "stream",
					"text": [
						"\n"
					]
				}
			],
			"source": [
				"df = spark.read.option(\"header\", True).csv('s3://xxxxxxxx/StudentData.csv')"
			]
		},
		{
			"cell_type": "code",
			"execution_count": 2,
			"metadata": {
				"trusted": true,
				"vscode": {
					"languageId": "python_glue_session"
				}
			},
			"outputs": [
				{
					"name": "stdout",
					"output_type": "stream",
					"text": [
						"+---+------+----------------+------+-----+-----+--------------------+\n",
						"|age|gender|            name|course| roll|marks|               email|\n",
						"+---+------+----------------+------+-----+-----+--------------------+\n",
						"| 28|Female| Hubert Oliveras|    DB|02984|   59|Annika Hoffman_Na...|\n",
						"| 29|Female|Toshiko Hillyard| Cloud|12899|   62|Margene Moores_Ma...|\n",
						"| 28|  Male|  Celeste Lollis|    PF|21267|   45|Jeannetta Golden_...|\n",
						"| 29|Female|    Elenore Choy|    DB|32877|   29|Billi Clore_Mitzi...|\n",
						"| 28|  Male|  Sheryll Towler|   DSA|41487|   41|Claude Panos_Judi...|\n",
						"| 28|  Male|  Margene Moores|   MVC|52771|   32|Toshiko Hillyard_...|\n",
						"| 28|  Male|     Neda Briski|   OOP|61973|   69|Alberta Freund_El...|\n",
						"| 28|Female|    Claude Panos| Cloud|72409|   85|Sheryll Towler_Al...|\n",
						"| 28|  Male|  Celeste Lollis|   MVC|81492|   64|Nicole Harwood_Cl...|\n",
						"| 29|  Male|  Cordie Harnois|   OOP|92882|   51|Judie Chipps_Clem...|\n",
						"+---+------+----------------+------+-----+-----+--------------------+\n",
						"only showing top 10 rows\n"
					]
				}
			],
			"source": [
				"df.show(10)"
			]
		},
		{
			"cell_type": "code",
			"execution_count": 5,
			"metadata": {
				"trusted": true,
				"vscode": {
					"languageId": "python_glue_session"
				}
			},
			"outputs": [
				{
					"name": "stdout",
					"output_type": "stream",
					"text": [
						"\n"
					]
				}
			],
			"source": [
				"df = spark.read.option(\"inferSchema\",True).option(\"header\", True).csv('s3://xxxxxxxx/StudentData.csv')"
			]
		},
		{
			"cell_type": "code",
			"execution_count": 9,
			"metadata": {
				"trusted": true,
				"vscode": {
					"languageId": "python_glue_session"
				}
			},
			"outputs": [
				{
					"name": "stdout",
					"output_type": "stream",
					"text": [
						"\n"
					]
				}
			],
			"source": [
				"df= spark.read.options(inferSchema = True, header = True, delimiter ='\\t').csv('s3://xxxxxxxx/StudentData.csv')"
			]
		},
		{
			"cell_type": "code",
			"execution_count": 10,
			"metadata": {
				"trusted": true,
				"vscode": {
					"languageId": "python_glue_session"
				}
			},
			"outputs": [
				{
					"name": "stdout",
					"output_type": "stream",
					"text": [
						"DataFrame[age: int, gender: string, name: string, course: string, roll: int, marks: int, email: string]\n"
					]
				}
			],
			"source": [
				"df"
			]
		},
		{
			"cell_type": "code",
			"execution_count": 4,
			"metadata": {
				"trusted": true,
				"vscode": {
					"languageId": "python_glue_session"
				}
			},
			"outputs": [
				{
					"name": "stdout",
					"output_type": "stream",
					"text": [
						"root\n",
						" |-- age: integer (nullable = true)\n",
						" |-- gender: string (nullable = true)\n",
						" |-- name: string (nullable = true)\n",
						" |-- course: string (nullable = true)\n",
						" |-- roll: integer (nullable = true)\n",
						" |-- marks: integer (nullable = true)\n",
						" |-- email: string (nullable = true)\n"
					]
				}
			],
			"source": [
				"df.printSchema()"
			]
		},
		{
			"cell_type": "markdown",
			"metadata": {},
			"source": [
				"If I don't want to infer schema, I can pass by my own with the next code:"
			]
		},
		{
			"cell_type": "code",
			"execution_count": 12,
			"metadata": {
				"trusted": true,
				"vscode": {
					"languageId": "python_glue_session"
				}
			},
			"outputs": [
				{
					"name": "stdout",
					"output_type": "stream",
					"text": [
						"\n"
					]
				}
			],
			"source": [
				"from pyspark.sql.types import StructField, StructType, StringType, IntegerType"
			]
		},
		{
			"cell_type": "code",
			"execution_count": 13,
			"metadata": {
				"trusted": true,
				"vscode": {
					"languageId": "python_glue_session"
				}
			},
			"outputs": [
				{
					"name": "stdout",
					"output_type": "stream",
					"text": [
						"\n"
					]
				}
			],
			"source": [
				"from pyspark.sql.types import StructField, StructType, StringType, IntegerType\n",
				"schema = StructType([\n",
				"    StructField('age', IntegerType() ,True),\n",
				"    StructField('gender',StringType(), True),\n",
				"    StructField('name', StringType(), True),\n",
				"    StructField('course', StringType(), True),\n",
				"    StructField('roll', StringType(), True),\n",
				"    StructField('marks', IntegerType(), True),\n",
				"    StructField('email', StringType(), True)\n",
				"])"
			]
		},
		{
			"cell_type": "code",
			"execution_count": 20,
			"metadata": {
				"trusted": true,
				"vscode": {
					"languageId": "python_glue_session"
				}
			},
			"outputs": [
				{
					"name": "stdout",
					"output_type": "stream",
					"text": [
						"\n"
					]
				}
			],
			"source": [
				"df= spark.read.options(header = True).schema(schema).csv('s3://xxxxxxxx/StudentData.csv')"
			]
		},
		{
			"cell_type": "code",
			"execution_count": 21,
			"metadata": {
				"trusted": true,
				"vscode": {
					"languageId": "python_glue_session"
				}
			},
			"outputs": [
				{
					"name": "stdout",
					"output_type": "stream",
					"text": [
						"+---+------+----------------+------+-----+-----+--------------------+\n",
						"|age|gender|            name|course| roll|marks|               email|\n",
						"+---+------+----------------+------+-----+-----+--------------------+\n",
						"| 28|Female| Hubert Oliveras|    DB|02984|   59|Annika Hoffman_Na...|\n",
						"| 29|Female|Toshiko Hillyard| Cloud|12899|   62|Margene Moores_Ma...|\n",
						"| 28|  Male|  Celeste Lollis|    PF|21267|   45|Jeannetta Golden_...|\n",
						"| 29|Female|    Elenore Choy|    DB|32877|   29|Billi Clore_Mitzi...|\n",
						"| 28|  Male|  Sheryll Towler|   DSA|41487|   41|Claude Panos_Judi...|\n",
						"| 28|  Male|  Margene Moores|   MVC|52771|   32|Toshiko Hillyard_...|\n",
						"| 28|  Male|     Neda Briski|   OOP|61973|   69|Alberta Freund_El...|\n",
						"| 28|Female|    Claude Panos| Cloud|72409|   85|Sheryll Towler_Al...|\n",
						"| 28|  Male|  Celeste Lollis|   MVC|81492|   64|Nicole Harwood_Cl...|\n",
						"| 29|  Male|  Cordie Harnois|   OOP|92882|   51|Judie Chipps_Clem...|\n",
						"+---+------+----------------+------+-----+-----+--------------------+\n",
						"only showing top 10 rows\n"
					]
				}
			],
			"source": [
				"df.show(10)"
			]
		},
		{
			"cell_type": "markdown",
			"metadata": {},
			"source": [
				"## 68. Create DF from RDD\n",
				"```python\n",
				"df = rdd.toDF()\n",
				"```"
			]
		},
		{
			"cell_type": "markdown",
			"metadata": {},
			"source": [
				"### Creating RDD:"
			]
		},
		{
			"cell_type": "code",
			"execution_count": 1,
			"metadata": {
				"trusted": true,
				"vscode": {
					"languageId": "python_glue_session"
				}
			},
			"outputs": [
				{
					"name": "stdout",
					"output_type": "stream",
					"text": [
						"\n"
					]
				}
			],
			"source": [
				"rdd = sc.textFile('s3://xxxxxxxx/StudentData.csv')"
			]
		},
		{
			"cell_type": "code",
			"execution_count": 2,
			"metadata": {
				"trusted": true,
				"vscode": {
					"languageId": "python_glue_session"
				}
			},
			"outputs": [
				{
					"name": "stdout",
					"output_type": "stream",
					"text": [
						"\n"
					]
				}
			],
			"source": [
				"col = rdd.first()\n",
				"rdd = rdd.filter(lambda x: x!= col)"
			]
		},
		{
			"cell_type": "code",
			"execution_count": 3,
			"metadata": {
				"trusted": true,
				"vscode": {
					"languageId": "python_glue_session"
				}
			},
			"outputs": [
				{
					"name": "stdout",
					"output_type": "stream",
					"text": [
						"\n"
					]
				}
			],
			"source": [
				"rdd2 = rdd.map(lambda x: x.split(','))\n",
				"rdd2 = rdd2.map(lambda x: [int(x[0]),x[1],x[2],x[3],x[4],int(x[5]),x[6]])"
			]
		},
		{
			"cell_type": "code",
			"execution_count": 4,
			"metadata": {
				"trusted": true,
				"vscode": {
					"languageId": "python_glue_session"
				}
			},
			"outputs": [
				{
					"name": "stdout",
					"output_type": "stream",
					"text": [
						"[[28, 'Female', 'Hubert Oliveras', 'DB', '02984', 59, 'Annika Hoffman_Naoma Fritts@OOP.com'], [29, 'Female', 'Toshiko Hillyard', 'Cloud', '12899', 62, 'Margene Moores_Marylee Capasso@DB.com'], [28, 'Male', 'Celeste Lollis', 'PF', '21267', 45, 'Jeannetta Golden_Jenna Montague@DSA.com'], [29, 'Female', 'Elenore Choy', 'DB', '32877', 29, 'Billi Clore_Mitzi Seldon@DB.com'], [28, 'Male', 'Sheryll Towler', 'DSA', '41487', 41, 'Claude Panos_Judie Chipps@OOP.com'], [28, 'Male', 'Margene Moores', 'MVC', '52771', 32, 'Toshiko Hillyard_Clementina Menke@MVC.com'], [28, 'Male', 'Neda Briski', 'OOP', '61973', 69, 'Alberta Freund_Elenore Choy@DB.com'], [28, 'Female', 'Claude Panos', 'Cloud', '72409', 85, 'Sheryll Towler_Alberta Freund@Cloud.com'], [28, 'Male', 'Celeste Lollis', 'MVC', '81492', 64, 'Nicole Harwood_Claude Panos@MVC.com'], [29, 'Male', 'Cordie Harnois', 'OOP', '92882', 51, 'Judie Chipps_Clementina Menke@MVC.com']]\n"
					]
				}
			],
			"source": [
				"rdd2.take(10)"
			]
		},
		{
			"cell_type": "code",
			"execution_count": 5,
			"metadata": {
				"trusted": true,
				"vscode": {
					"languageId": "python_glue_session"
				}
			},
			"outputs": [
				{
					"name": "stdout",
					"output_type": "stream",
					"text": [
						"\n"
					]
				}
			],
			"source": [
				"df = rdd2.toDF()"
			]
		},
		{
			"cell_type": "code",
			"execution_count": 6,
			"metadata": {
				"trusted": true,
				"vscode": {
					"languageId": "python_glue_session"
				}
			},
			"outputs": [
				{
					"name": "stdout",
					"output_type": "stream",
					"text": [
						"+---+------+----------------+-----+-----+---+--------------------+\n",
						"| _1|    _2|              _3|   _4|   _5| _6|                  _7|\n",
						"+---+------+----------------+-----+-----+---+--------------------+\n",
						"| 28|Female| Hubert Oliveras|   DB|02984| 59|Annika Hoffman_Na...|\n",
						"| 29|Female|Toshiko Hillyard|Cloud|12899| 62|Margene Moores_Ma...|\n",
						"| 28|  Male|  Celeste Lollis|   PF|21267| 45|Jeannetta Golden_...|\n",
						"| 29|Female|    Elenore Choy|   DB|32877| 29|Billi Clore_Mitzi...|\n",
						"| 28|  Male|  Sheryll Towler|  DSA|41487| 41|Claude Panos_Judi...|\n",
						"| 28|  Male|  Margene Moores|  MVC|52771| 32|Toshiko Hillyard_...|\n",
						"| 28|  Male|     Neda Briski|  OOP|61973| 69|Alberta Freund_El...|\n",
						"| 28|Female|    Claude Panos|Cloud|72409| 85|Sheryll Towler_Al...|\n",
						"| 28|  Male|  Celeste Lollis|  MVC|81492| 64|Nicole Harwood_Cl...|\n",
						"| 29|  Male|  Cordie Harnois|  OOP|92882| 51|Judie Chipps_Clem...|\n",
						"+---+------+----------------+-----+-----+---+--------------------+\n",
						"only showing top 10 rows\n"
					]
				}
			],
			"source": [
				"df.show(10)"
			]
		},
		{
			"cell_type": "code",
			"execution_count": 7,
			"metadata": {
				"trusted": true,
				"vscode": {
					"languageId": "python_glue_session"
				}
			},
			"outputs": [
				{
					"name": "stdout",
					"output_type": "stream",
					"text": [
						"\n"
					]
				}
			],
			"source": [
				"cols = col.split(',')\n",
				"df = rdd2.toDF(cols)"
			]
		},
		{
			"cell_type": "code",
			"execution_count": 8,
			"metadata": {
				"trusted": true,
				"vscode": {
					"languageId": "python_glue_session"
				}
			},
			"outputs": [
				{
					"name": "stdout",
					"output_type": "stream",
					"text": [
						"+---+------+----------------+------+-----+-----+--------------------+\n",
						"|age|gender|            name|course| roll|marks|               email|\n",
						"+---+------+----------------+------+-----+-----+--------------------+\n",
						"| 28|Female| Hubert Oliveras|    DB|02984|   59|Annika Hoffman_Na...|\n",
						"| 29|Female|Toshiko Hillyard| Cloud|12899|   62|Margene Moores_Ma...|\n",
						"| 28|  Male|  Celeste Lollis|    PF|21267|   45|Jeannetta Golden_...|\n",
						"| 29|Female|    Elenore Choy|    DB|32877|   29|Billi Clore_Mitzi...|\n",
						"| 28|  Male|  Sheryll Towler|   DSA|41487|   41|Claude Panos_Judi...|\n",
						"| 28|  Male|  Margene Moores|   MVC|52771|   32|Toshiko Hillyard_...|\n",
						"| 28|  Male|     Neda Briski|   OOP|61973|   69|Alberta Freund_El...|\n",
						"| 28|Female|    Claude Panos| Cloud|72409|   85|Sheryll Towler_Al...|\n",
						"| 28|  Male|  Celeste Lollis|   MVC|81492|   64|Nicole Harwood_Cl...|\n",
						"| 29|  Male|  Cordie Harnois|   OOP|92882|   51|Judie Chipps_Clem...|\n",
						"+---+------+----------------+------+-----+-----+--------------------+\n",
						"only showing top 10 rows\n"
					]
				}
			],
			"source": [
				"df.show(10)"
			]
		},
		{
			"cell_type": "code",
			"execution_count": 9,
			"metadata": {
				"trusted": true,
				"vscode": {
					"languageId": "python_glue_session"
				}
			},
			"outputs": [
				{
					"name": "stdout",
					"output_type": "stream",
					"text": [
						"root\n",
						" |-- age: long (nullable = true)\n",
						" |-- gender: string (nullable = true)\n",
						" |-- name: string (nullable = true)\n",
						" |-- course: string (nullable = true)\n",
						" |-- roll: string (nullable = true)\n",
						" |-- marks: long (nullable = true)\n",
						" |-- email: string (nullable = true)\n"
					]
				}
			],
			"source": [
				"df.printSchema()"
			]
		},
		{
			"cell_type": "code",
			"execution_count": 10,
			"metadata": {
				"trusted": true,
				"vscode": {
					"languageId": "python_glue_session"
				}
			},
			"outputs": [
				{
					"name": "stdout",
					"output_type": "stream",
					"text": [
						"\n"
					]
				}
			],
			"source": [
				"from pyspark.sql.types import StructField, StructType, StringType, IntegerType\n",
				"schema = StructType([\n",
				"    StructField('age', IntegerType() ,True),\n",
				"    StructField('gender',StringType(), True),\n",
				"    StructField('name', StringType(), True),\n",
				"    StructField('course', StringType(), True),\n",
				"    StructField('roll', StringType(), True),\n",
				"    StructField('marks', IntegerType(), True),\n",
				"    StructField('email', StringType(), True)\n",
				"])"
			]
		},
		{
			"cell_type": "code",
			"execution_count": 11,
			"metadata": {
				"trusted": true,
				"vscode": {
					"languageId": "python_glue_session"
				}
			},
			"outputs": [
				{
					"name": "stdout",
					"output_type": "stream",
					"text": [
						"\n"
					]
				}
			],
			"source": [
				"df2 = spark.createDataFrame(rdd2, schema=schema)"
			]
		},
		{
			"cell_type": "code",
			"execution_count": 12,
			"metadata": {
				"trusted": true,
				"vscode": {
					"languageId": "python_glue_session"
				}
			},
			"outputs": [
				{
					"name": "stdout",
					"output_type": "stream",
					"text": [
						"root\n",
						" |-- age: integer (nullable = true)\n",
						" |-- gender: string (nullable = true)\n",
						" |-- name: string (nullable = true)\n",
						" |-- course: string (nullable = true)\n",
						" |-- roll: string (nullable = true)\n",
						" |-- marks: integer (nullable = true)\n",
						" |-- email: string (nullable = true)\n"
					]
				}
			],
			"source": [
				"df2.printSchema()"
			]
		},
		{
			"cell_type": "code",
			"execution_count": 13,
			"metadata": {
				"trusted": true,
				"vscode": {
					"languageId": "python_glue_session"
				}
			},
			"outputs": [
				{
					"name": "stdout",
					"output_type": "stream",
					"text": [
						"+---+------+----------------+------+------+-----+--------------------+\n",
						"|age|gender|            name|course|  roll|marks|               email|\n",
						"+---+------+----------------+------+------+-----+--------------------+\n",
						"| 28|Female| Hubert Oliveras|    DB| 02984|   59|Annika Hoffman_Na...|\n",
						"| 29|Female|Toshiko Hillyard| Cloud| 12899|   62|Margene Moores_Ma...|\n",
						"| 28|  Male|  Celeste Lollis|    PF| 21267|   45|Jeannetta Golden_...|\n",
						"| 29|Female|    Elenore Choy|    DB| 32877|   29|Billi Clore_Mitzi...|\n",
						"| 28|  Male|  Sheryll Towler|   DSA| 41487|   41|Claude Panos_Judi...|\n",
						"| 28|  Male|  Margene Moores|   MVC| 52771|   32|Toshiko Hillyard_...|\n",
						"| 28|  Male|     Neda Briski|   OOP| 61973|   69|Alberta Freund_El...|\n",
						"| 28|Female|    Claude Panos| Cloud| 72409|   85|Sheryll Towler_Al...|\n",
						"| 28|  Male|  Celeste Lollis|   MVC| 81492|   64|Nicole Harwood_Cl...|\n",
						"| 29|  Male|  Cordie Harnois|   OOP| 92882|   51|Judie Chipps_Clem...|\n",
						"| 29|Female|       Kena Wild|   DSA|102285|   35|Dustin Feagins_Ma...|\n",
						"| 29|  Male| Ernest Rossbach|    DB|111449|   53|Maybell Duguay_Ab...|\n",
						"| 28|Female|  Latia Vanhoose|    DB|122502|   27|Latia Vanhoose_Mi...|\n",
						"| 29|Female|  Latia Vanhoose|   MVC|132110|   55|Eda Neathery_Nico...|\n",
						"| 29|  Male|     Neda Briski|    PF|141770|   42|Margene Moores_Mi...|\n",
						"| 29|Female|  Latia Vanhoose|    DB|152159|   27|Claude Panos_Sant...|\n",
						"| 29|  Male|  Loris Crossett|   MVC|161771|   36|Mitzi Seldon_Jenn...|\n",
						"| 29|  Male|  Annika Hoffman|   OOP|171660|   22|Taryn Brownlee_Mi...|\n",
						"| 29|  Male|   Santa Kerfien|    PF|182129|   56|Judie Chipps_Tary...|\n",
						"| 28|Female|Mickey Cortright|    DB|192537|   62|Ernest Rossbach_M...|\n",
						"+---+------+----------------+------+------+-----+--------------------+\n",
						"only showing top 20 rows\n"
					]
				}
			],
			"source": [
				"df2.show()"
			]
		},
		{
			"cell_type": "markdown",
			"metadata": {},
			"source": [
				"### 70. Select DF Columns\n",
				"Exist three ways to select columns: \n",
				"```python \n",
				"df.select(col(\"col1\"),col(\"col2\"))  \n",
				"df.select(df.col1, df.col2)\n",
				"\n",
				"import pyspark.sql.functions import col\n",
				"df.select(\"col1\",\"col2\")\n",
				"```"
			]
		},
		{
			"cell_type": "code",
			"execution_count": 8,
			"metadata": {
				"trusted": true,
				"vscode": {
					"languageId": "python_glue_session"
				}
			},
			"outputs": [
				{
					"name": "stdout",
					"output_type": "stream",
					"text": [
						"\n"
					]
				}
			],
			"source": [
				"df= spark.read.options(inferSchema = True, header = True).csv('s3://xxxxxxxx/StudentData.csv')"
			]
		},
		{
			"cell_type": "code",
			"execution_count": 9,
			"metadata": {
				"trusted": true,
				"vscode": {
					"languageId": "python_glue_session"
				}
			},
			"outputs": [
				{
					"name": "stdout",
					"output_type": "stream",
					"text": [
						"+---+------+----------------+------+-----+-----+--------------------+\n",
						"|age|gender|            name|course| roll|marks|               email|\n",
						"+---+------+----------------+------+-----+-----+--------------------+\n",
						"| 28|Female| Hubert Oliveras|    DB| 2984|   59|Annika Hoffman_Na...|\n",
						"| 29|Female|Toshiko Hillyard| Cloud|12899|   62|Margene Moores_Ma...|\n",
						"| 28|  Male|  Celeste Lollis|    PF|21267|   45|Jeannetta Golden_...|\n",
						"| 29|Female|    Elenore Choy|    DB|32877|   29|Billi Clore_Mitzi...|\n",
						"| 28|  Male|  Sheryll Towler|   DSA|41487|   41|Claude Panos_Judi...|\n",
						"| 28|  Male|  Margene Moores|   MVC|52771|   32|Toshiko Hillyard_...|\n",
						"| 28|  Male|     Neda Briski|   OOP|61973|   69|Alberta Freund_El...|\n",
						"| 28|Female|    Claude Panos| Cloud|72409|   85|Sheryll Towler_Al...|\n",
						"| 28|  Male|  Celeste Lollis|   MVC|81492|   64|Nicole Harwood_Cl...|\n",
						"| 29|  Male|  Cordie Harnois|   OOP|92882|   51|Judie Chipps_Clem...|\n",
						"+---+------+----------------+------+-----+-----+--------------------+\n",
						"only showing top 10 rows\n"
					]
				}
			],
			"source": [
				"df.show(10)"
			]
		},
		{
			"cell_type": "code",
			"execution_count": 10,
			"metadata": {
				"trusted": true,
				"vscode": {
					"languageId": "python_glue_session"
				}
			},
			"outputs": [
				{
					"name": "stdout",
					"output_type": "stream",
					"text": [
						"+------+------+\n",
						"|gender|gender|\n",
						"+------+------+\n",
						"|Female|Female|\n",
						"|Female|Female|\n",
						"+------+------+\n",
						"only showing top 2 rows\n"
					]
				}
			],
			"source": [
				"df2 = df.select(\"gender\",\"gender\")\n",
				"df2.show(2)"
			]
		},
		{
			"cell_type": "code",
			"execution_count": 11,
			"metadata": {
				"trusted": true,
				"vscode": {
					"languageId": "python_glue_session"
				}
			},
			"outputs": [
				{
					"name": "stdout",
					"output_type": "stream",
					"text": [
						"+----------------+------+---+\n",
						"|            name|gender|age|\n",
						"+----------------+------+---+\n",
						"| Hubert Oliveras|Female| 28|\n",
						"|Toshiko Hillyard|Female| 29|\n",
						"|  Celeste Lollis|  Male| 28|\n",
						"+----------------+------+---+\n",
						"only showing top 3 rows\n"
					]
				}
			],
			"source": [
				"df3 = df.select(df.name, df.gender, df.age)\n",
				"df3.show(3)"
			]
		},
		{
			"cell_type": "markdown",
			"metadata": {},
			"source": [
				"import pyspark.sql.functions import col\n",
				"df.select(\"col1\",\"col2\")"
			]
		},
		{
			"cell_type": "code",
			"execution_count": 19,
			"metadata": {
				"trusted": true,
				"vscode": {
					"languageId": "python_glue_session"
				}
			},
			"outputs": [
				{
					"name": "stdout",
					"output_type": "stream",
					"text": [
						"+------+---+\n",
						"|gender|age|\n",
						"+------+---+\n",
						"|Female| 28|\n",
						"|Female| 29|\n",
						"+------+---+\n",
						"only showing top 2 rows\n"
					]
				}
			],
			"source": [
				"from pyspark.sql.functions import col\n",
				"df.select(col(\"gender\"),col(\"age\")).show(2)"
			]
		},
		{
			"cell_type": "code",
			"execution_count": 20,
			"metadata": {
				"trusted": true,
				"vscode": {
					"languageId": "python_glue_session"
				}
			},
			"outputs": [
				{
					"name": "stdout",
					"output_type": "stream",
					"text": [
						"+---+------+----------------+------+-----+-----+--------------------+\n",
						"|age|gender|            name|course| roll|marks|               email|\n",
						"+---+------+----------------+------+-----+-----+--------------------+\n",
						"| 28|Female| Hubert Oliveras|    DB| 2984|   59|Annika Hoffman_Na...|\n",
						"| 29|Female|Toshiko Hillyard| Cloud|12899|   62|Margene Moores_Ma...|\n",
						"+---+------+----------------+------+-----+-----+--------------------+\n",
						"only showing top 2 rows\n"
					]
				}
			],
			"source": [
				"df.select(\"*\").show(2)"
			]
		},
		{
			"cell_type": "code",
			"execution_count": 22,
			"metadata": {
				"trusted": true,
				"vscode": {
					"languageId": "python_glue_session"
				}
			},
			"outputs": [
				{
					"name": "stdout",
					"output_type": "stream",
					"text": [
						"+---+------+----------------+------+-----+-----+--------------------+\n",
						"|age|gender|            name|course| roll|marks|               email|\n",
						"+---+------+----------------+------+-----+-----+--------------------+\n",
						"| 28|Female| Hubert Oliveras|    DB| 2984|   59|Annika Hoffman_Na...|\n",
						"| 29|Female|Toshiko Hillyard| Cloud|12899|   62|Margene Moores_Ma...|\n",
						"+---+------+----------------+------+-----+-----+--------------------+\n",
						"only showing top 2 rows\n"
					]
				}
			],
			"source": [
				"df.select(\"*\").show(2)"
			]
		},
		{
			"cell_type": "markdown",
			"metadata": {},
			"source": [
				"### 71. withColumn\n",
				"withColumn is used for manipulating or creating new columns\n",
				"```python \n",
				"from pyspark.sql.functions import col, lit\n",
				"df2 = df2.withColumn(\"Country\", lit(\"US\"))\n",
				"```"
			]
		},
		{
			"cell_type": "code",
			"execution_count": 23,
			"metadata": {
				"trusted": true,
				"vscode": {
					"languageId": "python_glue_session"
				}
			},
			"outputs": [
				{
					"name": "stdout",
					"output_type": "stream",
					"text": [
						"\n"
					]
				}
			],
			"source": [
				"df= spark.read.options(inferSchema = True, header = True).csv('s3://xxxxxxxx/StudentData.csv')"
			]
		},
		{
			"cell_type": "code",
			"execution_count": 24,
			"metadata": {
				"trusted": true,
				"vscode": {
					"languageId": "python_glue_session"
				}
			},
			"outputs": [
				{
					"name": "stdout",
					"output_type": "stream",
					"text": [
						"root\n",
						" |-- age: integer (nullable = true)\n",
						" |-- gender: string (nullable = true)\n",
						" |-- name: string (nullable = true)\n",
						" |-- course: string (nullable = true)\n",
						" |-- roll: integer (nullable = true)\n",
						" |-- marks: integer (nullable = true)\n",
						" |-- email: string (nullable = true)\n"
					]
				}
			],
			"source": [
				"df.printSchema()"
			]
		},
		{
			"cell_type": "code",
			"execution_count": 31,
			"metadata": {
				"trusted": true,
				"vscode": {
					"languageId": "python_glue_session"
				}
			},
			"outputs": [
				{
					"name": "stdout",
					"output_type": "stream",
					"text": [
						"+---+------+----------------+------+-----+-----+--------------------+\n",
						"|age|gender|            name|course| roll|marks|               email|\n",
						"+---+------+----------------+------+-----+-----+--------------------+\n",
						"| 28|Female| Hubert Oliveras|    DB| 2984|   59|Annika Hoffman_Na...|\n",
						"| 29|Female|Toshiko Hillyard| Cloud|12899|   62|Margene Moores_Ma...|\n",
						"+---+------+----------------+------+-----+-----+--------------------+\n",
						"only showing top 2 rows\n"
					]
				}
			],
			"source": [
				"from pyspark.sql.functions import col\n",
				"df.withColumn(\"roll\", col(\"roll\")).show(2)"
			]
		},
		{
			"cell_type": "code",
			"execution_count": 34,
			"metadata": {
				"trusted": true,
				"vscode": {
					"languageId": "python_glue_session"
				}
			},
			"outputs": [
				{
					"name": "stdout",
					"output_type": "stream",
					"text": [
						"\n"
					]
				}
			],
			"source": [
				"df2 = df.withColumn(\"roll\", col(\"roll\").cast(\"String\"))"
			]
		},
		{
			"cell_type": "code",
			"execution_count": 35,
			"metadata": {
				"trusted": true,
				"vscode": {
					"languageId": "python_glue_session"
				}
			},
			"outputs": [
				{
					"name": "stdout",
					"output_type": "stream",
					"text": [
						"root\n",
						" |-- age: integer (nullable = true)\n",
						" |-- gender: string (nullable = true)\n",
						" |-- name: string (nullable = true)\n",
						" |-- course: string (nullable = true)\n",
						" |-- roll: string (nullable = true)\n",
						" |-- marks: integer (nullable = true)\n",
						" |-- email: string (nullable = true)\n"
					]
				}
			],
			"source": [
				"df2.printSchema()"
			]
		},
		{
			"cell_type": "code",
			"execution_count": 36,
			"metadata": {
				"trusted": true,
				"vscode": {
					"languageId": "python_glue_session"
				}
			},
			"outputs": [
				{
					"name": "stdout",
					"output_type": "stream",
					"text": [
						"+---+------+----------------+------+-----+-----+--------------------+------+\n",
						"|age|gender|            name|course| roll|marks|               email|marks2|\n",
						"+---+------+----------------+------+-----+-----+--------------------+------+\n",
						"| 28|Female| Hubert Oliveras|    DB| 2984|   59|Annika Hoffman_Na...|    69|\n",
						"| 29|Female|Toshiko Hillyard| Cloud|12899|   62|Margene Moores_Ma...|    72|\n",
						"+---+------+----------------+------+-----+-----+--------------------+------+\n",
						"only showing top 2 rows\n"
					]
				}
			],
			"source": [
				"df2 = df2.withColumn(\"marks2\", col(\"marks\")+10)\n",
				"df2.show(2)"
			]
		},
		{
			"cell_type": "code",
			"execution_count": 37,
			"metadata": {
				"trusted": true,
				"vscode": {
					"languageId": "python_glue_session"
				}
			},
			"outputs": [
				{
					"name": "stdout",
					"output_type": "stream",
					"text": [
						"+---+------+----------------+------+-----+-----+--------------------+------+----------+\n",
						"|age|gender|            name|course| roll|marks|               email|marks2|marks_subs|\n",
						"+---+------+----------------+------+-----+-----+--------------------+------+----------+\n",
						"| 28|Female| Hubert Oliveras|    DB| 2984|   59|Annika Hoffman_Na...|    69|       -10|\n",
						"| 29|Female|Toshiko Hillyard| Cloud|12899|   62|Margene Moores_Ma...|    72|       -10|\n",
						"+---+------+----------------+------+-----+-----+--------------------+------+----------+\n",
						"only showing top 2 rows\n"
					]
				}
			],
			"source": [
				"df2 = df2.withColumn(\"marks_subs\", col(\"marks\")-col(\"marks2\"))\n",
				"df2.show(2)"
			]
		},
		{
			"cell_type": "code",
			"execution_count": 38,
			"metadata": {
				"trusted": true,
				"vscode": {
					"languageId": "python_glue_session"
				}
			},
			"outputs": [
				{
					"name": "stdout",
					"output_type": "stream",
					"text": [
						"AssertionError: col should be Column\n"
					]
				}
			],
			"source": [
				"df2 = df2.withColumn(\"Country\", \"US\")"
			]
		},
		{
			"cell_type": "markdown",
			"metadata": {},
			"source": [
				"To fix the previous error, we can import literal:\n",
				"```python\n",
				"from pyspark.sql.functions import col, lit\n",
				"```"
			]
		},
		{
			"cell_type": "code",
			"execution_count": 42,
			"metadata": {
				"trusted": true,
				"vscode": {
					"languageId": "python_glue_session"
				}
			},
			"outputs": [
				{
					"name": "stdout",
					"output_type": "stream",
					"text": [
						"+---+------+----------------+------+-----+-----+--------------------+------+----------+-------+\n",
						"|age|gender|            name|course| roll|marks|               email|marks2|marks_subs|Country|\n",
						"+---+------+----------------+------+-----+-----+--------------------+------+----------+-------+\n",
						"| 28|Female| Hubert Oliveras|    DB| 2984|   59|Annika Hoffman_Na...|    69|       -10|     US|\n",
						"| 29|Female|Toshiko Hillyard| Cloud|12899|   62|Margene Moores_Ma...|    72|       -10|     US|\n",
						"+---+------+----------------+------+-----+-----+--------------------+------+----------+-------+\n",
						"only showing top 2 rows\n"
					]
				}
			],
			"source": [
				"from pyspark.sql.functions import col, lit\n",
				"df2 = df2.withColumn(\"Country\", lit(\"US\"))\n",
				"df2.show(2)"
			]
		},
		{
			"cell_type": "code",
			"execution_count": null,
			"metadata": {
				"trusted": true,
				"vscode": {
					"languageId": "python_glue_session"
				}
			},
			"outputs": [],
			"source": [
				"df.show()"
			]
		},
		{
			"cell_type": "code",
			"execution_count": 1,
			"metadata": {
				"trusted": true,
				"vscode": {
					"languageId": "python_glue_session"
				}
			},
			"outputs": [
				{
					"name": "stdout",
					"output_type": "stream",
					"text": [
						"NameError: name 'df' is not defined\n"
					]
				}
			],
			"source": [
				"df.withColumn('',col('')).withColumn('',col('')).show()"
			]
		},
		{
			"cell_type": "markdown",
			"metadata": {},
			"source": [
				"### 72. Spark DF withColumnRenamed and Alias\n",
				"this function is to rename columns\n",
				"```python\n",
				"#\n",
				"```"
			]
		},
		{
			"cell_type": "code",
			"execution_count": 8,
			"metadata": {
				"trusted": true,
				"vscode": {
					"languageId": "python_glue_session"
				}
			},
			"outputs": [
				{
					"name": "stdout",
					"output_type": "stream",
					"text": [
						"+---+------+----------------+------+-----+-----+--------------------+\n",
						"|age|gender|            name|course| roll|marks|               email|\n",
						"+---+------+----------------+------+-----+-----+--------------------+\n",
						"| 28|Female| Hubert Oliveras|    DB| 2984|   59|Annika Hoffman_Na...|\n",
						"| 29|Female|Toshiko Hillyard| Cloud|12899|   62|Margene Moores_Ma...|\n",
						"+---+------+----------------+------+-----+-----+--------------------+\n",
						"only showing top 2 rows\n"
					]
				}
			],
			"source": [
				"from pyspark.sql.functions import col, lit\n",
				"df= spark.read.options(inferSchema = True, header = True).csv('s3://xxxxxxxx/StudentData.csv')\n",
				"df.show(2)"
			]
		},
		{
			"cell_type": "code",
			"execution_count": 9,
			"metadata": {
				"trusted": true,
				"vscode": {
					"languageId": "python_glue_session"
				}
			},
			"outputs": [
				{
					"name": "stdout",
					"output_type": "stream",
					"text": [
						"+---+------+----------------+------+-----------+-----+--------------------+\n",
						"|age|   sex|            name|course|roll number|marks|               email|\n",
						"+---+------+----------------+------+-----------+-----+--------------------+\n",
						"| 28|Female| Hubert Oliveras|    DB|       2984|   59|Annika Hoffman_Na...|\n",
						"| 29|Female|Toshiko Hillyard| Cloud|      12899|   62|Margene Moores_Ma...|\n",
						"+---+------+----------------+------+-----------+-----+--------------------+\n",
						"only showing top 2 rows\n"
					]
				}
			],
			"source": [
				"df2 = df.withColumnRenamed(\"gender\", \"sex\").withColumnRenamed(\"roll\", \"roll number\") # it doesn't throw error if column doesn't exist\n",
				"df2.show(2)"
			]
		},
		{
			"cell_type": "code",
			"execution_count": 14,
			"metadata": {
				"trusted": true,
				"vscode": {
					"languageId": "python_glue_session"
				}
			},
			"outputs": [
				{
					"name": "stdout",
					"output_type": "stream",
					"text": [
						"+----------------+\n",
						"|       Full Name|\n",
						"+----------------+\n",
						"| Hubert Oliveras|\n",
						"|Toshiko Hillyard|\n",
						"+----------------+\n",
						"only showing top 2 rows\n"
					]
				}
			],
			"source": [
				"df.select(col(\"name\").alias(\"Full Name\")).show(2) #create an alias without modify the df"
			]
		},
		{
			"cell_type": "code",
			"execution_count": 12,
			"metadata": {
				"trusted": true,
				"vscode": {
					"languageId": "python_glue_session"
				}
			},
			"outputs": [
				{
					"name": "stdout",
					"output_type": "stream",
					"text": [
						"+---+------+----------------+------+-----+-----+--------------------+\n",
						"|age|gender|            name|course| roll|marks|               email|\n",
						"+---+------+----------------+------+-----+-----+--------------------+\n",
						"| 28|Female| Hubert Oliveras|    DB| 2984|   59|Annika Hoffman_Na...|\n",
						"| 29|Female|Toshiko Hillyard| Cloud|12899|   62|Margene Moores_Ma...|\n",
						"+---+------+----------------+------+-----+-----+--------------------+\n",
						"only showing top 2 rows\n"
					]
				}
			],
			"source": [
				"df.show(2)"
			]
		},
		{
			"cell_type": "markdown",
			"metadata": {},
			"source": [
				"### 73. Spark DF Filter rows\n",
				"##### filter / where in DataFrame\n",
				"both works in the same way"
			]
		},
		{
			"cell_type": "code",
			"execution_count": 1,
			"metadata": {
				"trusted": true,
				"vscode": {
					"languageId": "python_glue_session"
				}
			},
			"outputs": [
				{
					"name": "stdout",
					"output_type": "stream",
					"text": [
						"+---+------+----------------+------+-----+-----+--------------------+\n",
						"|age|gender|            name|course| roll|marks|               email|\n",
						"+---+------+----------------+------+-----+-----+--------------------+\n",
						"| 28|Female| Hubert Oliveras|    DB| 2984|   59|Annika Hoffman_Na...|\n",
						"| 29|Female|Toshiko Hillyard| Cloud|12899|   62|Margene Moores_Ma...|\n",
						"+---+------+----------------+------+-----+-----+--------------------+\n",
						"only showing top 2 rows\n"
					]
				}
			],
			"source": [
				"from pyspark.sql.functions import col, lit\n",
				"df= spark.read.options(inferSchema = True, header = True).csv('s3://xxxxxxxx/StudentData.csv')\n",
				"df.show(2)"
			]
		},
		{
			"cell_type": "code",
			"execution_count": 16,
			"metadata": {
				"trusted": true,
				"vscode": {
					"languageId": "python_glue_session"
				}
			},
			"outputs": [
				{
					"name": "stdout",
					"output_type": "stream",
					"text": [
						"+---+------+-----------------+------+-------+-----+--------------------+\n",
						"|age|gender|             name|course|   roll|marks|               email|\n",
						"+---+------+-----------------+------+-------+-----+--------------------+\n",
						"| 28|Female|  Hubert Oliveras|    DB|   2984|   59|Annika Hoffman_Na...|\n",
						"| 29|Female|     Elenore Choy|    DB|  32877|   29|Billi Clore_Mitzi...|\n",
						"| 29|  Male|  Ernest Rossbach|    DB| 111449|   53|Maybell Duguay_Ab...|\n",
						"| 28|Female|   Latia Vanhoose|    DB| 122502|   27|Latia Vanhoose_Mi...|\n",
						"| 29|Female|   Latia Vanhoose|    DB| 152159|   27|Claude Panos_Sant...|\n",
						"| 28|Female| Mickey Cortright|    DB| 192537|   62|Ernest Rossbach_M...|\n",
						"| 28|Female|      Anna Santos|    DB| 311589|   79|Celeste Lollis_Mi...|\n",
						"| 28|  Male|    Kizzy Brenner|    DB| 381712|   36|Paris Hutton_Kena...|\n",
						"| 28|  Male| Toshiko Hillyard|    DB| 392218|   47|Leontine Phillips...|\n",
						"| 29|  Male|     Paris Hutton|    DB| 481229|   57|Clementina Menke_...|\n",
						"| 28|Female| Mickey Cortright|    DB| 551389|   43|Tijuana Kropf_Jen...|\n",
						"| 28|Female|Leontine Phillips|    DB| 602404|   48|Neda Briski_Cheri...|\n",
						"| 28|Female|  Hubert Oliveras|    DB| 771081|   79|Kizzy Brenner_Dus...|\n",
						"| 29|Female|     Elenore Choy|    DB| 811824|   55|Maybell Duguay_Me...|\n",
						"| 29|  Male| Clementina Menke|    DB| 882200|   76|Michelle Ruggiero...|\n",
						"| 29|Female|  Sebrina Maresca|    DB| 922210|   54|Toshiko Hillyard_...|\n",
						"| 29|  Male|     Naoma Fritts|    DB| 931295|   79|Hubert Oliveras_S...|\n",
						"| 28|  Male|   Annika Hoffman|    DB|1031544|   44|Dustin Feagins_So...|\n",
						"| 28|  Male|   Nicole Harwood|    DB|1211495|   28|Melani Engberg_Jc...|\n",
						"| 29|Female|     Claude Panos|    DB|1222887|   75|Hubert Oliveras_S...|\n",
						"+---+------+-----------------+------+-------+-----+--------------------+\n",
						"only showing top 20 rows\n"
					]
				}
			],
			"source": [
				"df.filter(df.course == \"DB\").show()"
			]
		},
		{
			"cell_type": "code",
			"execution_count": 18,
			"metadata": {
				"trusted": true,
				"vscode": {
					"languageId": "python_glue_session"
				}
			},
			"outputs": [
				{
					"name": "stdout",
					"output_type": "stream",
					"text": [
						"+---+------+---------------+------+------+-----+--------------------+\n",
						"|age|gender|           name|course|  roll|marks|               email|\n",
						"+---+------+---------------+------+------+-----+--------------------+\n",
						"| 28|Female|Hubert Oliveras|    DB|  2984|   59|Annika Hoffman_Na...|\n",
						"| 29|Female|   Elenore Choy|    DB| 32877|   29|Billi Clore_Mitzi...|\n",
						"| 29|  Male|Ernest Rossbach|    DB|111449|   53|Maybell Duguay_Ab...|\n",
						"+---+------+---------------+------+------+-----+--------------------+\n",
						"only showing top 3 rows\n"
					]
				}
			],
			"source": [
				"df.filter(col(\"course\") == \"DB\").show(3)"
			]
		},
		{
			"cell_type": "code",
			"execution_count": 20,
			"metadata": {
				"trusted": true,
				"vscode": {
					"languageId": "python_glue_session"
				}
			},
			"outputs": [
				{
					"name": "stdout",
					"output_type": "stream",
					"text": [
						"+---+------+----------------+------+------+-----+--------------------+\n",
						"|age|gender|            name|course|  roll|marks|               email|\n",
						"+---+------+----------------+------+------+-----+--------------------+\n",
						"| 28|Female| Hubert Oliveras|    DB|  2984|   59|Annika Hoffman_Na...|\n",
						"| 29|  Male| Ernest Rossbach|    DB|111449|   53|Maybell Duguay_Ab...|\n",
						"| 28|Female|Mickey Cortright|    DB|192537|   62|Ernest Rossbach_M...|\n",
						"| 28|Female|     Anna Santos|    DB|311589|   79|Celeste Lollis_Mi...|\n",
						"| 29|  Male|    Paris Hutton|    DB|481229|   57|Clementina Menke_...|\n",
						"| 28|Female| Hubert Oliveras|    DB|771081|   79|Kizzy Brenner_Dus...|\n",
						"| 29|Female|    Elenore Choy|    DB|811824|   55|Maybell Duguay_Me...|\n",
						"| 29|  Male|Clementina Menke|    DB|882200|   76|Michelle Ruggiero...|\n",
						"| 29|Female| Sebrina Maresca|    DB|922210|   54|Toshiko Hillyard_...|\n",
						"| 29|  Male|    Naoma Fritts|    DB|931295|   79|Hubert Oliveras_S...|\n",
						"+---+------+----------------+------+------+-----+--------------------+\n",
						"only showing top 10 rows\n"
					]
				}
			],
			"source": [
				"df.filter( (df.course == \"DB\") & (df.marks > 50) ).show(10)"
			]
		},
		{
			"cell_type": "code",
			"execution_count": 24,
			"metadata": {
				"trusted": true,
				"vscode": {
					"languageId": "python_glue_session"
				}
			},
			"outputs": [
				{
					"name": "stdout",
					"output_type": "stream",
					"text": [
						"+---+------+----------------+------+------+-----+--------------------+\n",
						"|age|gender|            name|course|  roll|marks|               email|\n",
						"+---+------+----------------+------+------+-----+--------------------+\n",
						"| 28|Female| Hubert Oliveras|    DB|  2984|   59|Annika Hoffman_Na...|\n",
						"| 29|Female|Toshiko Hillyard| Cloud| 12899|   62|Margene Moores_Ma...|\n",
						"| 28|  Male|     Neda Briski|   OOP| 61973|   69|Alberta Freund_El...|\n",
						"| 28|Female|    Claude Panos| Cloud| 72409|   85|Sheryll Towler_Al...|\n",
						"| 29|  Male|  Cordie Harnois|   OOP| 92882|   51|Judie Chipps_Clem...|\n",
						"| 29|  Male| Ernest Rossbach|    DB|111449|   53|Maybell Duguay_Ab...|\n",
						"| 28|Female|Mickey Cortright|    DB|192537|   62|Ernest Rossbach_M...|\n",
						"| 28|Female|       Kena Wild| Cloud|221750|   60|Mitzi Seldon_Jenn...|\n",
						"| 28|Female|    Jc Andrepont|   DSA|232060|   58|Billi Clore_Abram...|\n",
						"| 29|Female|     Anna Santos| Cloud|242254|   68|Jc Andrepont_Hube...|\n",
						"+---+------+----------------+------+------+-----+--------------------+\n",
						"only showing top 10 rows\n"
					]
				}
			],
			"source": [
				"courses = ['DB','Cloud','OOP', 'DSA']        #### df.column.isin(.....)\n",
				"df.filter( (df.course.isin(courses)) & (df.marks > 50) ).show(10)"
			]
		},
		{
			"cell_type": "code",
			"execution_count": 27,
			"metadata": {
				"trusted": true,
				"vscode": {
					"languageId": "python_glue_session"
				}
			},
			"outputs": [
				{
					"name": "stdout",
					"output_type": "stream",
					"text": [
						"+---+------+----------------+------+------+-----+--------------------+\n",
						"|age|gender|            name|course|  roll|marks|               email|\n",
						"+---+------+----------------+------+------+-----+--------------------+\n",
						"| 28|Female| Hubert Oliveras|    DB|  2984|   59|Annika Hoffman_Na...|\n",
						"| 29|Female|    Elenore Choy|    DB| 32877|   29|Billi Clore_Mitzi...|\n",
						"| 28|  Male|  Sheryll Towler|   DSA| 41487|   41|Claude Panos_Judi...|\n",
						"| 29|Female|       Kena Wild|   DSA|102285|   35|Dustin Feagins_Ma...|\n",
						"| 29|  Male| Ernest Rossbach|    DB|111449|   53|Maybell Duguay_Ab...|\n",
						"| 28|Female|  Latia Vanhoose|    DB|122502|   27|Latia Vanhoose_Mi...|\n",
						"| 29|Female|  Latia Vanhoose|    DB|152159|   27|Claude Panos_Sant...|\n",
						"| 28|Female|Mickey Cortright|    DB|192537|   62|Ernest Rossbach_M...|\n",
						"| 28|Female|    Jc Andrepont|   DSA|232060|   58|Billi Clore_Abram...|\n",
						"| 29|Female|    Paris Hutton|   DSA|271472|   99|Sheryll Towler_Al...|\n",
						"+---+------+----------------+------+------+-----+--------------------+\n",
						"only showing top 10 rows\n"
					]
				}
			],
			"source": [
				"df.filter( df.course.startswith(\"D\") ).show(10) ### startswith"
			]
		},
		{
			"cell_type": "code",
			"execution_count": 29,
			"metadata": {
				"trusted": true,
				"vscode": {
					"languageId": "python_glue_session"
				}
			},
			"outputs": [
				{
					"name": "stdout",
					"output_type": "stream",
					"text": [
						"+---+------+----------------+------+------+-----+--------------------+\n",
						"|age|gender|            name|course|  roll|marks|               email|\n",
						"+---+------+----------------+------+------+-----+--------------------+\n",
						"| 28|  Male|  Sheryll Towler|   DSA| 41487|   41|Claude Panos_Judi...|\n",
						"| 29|Female|       Kena Wild|   DSA|102285|   35|Dustin Feagins_Ma...|\n",
						"| 28|Female|    Jc Andrepont|   DSA|232060|   58|Billi Clore_Abram...|\n",
						"| 29|Female|    Paris Hutton|   DSA|271472|   99|Sheryll Towler_Al...|\n",
						"| 28|Female|  Dustin Feagins|   DSA|291984|   82|Abram Nagao_Kena ...|\n",
						"| 28|Female|Mickey Cortright|   DSA|342003|   44|Mitzi Seldon_Jean...|\n",
						"| 29|Female|     Anna Santos|   DSA|411479|   42|Kena Wild_Mitzi S...|\n",
						"| 28|Female|  Maybell Duguay|   DSA|452141|   29|Leontine Phillips...|\n",
						"| 29|Female|    Paris Hutton|   DSA|492159|   60|Nicole Harwood_Ma...|\n",
						"| 29|  Male|  Celeste Lollis|   DSA|562065|   85|Jc Andrepont_Mela...|\n",
						"+---+------+----------------+------+------+-----+--------------------+\n",
						"only showing top 10 rows\n"
					]
				}
			],
			"source": [
				"df.filter( df.course.endswith(\"A\") ).show(10) ### endswith"
			]
		},
		{
			"cell_type": "code",
			"execution_count": 4,
			"metadata": {
				"trusted": true,
				"vscode": {
					"languageId": "python_glue_session"
				}
			},
			"outputs": [
				{
					"name": "stdout",
					"output_type": "stream",
					"text": [
						"+---+------+--------------+------+-------+-----+--------------------+\n",
						"|age|gender|          name|course|   roll|marks|               email|\n",
						"+---+------+--------------+------+-------+-----+--------------------+\n",
						"| 29|  Male|Annika Hoffman|   OOP| 171660|   22|Taryn Brownlee_Mi...|\n",
						"| 29|  Male|Annika Hoffman|   OOP| 472550|   35|Mitzi Seldon_Abra...|\n",
						"| 28|  Male|Annika Hoffman| Cloud| 722193|   55|Taryn Brownlee_El...|\n",
						"| 28|  Male|Annika Hoffman|    DB|1031544|   44|Dustin Feagins_So...|\n",
						"| 29|Female|Annika Hoffman|   OOP|1551846|   50|Paris Hutton_Mela...|\n",
						"| 29|Female|Annika Hoffman|    PF|2192313|   49|Naoma Fritts_Tiju...|\n",
						"| 29|  Male|Annika Hoffman|    PF|2301940|   81|Jenna Montague_Sh...|\n",
						"| 29|Female|Annika Hoffman|    PF|2532233|   74|Somer Stoecker_An...|\n",
						"| 29|  Male|Annika Hoffman| Cloud|3051363|   57|Paris Hutton_Leon...|\n",
						"| 29|  Male|Annika Hoffman|   DSA|3471063|   42|Bonita Higuera_Co...|\n",
						"+---+------+--------------+------+-------+-----+--------------------+\n",
						"only showing top 10 rows\n"
					]
				}
			],
			"source": [
				"df.filter( df.name.contains(\"nnika\") ).show(10) ### endswith"
			]
		},
		{
			"cell_type": "code",
			"execution_count": 6,
			"metadata": {
				"trusted": true,
				"vscode": {
					"languageId": "python_glue_session"
				}
			},
			"outputs": [
				{
					"name": "stdout",
					"output_type": "stream",
					"text": [
						"+---+------+--------------+------+-------+-----+--------------------+\n",
						"|age|gender|          name|course|   roll|marks|               email|\n",
						"+---+------+--------------+------+-------+-----+--------------------+\n",
						"| 29|  Male|Annika Hoffman|   OOP| 171660|   22|Taryn Brownlee_Mi...|\n",
						"| 29|  Male|Annika Hoffman|   OOP| 472550|   35|Mitzi Seldon_Abra...|\n",
						"| 28|  Male|Annika Hoffman| Cloud| 722193|   55|Taryn Brownlee_El...|\n",
						"| 28|  Male|Annika Hoffman|    DB|1031544|   44|Dustin Feagins_So...|\n",
						"| 29|Female|Annika Hoffman|   OOP|1551846|   50|Paris Hutton_Mela...|\n",
						"| 29|Female|Annika Hoffman|    PF|2192313|   49|Naoma Fritts_Tiju...|\n",
						"| 29|  Male|Annika Hoffman|    PF|2301940|   81|Jenna Montague_Sh...|\n",
						"| 29|Female|Annika Hoffman|    PF|2532233|   74|Somer Stoecker_An...|\n",
						"| 29|  Male|Annika Hoffman| Cloud|3051363|   57|Paris Hutton_Leon...|\n",
						"| 29|  Male|Annika Hoffman|   DSA|3471063|   42|Bonita Higuera_Co...|\n",
						"+---+------+--------------+------+-------+-----+--------------------+\n",
						"only showing top 10 rows\n"
					]
				}
			],
			"source": [
				"df.filter( df.name.like(\"%ff%\") ).show(10) ### endswith"
			]
		},
		{
			"cell_type": "markdown",
			"metadata": {
				"tags": []
			},
			"source": [
				"### 74. Quiz (select, withColumn, filter) \n",
				"### 75. Quiz Solution\n",
				"- [check] Read the file in the DF \n",
				"- [check] Create a new column in the DF for total marks and let the total marks be 120 \n",
				"- Create a new column average to calculate the average marks of the student. (mark/total marks)/100\n",
				"- Filter out all those students who have achieved more than 80% marks in OOP course and save it in a new DF\n",
				"- Filter out all those students who have achieved more than 60% marks in Cloud course and save it in a new DF \n",
				"- Print the names and marks of all the students from the above DFs"
			]
		},
		{
			"cell_type": "code",
			"execution_count": 30,
			"metadata": {
				"trusted": true,
				"vscode": {
					"languageId": "python_glue_session"
				}
			},
			"outputs": [
				{
					"name": "stdout",
					"output_type": "stream",
					"text": [
						"+---+------+----------------+------+-----+-----+--------------------+\n",
						"|age|gender|            name|course| roll|marks|               email|\n",
						"+---+------+----------------+------+-----+-----+--------------------+\n",
						"| 28|Female| Hubert Oliveras|    DB| 2984|   59|Annika Hoffman_Na...|\n",
						"| 29|Female|Toshiko Hillyard| Cloud|12899|   62|Margene Moores_Ma...|\n",
						"| 28|  Male|  Celeste Lollis|    PF|21267|   45|Jeannetta Golden_...|\n",
						"+---+------+----------------+------+-----+-----+--------------------+\n",
						"only showing top 3 rows\n"
					]
				}
			],
			"source": [
				"df = spark.read.options(header = True, inferSchema = True).csv('s3://xxxxxxxx/StudentData.csv')\n",
				"df.show(3)"
			]
		},
		{
			"cell_type": "markdown",
			"metadata": {},
			"source": [
				"#### Create a new column in the DF for total marks and let the total marks be 120 "
			]
		},
		{
			"cell_type": "code",
			"execution_count": 31,
			"metadata": {
				"trusted": true,
				"vscode": {
					"languageId": "python_glue_session"
				}
			},
			"outputs": [
				{
					"name": "stdout",
					"output_type": "stream",
					"text": [
						"\n"
					]
				}
			],
			"source": [
				"from pyspark.sql.functions import col, lit\n",
				"df = df.withColumn(\"total_Marks\", lit(120))"
			]
		},
		{
			"cell_type": "code",
			"execution_count": 32,
			"metadata": {
				"trusted": true,
				"vscode": {
					"languageId": "python_glue_session"
				}
			},
			"outputs": [
				{
					"name": "stdout",
					"output_type": "stream",
					"text": [
						"+---+------+----------------+------+-----+-----+--------------------+-----------+\n",
						"|age|gender|            name|course| roll|marks|               email|total_Marks|\n",
						"+---+------+----------------+------+-----+-----+--------------------+-----------+\n",
						"| 28|Female| Hubert Oliveras|    DB| 2984|   59|Annika Hoffman_Na...|        120|\n",
						"| 29|Female|Toshiko Hillyard| Cloud|12899|   62|Margene Moores_Ma...|        120|\n",
						"+---+------+----------------+------+-----+-----+--------------------+-----------+\n",
						"only showing top 2 rows\n"
					]
				}
			],
			"source": [
				"df.show(2)"
			]
		},
		{
			"cell_type": "markdown",
			"metadata": {},
			"source": [
				"#### Create a new column average to calculate the average marks of the student. (mark/total marks)/100"
			]
		},
		{
			"cell_type": "code",
			"execution_count": 33,
			"metadata": {
				"trusted": true,
				"vscode": {
					"languageId": "python_glue_session"
				}
			},
			"outputs": [
				{
					"name": "stdout",
					"output_type": "stream",
					"text": [
						"+---+------+----------------+------+-----+-----+--------------------+-----------+------------------+\n",
						"|age|gender|            name|course| roll|marks|               email|total_Marks|               AVG|\n",
						"+---+------+----------------+------+-----+-----+--------------------+-----------+------------------+\n",
						"| 28|Female| Hubert Oliveras|    DB| 2984|   59|Annika Hoffman_Na...|        120|49.166666666666664|\n",
						"| 29|Female|Toshiko Hillyard| Cloud|12899|   62|Margene Moores_Ma...|        120| 51.66666666666667|\n",
						"| 28|  Male|  Celeste Lollis|    PF|21267|   45|Jeannetta Golden_...|        120|              37.5|\n",
						"| 29|Female|    Elenore Choy|    DB|32877|   29|Billi Clore_Mitzi...|        120|24.166666666666668|\n",
						"| 28|  Male|  Sheryll Towler|   DSA|41487|   41|Claude Panos_Judi...|        120|34.166666666666664|\n",
						"| 28|  Male|  Margene Moores|   MVC|52771|   32|Toshiko Hillyard_...|        120|26.666666666666668|\n",
						"| 28|  Male|     Neda Briski|   OOP|61973|   69|Alberta Freund_El...|        120| 57.49999999999999|\n",
						"| 28|Female|    Claude Panos| Cloud|72409|   85|Sheryll Towler_Al...|        120| 70.83333333333334|\n",
						"| 28|  Male|  Celeste Lollis|   MVC|81492|   64|Nicole Harwood_Cl...|        120|53.333333333333336|\n",
						"| 29|  Male|  Cordie Harnois|   OOP|92882|   51|Judie Chipps_Clem...|        120|              42.5|\n",
						"+---+------+----------------+------+-----+-----+--------------------+-----------+------------------+\n",
						"only showing top 10 rows\n"
					]
				}
			],
			"source": [
				"df = df.withColumn(\"AVG\", col(\"marks\")/col(\"total_Marks\")*100)\n",
				"df.show(10)"
			]
		},
		{
			"cell_type": "markdown",
			"metadata": {},
			"source": [
				"#### Filter out all those students who have achieved more than 80% marks in OOP course and save it in a new DF"
			]
		},
		{
			"cell_type": "code",
			"execution_count": 36,
			"metadata": {
				"trusted": true,
				"vscode": {
					"languageId": "python_glue_session"
				}
			},
			"outputs": [
				{
					"name": "stdout",
					"output_type": "stream",
					"text": [
						"\n"
					]
				}
			],
			"source": [
				"df_marks = df.filter( (df.course == \"OOP\") &(df.AVG > 80))"
			]
		},
		{
			"cell_type": "code",
			"execution_count": 37,
			"metadata": {
				"trusted": true,
				"vscode": {
					"languageId": "python_glue_session"
				}
			},
			"outputs": [
				{
					"name": "stdout",
					"output_type": "stream",
					"text": [
						"+---+------+------------------+------+-------+-----+--------------------+-----------+-----------------+\n",
						"|age|gender|              name|course|   roll|marks|               email|total_Marks|              AVG|\n",
						"+---+------+------------------+------+-------+-----+--------------------+-----------+-----------------+\n",
						"| 28|  Male|    Jenna Montague|   OOP|3331161|   98|Leontine Phillips...|        120|81.66666666666667|\n",
						"| 29|Female|Priscila Tavernier|   OOP|3902993|   99|Celeste Lollis_Bi...|        120|             82.5|\n",
						"| 28|Female|      Judie Chipps|   OOP|5451977|   99|Tamera Blakley_Mi...|        120|             82.5|\n",
						"+---+------+------------------+------+-------+-----+--------------------+-----------+-----------------+\n",
						"only showing top 3 rows\n"
					]
				}
			],
			"source": [
				"df_marks.show(3)"
			]
		},
		{
			"cell_type": "markdown",
			"metadata": {},
			"source": [
				"#### Filter out all those students who have achieved more than 60% marks in Cloud course and save it in a new DF "
			]
		},
		{
			"cell_type": "code",
			"execution_count": 38,
			"metadata": {
				"trusted": true,
				"vscode": {
					"languageId": "python_glue_session"
				}
			},
			"outputs": [
				{
					"name": "stdout",
					"output_type": "stream",
					"text": [
						"\n"
					]
				}
			],
			"source": [
				"df_marks_cloud = df.filter( (df.course == \"Cloud\") &(df.AVG > 60))"
			]
		},
		{
			"cell_type": "code",
			"execution_count": 39,
			"metadata": {
				"trusted": true,
				"vscode": {
					"languageId": "python_glue_session"
				}
			},
			"outputs": [
				{
					"name": "stdout",
					"output_type": "stream",
					"text": [
						"+---+------+--------------+------+------+-----+--------------------+-----------+-----------------+\n",
						"|age|gender|          name|course|  roll|marks|               email|total_Marks|              AVG|\n",
						"+---+------+--------------+------+------+-----+--------------------+-----------+-----------------+\n",
						"| 28|Female|  Claude Panos| Cloud| 72409|   85|Sheryll Towler_Al...|        120|70.83333333333334|\n",
						"| 29|  Male|   Billi Clore| Cloud|512047|   76|Taryn Brownlee_Ju...|        120|63.33333333333333|\n",
						"| 28|Female|Somer Stoecker| Cloud|612490|   82|Sebrina Maresca_G...|        120|68.33333333333333|\n",
						"+---+------+--------------+------+------+-----+--------------------+-----------+-----------------+\n",
						"only showing top 3 rows\n"
					]
				}
			],
			"source": [
				"df_marks_cloud.show(3)"
			]
		},
		{
			"cell_type": "markdown",
			"metadata": {},
			"source": [
				"#### Print the names and marks of all the students from the above DFs"
			]
		},
		{
			"cell_type": "code",
			"execution_count": 27,
			"metadata": {
				"trusted": true,
				"vscode": {
					"languageId": "python_glue_session"
				}
			},
			"outputs": [
				{
					"name": "stdout",
					"output_type": "stream",
					"text": [
						"+----------------+-----+\n",
						"|            name|marks|\n",
						"+----------------+-----+\n",
						"| Hubert Oliveras|   59|\n",
						"|Toshiko Hillyard|   62|\n",
						"|  Celeste Lollis|   45|\n",
						"|    Elenore Choy|   29|\n",
						"|  Sheryll Towler|   41|\n",
						"|  Margene Moores|   32|\n",
						"|     Neda Briski|   69|\n",
						"|    Claude Panos|   85|\n",
						"|  Celeste Lollis|   64|\n",
						"|  Cordie Harnois|   51|\n",
						"|       Kena Wild|   35|\n",
						"| Ernest Rossbach|   53|\n",
						"|  Latia Vanhoose|   27|\n",
						"|  Latia Vanhoose|   55|\n",
						"|     Neda Briski|   42|\n",
						"|  Latia Vanhoose|   27|\n",
						"|  Loris Crossett|   36|\n",
						"|  Annika Hoffman|   22|\n",
						"|   Santa Kerfien|   56|\n",
						"|Mickey Cortright|   62|\n",
						"+----------------+-----+\n",
						"only showing top 20 rows\n"
					]
				}
			],
			"source": [
				"df.select(df.name, df.marks).show()"
			]
		},
		{
			"cell_type": "markdown",
			"metadata": {},
			"source": [
				"## 76. Spark DF (Count, Distinct, Duplicate)"
			]
		},
		{
			"cell_type": "code",
			"execution_count": 3,
			"metadata": {
				"trusted": true,
				"vscode": {
					"languageId": "python_glue_session"
				}
			},
			"outputs": [
				{
					"name": "stdout",
					"output_type": "stream",
					"text": [
						"+---+------+----------------+------+-----+-----+--------------------+\n",
						"|age|gender|            name|course| roll|marks|               email|\n",
						"+---+------+----------------+------+-----+-----+--------------------+\n",
						"| 28|Female| Hubert Oliveras|    DB| 2984|   59|Annika Hoffman_Na...|\n",
						"| 29|Female|Toshiko Hillyard| Cloud|12899|   62|Margene Moores_Ma...|\n",
						"| 28|  Male|  Celeste Lollis|    PF|21267|   45|Jeannetta Golden_...|\n",
						"+---+------+----------------+------+-----+-----+--------------------+\n",
						"only showing top 3 rows\n"
					]
				}
			],
			"source": [
				"from pyspark.sql.functions import col, lit\n",
				"df = spark.read.options(header = True, inferSchema = True).csv('s3://xxxxxxxx/StudentData.csv')\n",
				"df.show(3)"
			]
		},
		{
			"cell_type": "code",
			"execution_count": 4,
			"metadata": {
				"trusted": true,
				"vscode": {
					"languageId": "python_glue_session"
				}
			},
			"outputs": [
				{
					"name": "stdout",
					"output_type": "stream",
					"text": [
						"1000\n"
					]
				}
			],
			"source": [
				"df.count()"
			]
		},
		{
			"cell_type": "code",
			"execution_count": 8,
			"metadata": {
				"trusted": true,
				"vscode": {
					"languageId": "python_glue_session"
				}
			},
			"outputs": [
				{
					"name": "stdout",
					"output_type": "stream",
					"text": [
						"157\n"
					]
				}
			],
			"source": [
				"df.filter(df.course == \"DB\").count()"
			]
		},
		{
			"cell_type": "markdown",
			"metadata": {},
			"source": [
				"### Distinct"
			]
		},
		{
			"cell_type": "code",
			"execution_count": 13,
			"metadata": {
				"trusted": true,
				"vscode": {
					"languageId": "python_glue_session"
				}
			},
			"outputs": [
				{
					"name": "stdout",
					"output_type": "stream",
					"text": [
						"4\n"
					]
				}
			],
			"source": [
				"df.select(df.gender, df.age).distinct().count()"
			]
		},
		{
			"cell_type": "markdown",
			"metadata": {},
			"source": [
				"### Duplicate - dropDuplicates([col.name])"
			]
		},
		{
			"cell_type": "code",
			"execution_count": 17,
			"metadata": {
				"trusted": true,
				"vscode": {
					"languageId": "python_glue_session"
				}
			},
			"outputs": [
				{
					"name": "stdout",
					"output_type": "stream",
					"text": [
						"+---+------+----------------+------+------+-----+--------------------+\n",
						"|age|gender|            name|course|  roll|marks|               email|\n",
						"+---+------+----------------+------+------+-----+--------------------+\n",
						"| 29|  Male| Ernest Rossbach|    DB|111449|   53|Maybell Duguay_Ab...|\n",
						"| 28|  Male|  Sheryll Towler|   DSA| 41487|   41|Claude Panos_Judi...|\n",
						"| 28|  Male|  Margene Moores|   MVC| 52771|   32|Toshiko Hillyard_...|\n",
						"| 29|Female|Toshiko Hillyard| Cloud| 12899|   62|Margene Moores_Ma...|\n",
						"| 28|Female|  Alberta Freund|   OOP|251805|   83|Annika Hoffman_Sh...|\n",
						"| 29|  Male|     Billi Clore| Cloud|512047|   76|Taryn Brownlee_Ju...|\n",
						"| 28|  Male|     Neda Briski|   OOP| 61973|   69|Alberta Freund_El...|\n",
						"| 29|Female|  Latia Vanhoose|   MVC|132110|   55|Eda Neathery_Nico...|\n",
						"| 28|  Male|  Celeste Lollis|    PF| 21267|   45|Jeannetta Golden_...|\n",
						"| 28|Female| Hubert Oliveras|    DB|  2984|   59|Annika Hoffman_Na...|\n",
						"| 29|Female|  Loris Crossett|    PF|201487|   96|Elenore Choy_Lati...|\n",
						"| 29|Female|       Kena Wild|   DSA|102285|   35|Dustin Feagins_Ma...|\n",
						"+---+------+----------------+------+------+-----+--------------------+\n"
					]
				}
			],
			"source": [
				"df.dropDuplicates([\"gender\", \"course\"]).show()"
			]
		},
		{
			"cell_type": "markdown",
			"metadata": {},
			"source": [
				"## 77. Quiz (Distinct, Duplicate)\n",
				"- Write a code to display all the unique rows for age, gender and course column."
			]
		},
		{
			"cell_type": "code",
			"execution_count": 1,
			"metadata": {
				"trusted": true,
				"vscode": {
					"languageId": "python_glue_session"
				}
			},
			"outputs": [
				{
					"name": "stdout",
					"output_type": "stream",
					"text": [
						"\n"
					]
				}
			],
			"source": [
				"df = spark.read.options(header = True, inferSchema = True).csv('s3://xxxxxxxx/StudentData.csv')"
			]
		},
		{
			"cell_type": "code",
			"execution_count": 2,
			"metadata": {
				"trusted": true,
				"vscode": {
					"languageId": "python_glue_session"
				}
			},
			"outputs": [
				{
					"name": "stdout",
					"output_type": "stream",
					"text": [
						"+---+------+----------------+------+-----+-----+--------------------+\n",
						"|age|gender|            name|course| roll|marks|               email|\n",
						"+---+------+----------------+------+-----+-----+--------------------+\n",
						"| 28|Female| Hubert Oliveras|    DB| 2984|   59|Annika Hoffman_Na...|\n",
						"| 29|Female|Toshiko Hillyard| Cloud|12899|   62|Margene Moores_Ma...|\n",
						"| 28|  Male|  Celeste Lollis|    PF|21267|   45|Jeannetta Golden_...|\n",
						"| 29|Female|    Elenore Choy|    DB|32877|   29|Billi Clore_Mitzi...|\n",
						"| 28|  Male|  Sheryll Towler|   DSA|41487|   41|Claude Panos_Judi...|\n",
						"+---+------+----------------+------+-----+-----+--------------------+\n",
						"only showing top 5 rows\n"
					]
				}
			],
			"source": [
				"df.show(5)"
			]
		},
		{
			"cell_type": "code",
			"execution_count": 10,
			"metadata": {
				"trusted": true,
				"vscode": {
					"languageId": "python_glue_session"
				}
			},
			"outputs": [
				{
					"name": "stdout",
					"output_type": "stream",
					"text": [
						"24\n"
					]
				}
			],
			"source": [
				"df.select(df.age, df.gender, df.course).distinct().count()"
			]
		},
		{
			"cell_type": "code",
			"execution_count": 9,
			"metadata": {
				"trusted": true,
				"vscode": {
					"languageId": "python_glue_session"
				}
			},
			"outputs": [
				{
					"name": "stdout",
					"output_type": "stream",
					"text": [
						"24\n"
					]
				}
			],
			"source": [
				"df.dropDuplicates([\"age\",\"gender\",\"course\"]).select(df.age, df.gender, df.course).count()"
			]
		},
		{
			"cell_type": "markdown",
			"metadata": {},
			"source": [
				"### 79. orderBy() sort()"
			]
		},
		{
			"cell_type": "code",
			"execution_count": 3,
			"metadata": {
				"trusted": true,
				"vscode": {
					"languageId": "python_glue_session"
				}
			},
			"outputs": [
				{
					"name": "stdout",
					"output_type": "stream",
					"text": [
						"+---+------+----------------+------+------+-----+--------------------+\n",
						"|age|gender|            name|course|  roll|marks|               email|\n",
						"+---+------+----------------+------+------+-----+--------------------+\n",
						"| 28|Female|       Kena Wild| Cloud|221750|   60|Mitzi Seldon_Jenn...|\n",
						"| 28|Female|   Tijuana Kropf|    PF|571047|   41|Loris Crossett_Se...|\n",
						"| 28|Female|    Jc Andrepont|   DSA|232060|   58|Billi Clore_Abram...|\n",
						"| 28|Female|    Cheri Kenney|   MVC|321816|   24|Kena Wild_Michell...|\n",
						"| 28|Female|  Loris Crossett|    PF|332739|   62|Michelle Ruggiero...|\n",
						"| 28|  Male|  Sheryll Towler|   DSA| 41487|   41|Claude Panos_Judi...|\n",
						"| 28|Female|Mickey Cortright|   DSA|342003|   44|Mitzi Seldon_Jean...|\n",
						"| 28|  Male|     Neda Briski|   OOP| 61973|   69|Alberta Freund_El...|\n",
						"| 28|  Male| Hubert Oliveras|   OOP|351719|   63|Lawanda Wohlwend_...|\n",
						"| 28|  Male|  Celeste Lollis|   MVC| 81492|   64|Nicole Harwood_Cl...|\n",
						"| 28|  Male| Sebrina Maresca|    PF|361316|   62|Nicole Harwood_La...|\n",
						"| 28|Female|Mickey Cortright|    DB|192537|   62|Ernest Rossbach_M...|\n",
						"| 28|  Male|   Kizzy Brenner|    DB|381712|   36|Paris Hutton_Kena...|\n",
						"| 28|  Male|  Celeste Lollis|    PF| 21267|   45|Jeannetta Golden_...|\n",
						"| 28|  Male|Toshiko Hillyard|    DB|392218|   47|Leontine Phillips...|\n",
						"| 28|Female|  Maybell Duguay| Cloud|261439|   20|Nicole Harwood_Ju...|\n",
						"| 28|Female|   Kizzy Brenner| Cloud|402409|   27|Ernest Rossbach_G...|\n",
						"| 28|Female|     Anna Santos|    DB|311589|   79|Celeste Lollis_Mi...|\n",
						"| 28|  Male|    Elenore Choy|    PF|422704|   66|Marylee Capasso_N...|\n",
						"| 28|  Male|  Margene Moores|   MVC| 52771|   32|Toshiko Hillyard_...|\n",
						"+---+------+----------------+------+------+-----+--------------------+\n",
						"only showing top 20 rows\n"
					]
				}
			],
			"source": [
				"df = spark.read.options(header = True, inferSchema = True).csv('s3://xxxxxxxx/StudentData.csv')\n",
				"df.sort(df.age.asc()).show()"
			]
		},
		{
			"cell_type": "markdown",
			"metadata": {},
			"source": [
				"### 80. Quiz\n",
				"- Create a DF, sorted on bonus in ascending order and show it\n",
				"- Create DF, sorted on age and salary in descendign and ascending order respectively and show it\n",
				"- Create a DF sorted on age, bonys and salary in descending, descending and ascending order respectively and show it"
			]
		},
		{
			"cell_type": "code",
			"execution_count": 2,
			"metadata": {
				"trusted": true,
				"vscode": {
					"languageId": "python_glue_session"
				}
			},
			"outputs": [
				{
					"name": "stdout",
					"output_type": "stream",
					"text": [
						"\n"
					]
				}
			],
			"source": [
				"df = spark.read.options(header = True, inferSchema = True).csv('s3://xxxxxxxx/OfficeData.csv')"
			]
		},
		{
			"cell_type": "code",
			"execution_count": 3,
			"metadata": {
				"trusted": true,
				"vscode": {
					"languageId": "python_glue_session"
				}
			},
			"outputs": [
				{
					"name": "stdout",
					"output_type": "stream",
					"text": [
						"+-------------+----------+-----+------+---+-----+\n",
						"|employee_name|department|state|salary|age|bonus|\n",
						"+-------------+----------+-----+------+---+-----+\n",
						"|        James|     Sales|   NY| 90000| 34|10000|\n",
						"|      Michael|     Sales|   NY| 86000| 56|20000|\n",
						"+-------------+----------+-----+------+---+-----+\n",
						"only showing top 2 rows\n"
					]
				}
			],
			"source": [
				"df.show(2)"
			]
		},
		{
			"cell_type": "code",
			"execution_count": 4,
			"metadata": {
				"trusted": true,
				"vscode": {
					"languageId": "python_glue_session"
				}
			},
			"outputs": [
				{
					"name": "stdout",
					"output_type": "stream",
					"text": [
						"+-------------+----------+-----+------+---+-----+\n",
						"|employee_name|department|state|salary|age|bonus|\n",
						"+-------------+----------+-----+------+---+-----+\n",
						"|        James|     Sales|   NY| 90000| 34|10000|\n",
						"|          Jen|   Finance|   NY| 79000| 53|15000|\n",
						"|         Jeff| Marketing|   CA| 80000| 25|18000|\n",
						"|        Scott|   Finance|   NY| 83000| 36|19000|\n",
						"|      Michael|     Sales|   NY| 86000| 56|20000|\n",
						"|        Kumar| Marketing|   NY| 91000| 50|21000|\n",
						"|       Robert|     Sales|   CA| 81000| 30|23000|\n",
						"|        Maria|   Finance|   CA| 90000| 24|23000|\n",
						"|        Raman|   Finance|   CA| 99000| 40|24000|\n",
						"+-------------+----------+-----+------+---+-----+\n"
					]
				}
			],
			"source": [
				"df2 = df.sort(df.bonus.asc())\n",
				"df2.show()"
			]
		},
		{
			"cell_type": "code",
			"execution_count": 7,
			"metadata": {
				"trusted": true,
				"vscode": {
					"languageId": "python_glue_session"
				}
			},
			"outputs": [
				{
					"name": "stdout",
					"output_type": "stream",
					"text": [
						"+-------------+----------+-----+------+---+-----+\n",
						"|employee_name|department|state|salary|age|bonus|\n",
						"+-------------+----------+-----+------+---+-----+\n",
						"|      Michael|     Sales|   NY| 86000| 56|20000|\n",
						"|          Jen|   Finance|   NY| 79000| 53|15000|\n",
						"|        Kumar| Marketing|   NY| 91000| 50|21000|\n",
						"|        Raman|   Finance|   CA| 99000| 40|24000|\n",
						"|        Scott|   Finance|   NY| 83000| 36|19000|\n",
						"|        James|     Sales|   NY| 90000| 34|10000|\n",
						"|       Robert|     Sales|   CA| 81000| 30|23000|\n",
						"|         Jeff| Marketing|   CA| 80000| 25|18000|\n",
						"|        Maria|   Finance|   CA| 90000| 24|23000|\n",
						"+-------------+----------+-----+------+---+-----+\n"
					]
				}
			],
			"source": [
				"df3 = df.orderBy(df.age.desc(),df.salary.asc())\n",
				"df3.show()"
			]
		},
		{
			"cell_type": "code",
			"execution_count": 8,
			"metadata": {
				"trusted": true,
				"vscode": {
					"languageId": "python_glue_session"
				}
			},
			"outputs": [
				{
					"name": "stdout",
					"output_type": "stream",
					"text": [
						"+-------------+----------+-----+------+---+-----+\n",
						"|employee_name|department|state|salary|age|bonus|\n",
						"+-------------+----------+-----+------+---+-----+\n",
						"|      Michael|     Sales|   NY| 86000| 56|20000|\n",
						"|          Jen|   Finance|   NY| 79000| 53|15000|\n",
						"|        Kumar| Marketing|   NY| 91000| 50|21000|\n",
						"+-------------+----------+-----+------+---+-----+\n",
						"only showing top 3 rows\n"
					]
				}
			],
			"source": [
				"df4 = df.sort(df.age.desc() , df.bonus.asc() , df.salary.desc() )\n",
				"df4.show(3)"
			]
		},
		{
			"cell_type": "markdown",
			"metadata": {},
			"source": [
				"### 82. Group By \n",
				"Group By will create groups based on given columns  \n",
				"After grouping, you should performe an aggregation function\n",
				"#### aggregate function\n",
				"- sum()  \n",
				"- count()  \n",
				"- max() - min()\n",
				"- avg()\n",
				"- mean()"
			]
		},
		{
			"cell_type": "code",
			"execution_count": 1,
			"metadata": {
				"trusted": true,
				"vscode": {
					"languageId": "python_glue_session"
				}
			},
			"outputs": [
				{
					"name": "stdout",
					"output_type": "stream",
					"text": [
						"\n"
					]
				}
			],
			"source": [
				"df = spark.read.options(header = True, inferSchema = True).csv('s3://xxxxxxxx/StudentData.csv')"
			]
		},
		{
			"cell_type": "code",
			"execution_count": 2,
			"metadata": {
				"trusted": true,
				"vscode": {
					"languageId": "python_glue_session"
				}
			},
			"outputs": [
				{
					"name": "stdout",
					"output_type": "stream",
					"text": [
						"+------+----------+\n",
						"|gender|sum(marks)|\n",
						"+------+----------+\n",
						"|Female|     29636|\n",
						"|  Male|     30461|\n",
						"+------+----------+\n"
					]
				}
			],
			"source": [
				"df.groupBy(\"gender\").sum(\"marks\").show()"
			]
		},
		{
			"cell_type": "code",
			"execution_count": 10,
			"metadata": {
				"trusted": true,
				"vscode": {
					"languageId": "python_glue_session"
				}
			},
			"outputs": [
				{
					"name": "stdout",
					"output_type": "stream",
					"text": [
						"+------+-----+\n",
						"|course|count|\n",
						"+------+-----+\n",
						"|   MVC|  157|\n",
						"|   DSA|  176|\n",
						"|    DB|  157|\n",
						"|    PF|  166|\n",
						"| Cloud|  192|\n",
						"|   OOP|  152|\n",
						"+------+-----+\n"
					]
				}
			],
			"source": [
				"df.groupBy(\"course\").count().show()"
			]
		},
		{
			"cell_type": "code",
			"execution_count": 6,
			"metadata": {
				"trusted": true,
				"vscode": {
					"languageId": "python_glue_session"
				}
			},
			"outputs": [
				{
					"name": "stdout",
					"output_type": "stream",
					"text": [
						"+------+----------+\n",
						"|gender|max(marks)|\n",
						"+------+----------+\n",
						"|Female|        99|\n",
						"|  Male|        99|\n",
						"+------+----------+\n",
						"\n",
						"+------+----------+\n",
						"|gender|min(marks)|\n",
						"+------+----------+\n",
						"|Female|        20|\n",
						"|  Male|        20|\n",
						"+------+----------+\n"
					]
				}
			],
			"source": [
				"df.groupBy(\"gender\").max(\"marks\").show()\n",
				"df.groupBy(\"gender\").min(\"marks\").show()"
			]
		},
		{
			"cell_type": "code",
			"execution_count": 7,
			"metadata": {
				"trusted": true,
				"vscode": {
					"languageId": "python_glue_session"
				}
			},
			"outputs": [
				{
					"name": "stdout",
					"output_type": "stream",
					"text": [
						"+---+------------------+\n",
						"|age|        avg(marks)|\n",
						"+---+------------------+\n",
						"| 28|60.487854251012145|\n",
						"| 29|59.715415019762844|\n",
						"+---+------------------+\n"
					]
				}
			],
			"source": [
				"df.groupBy(\"age\").avg(\"marks\").show()"
			]
		},
		{
			"cell_type": "code",
			"execution_count": 9,
			"metadata": {
				"trusted": true,
				"vscode": {
					"languageId": "python_glue_session"
				}
			},
			"outputs": [
				{
					"name": "stdout",
					"output_type": "stream",
					"text": [
						"+------+------------------+\n",
						"|gender|        avg(marks)|\n",
						"+------+------------------+\n",
						"|Female|59.153692614770456|\n",
						"|  Male| 61.04408817635271|\n",
						"+------+------------------+\n"
					]
				}
			],
			"source": [
				"df.groupBy(\"gender\").mean(\"marks\").show()"
			]
		},
		{
			"cell_type": "markdown",
			"metadata": {},
			"source": [
				"### 83. Spark DF (Group By - Multiple Columns and Aggregations)\n",
				"For group by different columns, you need only add more columns to groupBy, \n",
				"in case of needing more aggregation functions, you need import. \n",
				"```python \n",
				"from pyspark.sql.functions import sum, avg, max, min, count, mean\n",
				"```\n",
				".alias(\"...\")"
			]
		},
		{
			"cell_type": "code",
			"execution_count": 1,
			"metadata": {
				"trusted": true,
				"vscode": {
					"languageId": "python_glue_session"
				}
			},
			"outputs": [
				{
					"name": "stdout",
					"output_type": "stream",
					"text": [
						"\n"
					]
				}
			],
			"source": [
				"df = spark.read.options(header = True, inferSchema = True).csv('s3://xxxxxxxx/StudentData.csv')"
			]
		},
		{
			"cell_type": "code",
			"execution_count": 2,
			"metadata": {
				"trusted": true,
				"vscode": {
					"languageId": "python_glue_session"
				}
			},
			"outputs": [
				{
					"name": "stdout",
					"output_type": "stream",
					"text": [
						"+------+---+-----+\n",
						"|gender|age|count|\n",
						"+------+---+-----+\n",
						"|  Male| 28|  238|\n",
						"|  Male| 29|  261|\n",
						"|Female| 28|  256|\n",
						"|Female| 29|  245|\n",
						"+------+---+-----+\n"
					]
				}
			],
			"source": [
				"df.groupBy(df.gender, df.age).count().show()"
			]
		},
		{
			"cell_type": "code",
			"execution_count": 3,
			"metadata": {
				"trusted": true,
				"vscode": {
					"languageId": "python_glue_session"
				}
			},
			"outputs": [
				{
					"name": "stdout",
					"output_type": "stream",
					"text": [
						"\n"
					]
				}
			],
			"source": [
				"from pyspark.sql.functions import sum, avg, max, min, count, mean"
			]
		},
		{
			"cell_type": "code",
			"execution_count": 4,
			"metadata": {
				"trusted": true,
				"vscode": {
					"languageId": "python_glue_session"
				}
			},
			"outputs": [
				{
					"name": "stdout",
					"output_type": "stream",
					"text": [
						"+------+-----+\n",
						"|course|count|\n",
						"+------+-----+\n",
						"|   MVC|  157|\n",
						"|   DSA|  176|\n",
						"|    DB|  157|\n",
						"|    PF|  166|\n",
						"| Cloud|  192|\n",
						"|   OOP|  152|\n",
						"+------+-----+\n"
					]
				}
			],
			"source": [
				"df.groupBy(\"course\").count().show()"
			]
		},
		{
			"cell_type": "code",
			"execution_count": 5,
			"metadata": {
				"trusted": true,
				"vscode": {
					"languageId": "python_glue_session"
				}
			},
			"outputs": [
				{
					"name": "stdout",
					"output_type": "stream",
					"text": [
						"+------+--------+\n",
						"|course|count(1)|\n",
						"+------+--------+\n",
						"|   MVC|     157|\n",
						"|   DSA|     176|\n",
						"|    DB|     157|\n",
						"|    PF|     166|\n",
						"| Cloud|     192|\n",
						"|   OOP|     152|\n",
						"+------+--------+\n",
						"\n",
						"+------+------+-----+--------+------+--------+------------------+\n",
						"|course|gender|test1|sumMarks|minAge|maxMarks|          avgMarks|\n",
						"+------+------+-----+--------+------+--------+------------------+\n",
						"| Cloud|  Male|   86|    5127|    28|      97|59.616279069767444|\n",
						"| Cloud|Female|  106|    6316|    28|      99| 59.58490566037736|\n",
						"|    DB|  Male|   82|    5073|    28|      98| 61.86585365853659|\n",
						"|    DB|Female|   75|    4197|    28|      96|             55.96|\n",
						"|   DSA|  Male|   78|    4826|    28|      99| 61.87179487179487|\n",
						"|   DSA|Female|   98|    6124|    28|      99| 62.48979591836735|\n",
						"|   MVC|Female|   71|    4344|    28|      99|61.183098591549296|\n",
						"|   MVC|  Male|   86|    5241|    28|      99| 60.94186046511628|\n",
						"|   OOP|  Male|   70|    4234|    28|      99| 60.48571428571429|\n",
						"|   OOP|Female|   82|    4682|    28|      99| 57.09756097560975|\n",
						"|    PF|Female|   69|    3973|    28|      99| 57.57971014492754|\n",
						"|    PF|  Male|   97|    5960|    28|      99| 61.44329896907217|\n",
						"+------+------+-----+--------+------+--------+------------------+\n"
					]
				}
			],
			"source": [
				"df.groupBy(\"course\").agg(count(\"*\")).show()\n",
				"df.groupBy(\"course\", \"gender\").agg(count(\"*\").alias(\"test1\"), sum(\"marks\").alias(\"sumMarks\"), min(\"age\").alias(\"minAge\"), max(\"marks\").alias(\"maxMarks\"), avg(\"marks\").alias(\"avgMarks\")).orderBy(\"course\").show()"
			]
		},
		{
			"cell_type": "markdown",
			"metadata": {},
			"source": [
				"### 86. Quiz (Group By)\n",
				"- Display the total numbers of students enrolled in each course \n",
				"- Display the male and female students enrolled in each course\n",
				"- Display the total marks achieved by each gender in each course \n",
				"- Display the minimum, maximum and average marks achieved in each course by each age group"
			]
		},
		{
			"cell_type": "code",
			"execution_count": 1,
			"metadata": {
				"trusted": true,
				"vscode": {
					"languageId": "python_glue_session"
				}
			},
			"outputs": [
				{
					"name": "stdout",
					"output_type": "stream",
					"text": [
						"\n"
					]
				}
			],
			"source": [
				"df = spark.read.options(header = True, inferSchema = True).csv('s3://xxxxxxxx/StudentData.csv')"
			]
		},
		{
			"cell_type": "code",
			"execution_count": 4,
			"metadata": {
				"trusted": true,
				"vscode": {
					"languageId": "python_glue_session"
				}
			},
			"outputs": [
				{
					"name": "stdout",
					"output_type": "stream",
					"text": [
						"+---+------+----------------+------+-----+-----+--------------------+\n",
						"|age|gender|            name|course| roll|marks|               email|\n",
						"+---+------+----------------+------+-----+-----+--------------------+\n",
						"| 28|Female| Hubert Oliveras|    DB| 2984|   59|Annika Hoffman_Na...|\n",
						"| 29|Female|Toshiko Hillyard| Cloud|12899|   62|Margene Moores_Ma...|\n",
						"| 28|  Male|  Celeste Lollis|    PF|21267|   45|Jeannetta Golden_...|\n",
						"+---+------+----------------+------+-----+-----+--------------------+\n",
						"only showing top 3 rows\n"
					]
				}
			],
			"source": [
				"df.show(3)"
			]
		},
		{
			"cell_type": "code",
			"execution_count": 8,
			"metadata": {
				"trusted": true,
				"vscode": {
					"languageId": "python_glue_session"
				}
			},
			"outputs": [
				{
					"name": "stdout",
					"output_type": "stream",
					"text": [
						"+------+-----+\n",
						"|course|count|\n",
						"+------+-----+\n",
						"|   MVC|  157|\n",
						"|   DSA|  176|\n",
						"|    DB|  157|\n",
						"|    PF|  166|\n",
						"| Cloud|  192|\n",
						"|   OOP|  152|\n",
						"+------+-----+\n"
					]
				}
			],
			"source": [
				"df.groupBy(df.course).count().show()"
			]
		},
		{
			"cell_type": "code",
			"execution_count": 6,
			"metadata": {
				"trusted": true,
				"vscode": {
					"languageId": "python_glue_session"
				}
			},
			"outputs": [
				{
					"name": "stdout",
					"output_type": "stream",
					"text": [
						"+------+-----+\n",
						"|gender|count|\n",
						"+------+-----+\n",
						"|Female|  501|\n",
						"|  Male|  499|\n",
						"+------+-----+\n"
					]
				}
			],
			"source": [
				"df.groupBy(df.gender).count().show()"
			]
		},
		{
			"cell_type": "code",
			"execution_count": 10,
			"metadata": {
				"trusted": true,
				"vscode": {
					"languageId": "python_glue_session"
				}
			},
			"outputs": [
				{
					"name": "stdout",
					"output_type": "stream",
					"text": [
						"+------+------+----------+\n",
						"|gender|course|sum(marks)|\n",
						"+------+------+----------+\n",
						"|  Male|    DB|      5073|\n",
						"|  Male|   DSA|      4826|\n",
						"|  Male|   MVC|      5241|\n",
						"|Female| Cloud|      6316|\n",
						"|Female|   OOP|      4682|\n",
						"|  Male| Cloud|      5127|\n",
						"|  Male|   OOP|      4234|\n",
						"|Female|   MVC|      4344|\n",
						"|  Male|    PF|      5960|\n",
						"|Female|    DB|      4197|\n",
						"|Female|    PF|      3973|\n",
						"|Female|   DSA|      6124|\n",
						"+------+------+----------+\n"
					]
				}
			],
			"source": [
				"df.groupBy(df.gender, df.course).sum(\"marks\").show()"
			]
		},
		{
			"cell_type": "code",
			"execution_count": 13,
			"metadata": {
				"trusted": true,
				"vscode": {
					"languageId": "python_glue_session"
				}
			},
			"outputs": [
				{
					"name": "stdout",
					"output_type": "stream",
					"text": [
						"+---+----------+----------+------------------+\n",
						"|age|min(marks)|max(marks)|        avg(marks)|\n",
						"+---+----------+----------+------------------+\n",
						"| 28|        20|        99|60.487854251012145|\n",
						"| 29|        20|        99|59.715415019762844|\n",
						"+---+----------+----------+------------------+\n"
					]
				}
			],
			"source": [
				"#Display the minimum, maximum and average marks achieved in each course by each age group\n",
				"from pyspark.sql.functions import min, max, avg\n",
				"df.groupBy(df.age).agg( min(\"marks\").alias(\", max(\"marks\"), avg(\"marks\")).show()"
			]
		},
		{
			"cell_type": "code",
			"execution_count": null,
			"metadata": {
				"trusted": true,
				"vscode": {
					"languageId": "python_glue_session"
				}
			},
			"outputs": [
				{
					"name": "stdout",
					"output_type": "stream",
					"text": [
						"Welcome to the Glue Interactive Sessions Kernel\n",
						"For more information on available magic commands, please type %help in any new cell.\n",
						"\n",
						"Please view our Getting Started page to access the most up-to-date information on the Interactive Sessions kernel: https://docs.aws.amazon.com/glue/latest/dg/interactive-sessions.html\n",
						"It looks like there is a newer version of the kernel available. The latest version is 0.32 and you have 0.30 installed.\n",
						"Please run `pip install --upgrade aws-glue-sessions` to upgrade your kernel\n",
						"Authenticating with environment variables and user-defined glue_role_arn: arn:aws:iam::533588983801:role/FULL_GLUE\n",
						"Attempting to use existing AssumeRole session credentials.\n",
						"Trying to create a Glue session for the kernel.\n",
						"Worker Type: G.1X\n",
						"Number of Workers: 5\n",
						"Session ID: 8ed6ba1f-ca87-4747-b28e-a7503d063174\n",
						"Applying the following default arguments:\n",
						"--glue_kernel_version 0.30\n",
						"--enable-glue-datacatalog true\n",
						"Waiting for session 8ed6ba1f-ca87-4747-b28e-a7503d063174 to get into ready status...\n",
						"Session 8ed6ba1f-ca87-4747-b28e-a7503d063174 has been created\n",
						"\n",
						"\n"
					]
				}
			],
			"source": [
				"import sys\n",
				"from awsglue.transforms import *\n",
				"from awsglue.utils import getResolvedOptions\n",
				"from pyspark.context import SparkContext\n",
				"from awsglue.context import GlueContext\n",
				"from awsglue.job import Job\n",
				"###\n",
				"from pyspark.sql import SparkSession\n",
				"spark = SparkSession.builder.appName(\"pySparkDF\").getOrCreate()\n",
				"##\n",
				"sc = SparkContext.getOrCreate()\n",
				"glueContext = GlueContext(sc)\n",
				"spark = glueContext.spark_session\n",
				"job = Job(glueContext)"
			]
		},
		{
			"cell_type": "code",
			"execution_count": 5,
			"metadata": {
				"trusted": true,
				"vscode": {
					"languageId": "python_glue_session"
				}
			},
			"outputs": [
				{
					"name": "stdout",
					"output_type": "stream",
					"text": [
						"\n"
					]
				}
			],
			"source": [
				"df = spark.read.options(inferSchema = True).csv('s3://xxxxxxxx/Harry Potter_ The Complete Coll - J.K. Rowling.txt')"
			]
		},
		{
			"cell_type": "code",
			"execution_count": 4,
			"metadata": {
				"trusted": true,
				"vscode": {
					"languageId": "python_glue_session"
				}
			},
			"outputs": [
				{
					"name": "stdout",
					"output_type": "stream",
					"text": [
						"+--------------------+\n",
						"|            CONTENTS|\n",
						"+--------------------+\n",
						"|Harry Potter and ...|\n",
						"|Harry Potter and ...|\n",
						"|Harry Potter and ...|\n",
						"|Harry Potter and ...|\n",
						"|Harry Potter and ...|\n",
						"|Harry Potter and ...|\n",
						"|Harry Potter and ...|\n",
						"|         FOR JESSICA|\n",
						"|            FOR ANNE|\n",
						"|          AND FOR DI|\n",
						"|            CONTENTS|\n",
						"|                 ONE|\n",
						"|   The Boy Who Lived|\n",
						"|                 TWO|\n",
						"| The Vanishing Glass|\n",
						"|               THREE|\n",
						"|The Letters from ...|\n",
						"|                FOUR|\n",
						"|The Keeper of the...|\n",
						"|                FIVE|\n",
						"+--------------------+\n",
						"only showing top 20 rows\n"
					]
				}
			],
			"source": [
				"df.show(20)"
			]
		},
		{
			"cell_type": "code",
			"execution_count": 10,
			"metadata": {
				"trusted": true,
				"vscode": {
					"languageId": "python_glue_session"
				}
			},
			"outputs": [
				{
					"name": "stdout",
					"output_type": "stream",
					"text": [
						"\n"
					]
				}
			],
			"source": [
				"from pyspark.sql.functions import split, explode\n",
				"df2 = df.withColumn('_c0',explode(split('_c0',' ')))"
			]
		},
		{
			"cell_type": "code",
			"execution_count": 13,
			"metadata": {
				"trusted": true,
				"vscode": {
					"languageId": "python_glue_session"
				}
			},
			"outputs": [
				{
					"name": "stdout",
					"output_type": "stream",
					"text": [
						"+----------+\n",
						"|       _c0|\n",
						"+----------+\n",
						"|  CONTENTS|\n",
						"|     Harry|\n",
						"|    Potter|\n",
						"|       and|\n",
						"|       the|\n",
						"|Sorcerer’s|\n",
						"|     Stone|\n",
						"|     Harry|\n",
						"|    Potter|\n",
						"|       and|\n",
						"+----------+\n",
						"only showing top 10 rows\n"
					]
				}
			],
			"source": [
				"df2.show(10)"
			]
		},
		{
			"cell_type": "markdown",
			"metadata": {},
			"source": [
				"### 90. Spark UDF\n",
				"- it's similar than df.map"
			]
		},
		{
			"cell_type": "code",
			"execution_count": 3,
			"metadata": {
				"trusted": true,
				"vscode": {
					"languageId": "python_glue_session"
				}
			},
			"outputs": [
				{
					"name": "stdout",
					"output_type": "stream",
					"text": [
						"\n"
					]
				}
			],
			"source": [
				"from pyspark.sql.functions import udf\n",
				"from pyspark.sql.types import IntegerType\n",
				"df = spark.read.options(header = True, inferSchema = True).csv('s3://xxxxxxxx/OfficeData.csv')"
			]
		},
		{
			"cell_type": "code",
			"execution_count": 2,
			"metadata": {
				"trusted": true,
				"vscode": {
					"languageId": "python_glue_session"
				}
			},
			"outputs": [
				{
					"name": "stdout",
					"output_type": "stream",
					"text": [
						"+-------------+----------+-----+------+---+-----+\n",
						"|employee_name|department|state|salary|age|bonus|\n",
						"+-------------+----------+-----+------+---+-----+\n",
						"|        James|     Sales|   NY| 90000| 34|10000|\n",
						"|      Michael|     Sales|   NY| 86000| 56|20000|\n",
						"|       Robert|     Sales|   CA| 81000| 30|23000|\n",
						"+-------------+----------+-----+------+---+-----+\n",
						"only showing top 3 rows\n"
					]
				}
			],
			"source": [
				"df.show(3)"
			]
		},
		{
			"cell_type": "code",
			"execution_count": 5,
			"metadata": {
				"trusted": true,
				"vscode": {
					"languageId": "python_glue_session"
				}
			},
			"outputs": [
				{
					"name": "stdout",
					"output_type": "stream",
					"text": [
						"+-------------+----------+-----+------+---+-----+------------+\n",
						"|employee_name|department|state|salary|age|bonus|total_salary|\n",
						"+-------------+----------+-----+------+---+-----+------------+\n",
						"|        James|     Sales|   NY| 90000| 34|10000|      100000|\n",
						"|      Michael|     Sales|   NY| 86000| 56|20000|      106000|\n",
						"|       Robert|     Sales|   CA| 81000| 30|23000|      104000|\n",
						"+-------------+----------+-----+------+---+-----+------------+\n",
						"only showing top 3 rows\n"
					]
				}
			],
			"source": [
				"def getTotalSalary(salary, bonus):\n",
				"    return salary + bonus\n",
				"\n",
				"totalSalaryUDF = udf(lambda x, y:  getTotalSalary(x,y), IntegerType())\n",
				"\n",
				"\n",
				"df.withColumn(\"total_salary\",totalSalaryUDF(df.salary, df.bonus)).show(3)\n",
				"df.withColumn(\"total_salary\",totalSalaryUDF(df.salary, df.bonus)).show(3)"
			]
		},
		{
			"cell_type": "markdown",
			"metadata": {},
			"source": [
				"### 91. Quiz (UDFs)\n",
				"- Create a new column increment and provide the increment to employees on the following criteria\n",
				"    - If the employe is in NY state, his increment would be 10% of salary plus 5% of bonus\n",
				"    - If the employe is in CA state, his increment would be 12% of salary plus 3% of bonus"
			]
		},
		{
			"cell_type": "code",
			"execution_count": 14,
			"metadata": {
				"trusted": true,
				"vscode": {
					"languageId": "python_glue_session"
				}
			},
			"outputs": [
				{
					"name": "stdout",
					"output_type": "stream",
					"text": [
						"+-------------+----------+-----+------+---+-----+\n",
						"|employee_name|department|state|salary|age|bonus|\n",
						"+-------------+----------+-----+------+---+-----+\n",
						"|        James|     Sales|   NY| 90000| 34|10000|\n",
						"|      Michael|     Sales|   NY| 86000| 56|20000|\n",
						"|       Robert|     Sales|   CA| 81000| 30|23000|\n",
						"+-------------+----------+-----+------+---+-----+\n",
						"only showing top 3 rows\n"
					]
				}
			],
			"source": [
				"from pyspark.sql.functions import udf\n",
				"from pyspark.sql.types import FloatType, IntegerType\n",
				"df = spark.read.options(header = True, inferSchema = True).csv('s3://xxxxxxxx/OfficeData.csv')\n",
				"df.show(3)"
			]
		},
		{
			"cell_type": "code",
			"execution_count": 16,
			"metadata": {
				"trusted": true,
				"vscode": {
					"languageId": "python_glue_session"
				}
			},
			"outputs": [
				{
					"name": "stdout",
					"output_type": "stream",
					"text": [
						"+-------------+----------+-----+------+---+-----+-----------------+\n",
						"|employee_name|department|state|salary|age|bonus|newAndTotalSalary|\n",
						"+-------------+----------+-----+------+---+-----+-----------------+\n",
						"|        James|     Sales|   NY| 90000| 34|10000|         109500.0|\n",
						"|      Michael|     Sales|   NY| 86000| 56|20000|         115600.0|\n",
						"|       Robert|     Sales|   CA| 81000| 30|23000|         114410.0|\n",
						"|        Maria|   Finance|   CA| 90000| 24|23000|         124490.0|\n",
						"|        Raman|   Finance|   CA| 99000| 40|24000|         135600.0|\n",
						"|        Scott|   Finance|   NY| 83000| 36|19000|         111250.0|\n",
						"|          Jen|   Finance|   NY| 79000| 53|15000|         102650.0|\n",
						"|         Jeff| Marketing|   CA| 80000| 25|18000|         108140.0|\n",
						"|        Kumar| Marketing|   NY| 91000| 50|21000|         122150.0|\n",
						"+-------------+----------+-----+------+---+-----+-----------------+\n"
					]
				}
			],
			"source": [
				"def increment(state, salary, bonus):\n",
				"    if state == 'NY':\n",
				"        return salary*1.1+bonus*1.05\n",
				"    elif state == 'CA':\n",
				"        return salary*1.12+bonus*1.03\n",
				"    else: \n",
				"        return salary\n",
				"    \n",
				"incrementUDF = udf(lambda x,y,z: increment(x,y,z), FloatType())\n",
				"df.withColumn(\"newAndTotalSalary\", incrementUDF(df.state, df.salary, df.bonus)).show()\n"
			]
		},
		{
			"cell_type": "markdown",
			"metadata": {},
			"source": [
				"### 93. Solution (Cache and Presist)\n",
				"- Used to save the data in memory temporaly to optimize the workflow"
			]
		},
		{
			"cell_type": "markdown",
			"metadata": {},
			"source": [
				"### 94. Spark DF (DF to RDD)\n",
				"- Used to save the data in memory temporaly to optimize the workflow"
			]
		},
		{
			"cell_type": "markdown",
			"metadata": {},
			"source": [
				"### 95. Spark DF (Spark SQL)\n",
				"- Used to simple query"
			]
		},
		{
			"cell_type": "code",
			"execution_count": 12,
			"metadata": {
				"trusted": true,
				"vscode": {
					"languageId": "python_glue_session"
				}
			},
			"outputs": [
				{
					"name": "stdout",
					"output_type": "stream",
					"text": [
						"root\n",
						" |-- employee_name: string (nullable = true)\n",
						" |-- department: string (nullable = true)\n",
						" |-- state: string (nullable = true)\n",
						" |-- salary: integer (nullable = true)\n",
						" |-- age: integer (nullable = true)\n",
						" |-- bonus: integer (nullable = true)\n"
					]
				}
			],
			"source": [
				"df = spark.read.options(header = True, inferSchema = True).csv('s3://xxxxxxxx/OfficeData.csv')\n",
				"df.printSchema()"
			]
		},
		{
			"cell_type": "code",
			"execution_count": 3,
			"metadata": {
				"trusted": true,
				"vscode": {
					"languageId": "python_glue_session"
				}
			},
			"outputs": [
				{
					"name": "stdout",
					"output_type": "stream",
					"text": [
						"\n"
					]
				}
			],
			"source": [
				"df.createOrReplaceTempView(\"Office\")"
			]
		},
		{
			"cell_type": "code",
			"execution_count": 10,
			"metadata": {
				"trusted": true,
				"vscode": {
					"languageId": "python_glue_session"
				}
			},
			"outputs": [
				{
					"name": "stdout",
					"output_type": "stream",
					"text": [
						"AnalysisException: 'org.apache.hadoop.hive.ql.metadata.HiveException: MetaException(message:Insufficient Lake Formation permission(s) on global_temp (Service: AWSGlue; Status Code: 400; Error Code: AccessDeniedException; Request ID: 8e5f84d3-ef6e-4a70-be3e-40b735d6b1c5; Proxy: null));'\n"
					]
				}
			],
			"source": [
				"spark.sql(\"select department from Office where age > 30\").show()"
			]
		},
		{
			"cell_type": "code",
			"execution_count": 13,
			"metadata": {
				"trusted": true,
				"vscode": {
					"languageId": "python_glue_session"
				}
			},
			"outputs": [
				{
					"name": "stdout",
					"output_type": "stream",
					"text": [
						"+----------+\n",
						"|department|\n",
						"+----------+\n",
						"|     Sales|\n",
						"|     Sales|\n",
						"|   Finance|\n",
						"|   Finance|\n",
						"|   Finance|\n",
						"| Marketing|\n",
						"+----------+\n"
					]
				}
			],
			"source": [
				"df.select(\"department\").filter(df.age > 30).show()"
			]
		},
		{
			"cell_type": "code",
			"execution_count": null,
			"metadata": {
				"trusted": true,
				"vscode": {
					"languageId": "python_glue_session"
				}
			},
			"outputs": [],
			"source": [
				"spark.sql(\"select department , avg(age) from Office group by department\").show()"
			]
		},
		{
			"cell_type": "markdown",
			"metadata": {},
			"source": [
				"### 96. Spark DF (Write DF)\n",
				"#### Modes:\n",
				"- overwrite\n",
				"- append\n",
				"- ignore\n",
				"- error"
			]
		},
		{
			"cell_type": "code",
			"execution_count": 1,
			"metadata": {
				"trusted": true,
				"vscode": {
					"languageId": "python_glue_session"
				}
			},
			"outputs": [
				{
					"name": "stderr",
					"output_type": "stream",
					"text": [
						"Exception encountered while retrieving session: An error occurred (ExpiredTokenException) when calling the GetSession operation: The security token included in the request is expired \n",
						"Traceback (most recent call last):\n",
						"  File \"/home/jupyter-user/.local/lib/python3.7/site-packages/aws_glue_interactive_sessions_kernel/glue_pyspark/GlueKernel.py\", line 688, in get_current_session\n",
						"    current_session = self.glue_client.get_session(Id=self.get_session_id())[\"Session\"]\n",
						"  File \"/home/jupyter-user/.local/lib/python3.7/site-packages/botocore/client.py\", line 415, in _api_call\n",
						"    return self._make_api_call(operation_name, kwargs)\n",
						"  File \"/home/jupyter-user/.local/lib/python3.7/site-packages/botocore/client.py\", line 745, in _make_api_call\n",
						"    raise error_class(parsed_response, operation_name)\n",
						"botocore.exceptions.ClientError: An error occurred (ExpiredTokenException) when calling the GetSession operation: The security token included in the request is expired\n",
						"Failed to retrieve session status \n",
						"Exception encountered while running statement: An error occurred (ExpiredTokenException) when calling the RunStatement operation: The security token included in the request is expired \n",
						"Traceback (most recent call last):\n",
						"  File \"/home/jupyter-user/.local/lib/python3.7/site-packages/aws_glue_interactive_sessions_kernel/glue_pyspark/GlueKernel.py\", line 121, in do_execute\n",
						"    statement_id = self.glue_client.run_statement(SessionId=self.get_session_id(), Code=code)[\"Id\"]\n",
						"  File \"/home/jupyter-user/.local/lib/python3.7/site-packages/botocore/client.py\", line 415, in _api_call\n",
						"    return self._make_api_call(operation_name, kwargs)\n",
						"  File \"/home/jupyter-user/.local/lib/python3.7/site-packages/botocore/client.py\", line 745, in _make_api_call\n",
						"    raise error_class(parsed_response, operation_name)\n",
						"botocore.exceptions.ClientError: An error occurred (ExpiredTokenException) when calling the RunStatement operation: The security token included in the request is expired\n"
					]
				}
			],
			"source": [
				"df.write.options(header = True).csv('s3://xxxxxxxx/output')"
			]
		},
		{
			"cell_type": "code",
			"execution_count": null,
			"metadata": {
				"trusted": true,
				"vscode": {
					"languageId": "python_glue_session"
				}
			},
			"outputs": [
				{
					"name": "stdout",
					"output_type": "stream",
					"text": [
						"Welcome to the Glue Interactive Sessions Kernel\n",
						"For more information on available magic commands, please type %help in any new cell.\n",
						"\n",
						"Please view our Getting Started page to access the most up-to-date information on the Interactive Sessions kernel: https://docs.aws.amazon.com/glue/latest/dg/interactive-sessions.html\n",
						"It looks like there is a newer version of the kernel available. The latest version is 0.32 and you have 0.30 installed.\n",
						"Please run `pip install --upgrade aws-glue-sessions` to upgrade your kernel\n",
						"Authenticating with environment variables and user-defined glue_role_arn: arn:aws:iam::533588983801:role/FULL_GLUE\n",
						"Attempting to use existing AssumeRole session credentials.\n",
						"Trying to create a Glue session for the kernel.\n",
						"Worker Type: G.1X\n",
						"Number of Workers: 5\n",
						"Session ID: c9b931ab-0a2d-4424-9f1f-08bbf7348ca5\n",
						"Applying the following default arguments:\n",
						"--glue_kernel_version 0.30\n",
						"--enable-glue-datacatalog true\n",
						"Waiting for session c9b931ab-0a2d-4424-9f1f-08bbf7348ca5 to get into ready status...\n",
						"Session c9b931ab-0a2d-4424-9f1f-08bbf7348ca5 has been created\n",
						"\n",
						"NameError: name 'df' is not defined\n"
					]
				}
			],
			"source": [
				"df.write.mode(\"overwrite\").options(header = True).csv('s3://xxxxxxxx/output')"
			]
		},
		{
			"cell_type": "markdown",
			"metadata": {},
			"source": [
				"### 97. Proyect Overview\n",
				"- Print the total number of employees in the company\n",
				"- Print the total number of departments in the company\n",
				"- Print the department names of the company\n",
				"- Print the total number of employees in each department\n",
				"- Print the total number of employees in each state\n",
				"- Print the total number of employees in each state in each department\n",
				"- Print the minimum and maximum salaries in each department and sort salaries in ascending order\n",
				"- Print the names of employees working in NY state under Finance department whose bonuses are greater than the average bonuses of employees in NY state\n",
				"- Raise the salaries $500 of all employees whose age is greater than 45\n",
				"- Create DF of all those employees whose age is greater than 45 and save them in a file"
			]
		},
		{
			"cell_type": "code",
			"execution_count": null,
			"metadata": {
				"trusted": true,
				"vscode": {
					"languageId": "python_glue_session"
				}
			},
			"outputs": [
				{
					"name": "stdout",
					"output_type": "stream",
					"text": [
						"\n"
					]
				}
			],
			"source": [
				"df = spark.read.options(header = True, inferSchema = True).csv('s3://xxxxxxxx/OfficeDataProject.csv')"
			]
		},
		{
			"cell_type": "code",
			"execution_count": 4,
			"metadata": {
				"trusted": true,
				"vscode": {
					"languageId": "python_glue_session"
				}
			},
			"outputs": [
				{
					"name": "stdout",
					"output_type": "stream",
					"text": [
						"+-----------+-----------------+----------+-----+------+---+-----+\n",
						"|employee_id|    employee_name|department|state|salary|age|bonus|\n",
						"+-----------+-----------------+----------+-----+------+---+-----+\n",
						"|       1000|        Nitz Leif| Marketing|   CA|  6131| 26|  543|\n",
						"|       1001|  Melissia Dedman|   Finance|   AK|  4027| 43| 1290|\n",
						"|       1002|Rudolph Barringer|        HR|   LA|  3122| 43| 1445|\n",
						"+-----------+-----------------+----------+-----+------+---+-----+\n",
						"only showing top 3 rows\n"
					]
				}
			],
			"source": [
				"df.show(3)"
			]
		},
		{
			"cell_type": "code",
			"execution_count": 10,
			"metadata": {
				"trusted": true,
				"vscode": {
					"languageId": "python_glue_session"
				}
			},
			"outputs": [
				{
					"name": "stdout",
					"output_type": "stream",
					"text": [
						"6\n"
					]
				}
			],
			"source": [
				"df.select(df.department).distinct().count()"
			]
		},
		{
			"cell_type": "code",
			"execution_count": 1,
			"metadata": {
				"trusted": true,
				"vscode": {
					"languageId": "python_glue_session"
				}
			},
			"outputs": [
				{
					"name": "stdout",
					"output_type": "stream",
					"text": [
						"NameError: name 'df' is not defined\n"
					]
				}
			],
			"source": [
				"df.select(df.department).distinct().count()\n",
				"df.select(df.department).distinct().show()"
			]
		},
		{
			"cell_type": "code",
			"execution_count": 10,
			"metadata": {
				"trusted": true,
				"vscode": {
					"languageId": "python_glue_session"
				}
			},
			"outputs": [
				{
					"name": "stdout",
					"output_type": "stream",
					"text": [
						"+----------+---+\n",
						"|department|  n|\n",
						"+----------+---+\n",
						"| Marketing|170|\n",
						"|        HR|171|\n",
						"|  Accounts|162|\n",
						"|     Sales|169|\n",
						"|   Finance|162|\n",
						"|Purchasing|166|\n",
						"+----------+---+\n"
					]
				}
			],
			"source": [
				"from pyspark.sql.functions import sum, avg, max, min, count, mean\n",
				"df.groupBy(\"department\").agg(count(\"employee_name\").alias(\"n\")).show()"
			]
		},
		{
			"cell_type": "code",
			"execution_count": 16,
			"metadata": {
				"trusted": true,
				"vscode": {
					"languageId": "python_glue_session"
				}
			},
			"outputs": [
				{
					"name": "stdout",
					"output_type": "stream",
					"text": [
						"+-----+---+\n",
						"|state|  n|\n",
						"+-----+---+\n",
						"|   LA|205|\n",
						"|   NY|173|\n",
						"|   WA|208|\n",
						"|   AK|209|\n",
						"|   CA|205|\n",
						"+-----+---+\n"
					]
				}
			],
			"source": [
				"df.groupBy(\"state\").agg(count(\"employee_name\").alias(\"n\")).show()"
			]
		},
		{
			"cell_type": "code",
			"execution_count": 17,
			"metadata": {
				"trusted": true,
				"vscode": {
					"languageId": "python_glue_session"
				}
			},
			"outputs": [
				{
					"name": "stdout",
					"output_type": "stream",
					"text": [
						"+-----+----------+---+\n",
						"|state|department|  n|\n",
						"+-----+----------+---+\n",
						"|   LA|  Accounts| 29|\n",
						"|   NY|        HR| 30|\n",
						"|   AK|  Accounts| 37|\n",
						"|   CA|     Sales| 42|\n",
						"|   CA|  Accounts| 35|\n",
						"|   CA| Marketing| 33|\n",
						"|   CA|Purchasing| 32|\n",
						"|   WA|        HR| 47|\n",
						"|   WA|     Sales| 27|\n",
						"|   WA| Marketing| 39|\n",
						"|   LA|        HR| 41|\n",
						"|   AK|Purchasing| 30|\n",
						"|   LA|     Sales| 35|\n",
						"|   WA|  Accounts| 27|\n",
						"|   NY|  Accounts| 34|\n",
						"|   NY|     Sales| 27|\n",
						"|   NY|Purchasing| 21|\n",
						"|   WA|Purchasing| 38|\n",
						"|   LA| Marketing| 26|\n",
						"|   NY| Marketing| 30|\n",
						"+-----+----------+---+\n",
						"only showing top 20 rows\n"
					]
				}
			],
			"source": [
				"df.groupBy(\"state\",\"department\").agg(count(\"employee_name\").alias(\"n\")).show()"
			]
		},
		{
			"cell_type": "code",
			"execution_count": 14,
			"metadata": {
				"trusted": true,
				"vscode": {
					"languageId": "python_glue_session"
				}
			},
			"outputs": [
				{
					"name": "stdout",
					"output_type": "stream",
					"text": [
						"+----------+----+----+\n",
						"|department| max| min|\n",
						"+----------+----+----+\n",
						"|  Accounts|9890|1007|\n",
						"|   Finance|9899|1006|\n",
						"| Marketing|9974|1031|\n",
						"|        HR|9982|1013|\n",
						"|     Sales|9982|1103|\n",
						"|Purchasing|9985|1105|\n",
						"+----------+----+----+\n"
					]
				}
			],
			"source": [
				"df.groupBy(\"department\").agg(max(\"salary\").alias(\"max\"), min(\"salary\").alias(\"min\")).orderBy(col(\"max\").asc(), col(\"min\").asc()).show() # Falta order ascending"
			]
		},
		{
			"cell_type": "markdown",
			"metadata": {},
			"source": [
				"- Print the names of employees working in NY state under Finance department whose bonuses are greater than the average bonuses of employees in NY state\n",
				"- Raise the salaries $500 of all employees whose age is greater than 45\n",
				"- Create DF of all those employees whose age is greater than 45 and save them in a file"
			]
		},
		{
			"cell_type": "code",
			"execution_count": 31,
			"metadata": {
				"trusted": true,
				"vscode": {
					"languageId": "python_glue_session"
				}
			},
			"outputs": [
				{
					"name": "stdout",
					"output_type": "stream",
					"text": [
						"AnalysisException: 'org.apache.hadoop.hive.ql.metadata.HiveException: MetaException(message:Insufficient Lake Formation permission(s) on global_temp (Service: AWSGlue; Status Code: 400; Error Code: AccessDeniedException; Request ID: 234722c0-7573-4856-979e-05c3fe8ad007; Proxy: null));'\n"
					]
				}
			],
			"source": [
				"df.createOrReplaceTempView(\"Office\")\n",
				"spark.sql(\"select employee_name from Office where state ='NY' and department = 'Finance' and bonus >(select avg(bonus) from Office where state ='NY')\").show()"
			]
		},
		{
			"cell_type": "code",
			"execution_count": null,
			"metadata": {
				"trusted": true,
				"vscode": {
					"languageId": "python_glue_session"
				}
			},
			"outputs": [
				{
					"name": "stdout",
					"output_type": "stream",
					"text": [
						"Welcome to the Glue Interactive Sessions Kernel\n",
						"For more information on available magic commands, please type %help in any new cell.\n",
						"\n",
						"Please view our Getting Started page to access the most up-to-date information on the Interactive Sessions kernel: https://docs.aws.amazon.com/glue/latest/dg/interactive-sessions.html\n",
						"It looks like there is a newer version of the kernel available. The latest version is 0.34 and you have 0.30 installed.\n",
						"Please run `pip install --upgrade aws-glue-sessions` to upgrade your kernel\n",
						"Authenticating with environment variables and user-defined glue_role_arn: arn:aws:iam::533588983801:role/FULL_GLUE\n",
						"Attempting to use existing AssumeRole session credentials.\n",
						"Trying to create a Glue session for the kernel.\n",
						"Worker Type: G.1X\n",
						"Number of Workers: 5\n",
						"Session ID: f97f9206-4286-4814-b3fb-0436a5d02c26\n",
						"Applying the following default arguments:\n",
						"--glue_kernel_version 0.30\n",
						"--enable-glue-datacatalog true\n",
						"Waiting for session f97f9206-4286-4814-b3fb-0436a5d02c26 to get into ready status...\n",
						"Session f97f9206-4286-4814-b3fb-0436a5d02c26 has been created\n",
						"\n",
						"NameError: name 'df' is not defined\n"
					]
				}
			],
			"source": [
				"df.show(2)"
			]
		},
		{
			"cell_type": "code",
			"execution_count": null,
			"metadata": {
				"trusted": true,
				"vscode": {
					"languageId": "python_glue_session"
				}
			},
			"outputs": [
				{
					"name": "stdout",
					"output_type": "stream",
					"text": [
						"+--------------------+----------+-----+-----+\n",
						"|       employee_name|department|state|bonus|\n",
						"+--------------------+----------+-----+-----+\n",
						"|       Marvis Cobian|Purchasing|   NY| 1765|\n",
						"|          Trena Benz|  Accounts|   NY| 1624|\n",
						"|       Vivan Sifford|   Finance|   NY| 1261|\n",
						"|        Jaclyn Layla|        HR|   NY| 1289|\n",
						"|         Escoto Kohn|Purchasing|   NY| 1533|\n",
						"|   Kaczorowski Dynes|Purchasing|   NY| 1802|\n",
						"|    Lisabeth Gallman| Marketing|   NY| 1623|\n",
						"|       Suzanne Gilma|Purchasing|   NY| 1840|\n",
						"|          Luisa Jere|     Sales|   NY| 1866|\n",
						"|      Herder Gallman|   Finance|   NY| 1402|\n",
						"|        Vivan Locust|        HR|   NY| 1313|\n",
						"|          Nena Rocha|   Finance|   NY| 1647|\n",
						"|       Leif Lemaster|   Finance|   NY| 1782|\n",
						"|         Imai Locust|     Sales|   NY| 1809|\n",
						"|Ellingsworth Meli...|   Finance|   NY| 1358|\n",
						"|     Toussaint Tyree|        HR|   NY| 1573|\n",
						"|     Antonio Juliana|     Sales|   NY| 1338|\n",
						"|        Escoto Gilma|   Finance|   NY| 1285|\n",
						"|        Soules Mckey|        HR|   NY| 1752|\n",
						"|    Antonio Antonina| Marketing|   NY| 1295|\n",
						"+--------------------+----------+-----+-----+\n",
						"only showing top 20 rows\n"
					]
				}
			],
			"source": [
				"from pyspark.sql.functions import col, avg\n",
				"averag = df.filter(df.state == \"NY\").agg(avg(col(\"bonus\"))).collect()\n",
				"av = averag[0][0]\n",
				"df.select(\"employee_name\",\"department\",\"state\",\"bonus\").filter((col(\"state\") == \"NY\") &  (col(\"bonus\") > av)).show()"
			]
		},
		{
			"cell_type": "markdown",
			"metadata": {},
			"source": [
				"- Raise the salaries $500 of all employees whose age is greater than 45"
			]
		},
		{
			"cell_type": "code",
			"execution_count": 15,
			"metadata": {
				"trusted": true,
				"vscode": {
					"languageId": "python_glue_session"
				}
			},
			"outputs": [
				{
					"name": "stdout",
					"output_type": "stream",
					"text": [
						"+-----------+-----------------+----------+-----+------+---+-----+\n",
						"|employee_id|    employee_name|department|state|salary|age|bonus|\n",
						"+-----------+-----------------+----------+-----+------+---+-----+\n",
						"|       1000|        Nitz Leif| Marketing|   CA|  6131| 26|  543|\n",
						"|       1001|  Melissia Dedman|   Finance|   AK|  4027| 43| 1290|\n",
						"|       1002|Rudolph Barringer|        HR|   LA|  3122| 43| 1445|\n",
						"+-----------+-----------------+----------+-----+------+---+-----+\n",
						"only showing top 3 rows\n"
					]
				}
			],
			"source": [
				"df.show(3)"
			]
		},
		{
			"cell_type": "markdown",
			"metadata": {},
			"source": [
				"- Raise the salaries $500 of all employees whose age is greater than 45 (UDF)\n",
				"- Raise the salaries $500 of all employees whose age is greater than 45 (WithColumn)"
			]
		},
		{
			"cell_type": "code",
			"execution_count": null,
			"metadata": {
				"vscode": {
					"languageId": "python_glue_session"
				}
			},
			"outputs": [],
			"source": []
		}
	],
	"metadata": {
		"kernelspec": {
			"display_name": "Glue PySpark",
			"language": "python",
			"name": "glue_pyspark"
		},
		"language_info": {
			"codemirror_mode": {
				"name": "python",
				"version": 3
			},
			"file_extension": ".py",
			"mimetype": "text/x-python",
			"name": "Python_Glue_Session",
			"pygments_lexer": "python3"
		}
	},
	"nbformat": 4,
	"nbformat_minor": 4
}
