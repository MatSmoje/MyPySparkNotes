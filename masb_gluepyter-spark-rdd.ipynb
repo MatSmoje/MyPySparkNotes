{
	"cells": [
		{
			"cell_type": "markdown",
			"metadata": {
				"deletable": false,
				"editable": false,
				"trusted": true
			},
			"source": [
				"\n",
				"# Glue Studio Notebook\n",
				"You are now running a **Glue Studio** notebook; before you can start using your notebook you *must* start an interactive session.\n",
				"\n",
				"## Available Magics\n",
				"|          Magic              |   Type       |                                                                        Description                                                                        |\n",
				"|-----------------------------|--------------|-----------------------------------------------------------------------------------------------------------------------------------------------------------|\n",
				"| %%configure                 |  Dictionary  |  A json-formatted dictionary consisting of all configuration parameters for a session. Each parameter can be specified here or through individual magics. |\n",
				"| %profile                    |  String      |  Specify a profile in your aws configuration to use as the credentials provider.                                                                          |\n",
				"| %iam_role                   |  String      |  Specify an IAM role to execute your session with.                                                                                                        |\n",
				"| %region                     |  String      |  Specify the AWS region in which to initialize a session                                                                                                  |\n",
				"| %session_id                 |  String      |  Returns the session ID for the running session.                                                                                                          |\n",
				"| %connections                |  List        |  Specify a comma separated list of connections to use in the session.                                                                                     |\n",
				"| %additional_python_modules  |  List        |  Comma separated list of pip packages, s3 paths or private pip arguments.                                                                                 |\n",
				"| %extra_py_files             |  List        |  Comma separated list of additional Python files from S3.                                                                                                 |\n",
				"| %extra_jars                 |  List        |  Comma separated list of additional Jars to include in the cluster.                                                                                       |\n",
				"| %number_of_workers          |  Integer     |  The number of workers of a defined worker_type that are allocated when a job runs. worker_type must be set too.                                          |\n",
				"| %worker_type                |  String      |  Standard, G.1X, *or* G.2X. number_of_workers must be set too. Default is G.1X                                                                            |\n",
				"| %glue_version               |  String      |  The version of Glue to be used by this session. Currently, the only valid options are 2.0 and 3.0                                                        |\n",
				"| %security_configuration     |  String      |  Define a security configuration to be used with this session.                                                                                            |\n",
				"| %sql                        |  String      |  Run SQL code. All lines after the initial %%sql magic will be passed as part of the SQL code.                                                            |\n",
				"| %streaming                  |  String      |  Changes the session type to Glue Streaming.                                                                                                              |\n",
				"| %etl                        |  String      |   Changes the session type to Glue ETL.                                                                                                                   |\n",
				"| %status                     |              |  Returns the status of the current Glue session including its duration, configuration and executing user / role.                                          |\n",
				"| %stop_session               |              |  Stops the current session.                                                                                                                               |\n",
				"| %list_sessions              |              |  Lists all currently running sessions by name and ID.                                                                                                     |"
			]
		},
		{
			"cell_type": "code",
			"execution_count": null,
			"metadata": {
				"editable": true,
				"trusted": true,
				"vscode": {
					"languageId": "python_glue_session"
				}
			},
			"outputs": [
				{
					"name": "stdout",
					"output_type": "stream",
					"text": [
						"Welcome to the Glue Interactive Sessions Kernel\n",
						"For more information on available magic commands, please type %help in any new cell.\n",
						"\n",
						"Please view our Getting Started page to access the most up-to-date information on the Interactive Sessions kernel: https://docs.aws.amazon.com/glue/latest/dg/interactive-sessions.html\n",
						"It looks like there is a newer version of the kernel available. The latest version is 0.31 and you have 0.30 installed.\n",
						"Please run `pip install --upgrade aws-glue-sessions` to upgrade your kernel\n",
						"Authenticating with environment variables and user-defined glue_role_arn: arn:aws:iam::533588983801:role/FULL_GLUE\n",
						"Attempting to use existing AssumeRole session credentials.\n",
						"Trying to create a Glue session for the kernel.\n",
						"Worker Type: G.1X\n",
						"Number of Workers: 5\n",
						"Session ID: e80924ae-e5a4-4bea-89b6-06f1b5415d61\n",
						"Applying the following default arguments:\n",
						"--glue_kernel_version 0.30\n",
						"--enable-glue-datacatalog true\n",
						"Waiting for session e80924ae-e5a4-4bea-89b6-06f1b5415d61 to get into ready status...\n",
						"Session e80924ae-e5a4-4bea-89b6-06f1b5415d61 has been created\n",
						"\n",
						"\n"
					]
				}
			],
			"source": [
				"import sys\n",
				"from awsglue.transforms import *\n",
				"from awsglue.utils import getResolvedOptions\n",
				"from pyspark.context import SparkContext\n",
				"from awsglue.context import GlueContext\n",
				"from awsglue.job import Job\n",
				"  \n",
				"sc = SparkContext.getOrCreate()\n",
				"glueContext = GlueContext(sc)\n",
				"spark = glueContext.spark_session\n",
				"job = Job(glueContext)"
			]
		},
		{
			"cell_type": "code",
			"execution_count": 1,
			"metadata": {
				"trusted": true,
				"vscode": {
					"languageId": "python_glue_session"
				}
			},
			"outputs": [
				{
					"name": "stdout",
					"output_type": "stream",
					"text": [
						"\n"
					]
				}
			],
			"source": [
				"ruta = 's3://xxxxxxxx/LOAD00000001.parquet'\n",
				"rdd = spark.read.parquet(ruta)"
			]
		},
		{
			"cell_type": "code",
			"execution_count": 1,
			"metadata": {
				"trusted": true,
				"vscode": {
					"languageId": "python_glue_session"
				}
			},
			"outputs": [],
			"source": [
				"#rdd.show(2)"
			]
		},
		{
			"cell_type": "code",
			"execution_count": 17,
			"metadata": {
				"trusted": true,
				"vscode": {
					"languageId": "python_glue_session"
				}
			},
			"outputs": [
				{
					"name": "stdout",
					"output_type": "stream",
					"text": [
						"True\n",
						"False\n"
					]
				}
			],
			"source": [
				"from pyspark.sql import DataFrame\n",
				"from pyspark.rdd import RDD\n",
				"\n",
				"print(isinstance(rdd,DataFrame))\n",
				"print(isinstance(rdd,RDD))"
			]
		},
		{
			"cell_type": "markdown",
			"metadata": {},
			"source": [
				"rdd2.show() is only for dataFrames\n",
				"rdd2.take(10) is equivalent for rdd\n",
				"\n"
			]
		},
		{
			"cell_type": "code",
			"execution_count": 19,
			"metadata": {
				"trusted": true,
				"vscode": {
					"languageId": "python_glue_session"
				}
			},
			"outputs": [
				{
					"name": "stdout",
					"output_type": "stream",
					"text": [
						"<class 'pyspark.rdd.PipelinedRDD'>\n",
						"<class 'pyspark.sql.dataframe.DataFrame'>\n"
					]
				}
			],
			"source": [
				"print(type(rdd2))\n",
				"print(type(rdd))"
			]
		},
		{
			"cell_type": "code",
			"execution_count": 1,
			"metadata": {
				"trusted": true,
				"vscode": {
					"languageId": "python_glue_session"
				}
			},
			"outputs": [
				{
					"name": "stdout",
					"output_type": "stream",
					"text": [
						"\n"
					]
				}
			],
			"source": [
				"rdd = sc.textFile('s3://xxxxxxxx/ps_text.txt')"
			]
		},
		{
			"cell_type": "code",
			"execution_count": 2,
			"metadata": {
				"trusted": true,
				"vscode": {
					"languageId": "python_glue_session"
				}
			},
			"outputs": [
				{
					"name": "stdout",
					"output_type": "stream",
					"text": [
						"[['Hi', 'how', 'are', 'you?'], ['Hope', 'you', 'are', 'doing'], ['great']]\n"
					]
				}
			],
			"source": [
				"rdd2 = rdd.map(lambda x: x.split(' '))\n",
				"rdd2.collect()"
			]
		},
		{
			"cell_type": "code",
			"execution_count": 3,
			"metadata": {
				"trusted": true,
				"vscode": {
					"languageId": "python_glue_session"
				}
			},
			"outputs": [
				{
					"name": "stdout",
					"output_type": "stream",
					"text": [
						"\n"
					]
				}
			],
			"source": [
				"def getResult(x):\n",
				"    words = x.split(' ')\n",
				"    a = []\n",
				"    for x in words:\n",
				"        a.append(len(x))\n",
				"    return a\n",
				"\n",
				"rdd3 = rdd.map(lambda x: [len(y) for y in x.split(' ')])"
			]
		},
		{
			"cell_type": "code",
			"execution_count": 4,
			"metadata": {
				"trusted": true,
				"vscode": {
					"languageId": "python_glue_session"
				}
			},
			"outputs": [
				{
					"name": "stdout",
					"output_type": "stream",
					"text": [
						"[[2, 3, 3, 4], [4, 3, 3, 5], [5]]\n"
					]
				}
			],
			"source": [
				"rdd3.collect()"
			]
		},
		{
			"cell_type": "code",
			"execution_count": 5,
			"metadata": {
				"trusted": true,
				"vscode": {
					"languageId": "python_glue_session"
				}
			},
			"outputs": [
				{
					"name": "stdout",
					"output_type": "stream",
					"text": [
						"[[2, 3, 3, 4], [4, 3, 3, 5], [5]]\n"
					]
				}
			],
			"source": [
				"rdd2 = rdd.map(getResult)\n",
				"rdd2.collect()"
			]
		},
		{
			"cell_type": "markdown",
			"metadata": {},
			"source": [
				"### RDD flatMap() flapMap is an extension of map() [Transformation]\n",
				"it's used as maper of data and explodes data before final output\n",
				"it's quite the same than map. flatMap return the result as new rdd and lets the result in a single list. (not list of lists)"
			]
		},
		{
			"cell_type": "code",
			"execution_count": 6,
			"metadata": {
				"trusted": true,
				"vscode": {
					"languageId": "python_glue_session"
				}
			},
			"outputs": [
				{
					"name": "stdout",
					"output_type": "stream",
					"text": [
						"\n"
					]
				}
			],
			"source": [
				"rdd4 = rdd.flatMap(lambda x: x.split(' '))"
			]
		},
		{
			"cell_type": "code",
			"execution_count": 2,
			"metadata": {
				"trusted": true,
				"vscode": {
					"languageId": "python_glue_session"
				}
			},
			"outputs": [],
			"source": [
				"#rdd4.collect()"
			]
		},
		{
			"cell_type": "markdown",
			"metadata": {},
			"source": [
				"### RDD filter() [Transformation]\n",
				"filter() will create a new rdd with data filtered :). to filter you have to pass a function as argument"
			]
		},
		{
			"cell_type": "code",
			"execution_count": 1,
			"metadata": {
				"trusted": true,
				"vscode": {
					"languageId": "python_glue_session"
				}
			},
			"outputs": [
				{
					"name": "stdout",
					"output_type": "stream",
					"text": [
						"['This mango company animal', 'Cat dog ant mic laptop', 'Chair switch mobile am charger cover', 'Amanda any alarm ant']\n"
					]
				}
			],
			"source": [
				"rdd = sc.textFile('s3://xxxxxxxx/quiz2.txt')\n",
				"rdd.collect()"
			]
		},
		{
			"cell_type": "code",
			"execution_count": 2,
			"metadata": {
				"trusted": true,
				"vscode": {
					"languageId": "python_glue_session"
				}
			},
			"outputs": [
				{
					"name": "stdout",
					"output_type": "stream",
					"text": [
						"\n"
					]
				}
			],
			"source": [
				"rdd2 = rdd.flatMap(lambda x: x.split(' '))"
			]
		},
		{
			"cell_type": "code",
			"execution_count": 3,
			"metadata": {
				"trusted": true,
				"vscode": {
					"languageId": "python_glue_session"
				}
			},
			"outputs": [
				{
					"name": "stdout",
					"output_type": "stream",
					"text": [
						"['This', 'mango', 'company', 'animal', 'Cat', 'dog', 'ant', 'mic', 'laptop', 'Chair', 'switch', 'mobile', 'am', 'charger', 'cover', 'Amanda', 'any', 'alarm', 'ant']\n"
					]
				}
			],
			"source": [
				"rdd2.collect()"
			]
		},
		{
			"cell_type": "code",
			"execution_count": 13,
			"metadata": {
				"trusted": true,
				"vscode": {
					"languageId": "python_glue_session"
				}
			},
			"outputs": [
				{
					"name": "stdout",
					"output_type": "stream",
					"text": [
						"\n"
					]
				}
			],
			"source": [
				"rdd3 = rdd2.filter(lambda x: (x[0].upper() != 'A') and (x[0].upper() != 'C') )"
			]
		},
		{
			"cell_type": "code",
			"execution_count": 4,
			"metadata": {
				"trusted": true,
				"vscode": {
					"languageId": "python_glue_session"
				}
			},
			"outputs": [
				{
					"name": "stdout",
					"output_type": "stream",
					"text": [
						"['This', 'mango', 'dog', 'mic', 'laptop', 'switch', 'mobile']\n"
					]
				}
			],
			"source": [
				"def filt(x):\n",
				"    #if ((x[0].upper() == 'A' ) or (x[0].upper() == 'C')):\n",
				"    if x.upper().startswith('A') or x.upper().startswith('C'):\n",
				"        return False\n",
				"    else:\n",
				"        return True\n",
				"    \n",
				"rdd4 = rdd2.filter(filt)\n",
				"rdd4.collect()"
			]
		},
		{
			"cell_type": "code",
			"execution_count": 15,
			"metadata": {
				"trusted": true,
				"vscode": {
					"languageId": "python_glue_session"
				}
			},
			"outputs": [
				{
					"name": "stdout",
					"output_type": "stream",
					"text": [
						"['This', 'mango', 'dog', 'mic', 'laptop', 'switch', 'mobile']\n"
					]
				}
			],
			"source": [
				"rdd3.collect()"
			]
		},
		{
			"cell_type": "markdown",
			"metadata": {},
			"source": [
				"### RDD distinct() [T]\n",
				"Is used to get the distinct elements in RDD"
			]
		},
		{
			"cell_type": "code",
			"execution_count": 5,
			"metadata": {
				"trusted": true,
				"vscode": {
					"languageId": "python_glue_session"
				}
			},
			"outputs": [
				{
					"name": "stdout",
					"output_type": "stream",
					"text": [
						"\n"
					]
				}
			],
			"source": [
				"rdd = sc.textFile('s3://xxxxxxxx/ps_text.txt')"
			]
		},
		{
			"cell_type": "code",
			"execution_count": 6,
			"metadata": {
				"trusted": true,
				"vscode": {
					"languageId": "python_glue_session"
				}
			},
			"outputs": [
				{
					"name": "stdout",
					"output_type": "stream",
					"text": [
						"['Hi how are you?', 'Hope you are doing', 'great']\n"
					]
				}
			],
			"source": [
				"rdd.collect()"
			]
		},
		{
			"cell_type": "code",
			"execution_count": 7,
			"metadata": {
				"trusted": true,
				"vscode": {
					"languageId": "python_glue_session"
				}
			},
			"outputs": [
				{
					"name": "stdout",
					"output_type": "stream",
					"text": [
						"['Hi', 'how', 'are', 'you?', 'Hope', 'you', 'are', 'doing', 'great']\n"
					]
				}
			],
			"source": [
				"rdd.flatMap(lambda x: x.split(' ')).collect()"
			]
		},
		{
			"cell_type": "code",
			"execution_count": 8,
			"metadata": {
				"trusted": true,
				"vscode": {
					"languageId": "python_glue_session"
				}
			},
			"outputs": [
				{
					"name": "stdout",
					"output_type": "stream",
					"text": [
						"['how', 'you', 'Hi', 'you?', 'great', 'doing', 'Hope', 'are']\n"
					]
				}
			],
			"source": [
				"rdd.flatMap(lambda x: x.split(' ')).distinct().collect()"
			]
		},
		{
			"cell_type": "markdown",
			"metadata": {
				"tags": []
			},
			"source": [
				"### RDD GroupByKey() [T]\n",
				"it's used to create groups based on Keys. \\n\n",
				"it's necessary that the values comes in format key:value"
			]
		},
		{
			"cell_type": "markdown",
			"metadata": {},
			"source": [
				"('raid', 5)\n",
				"('raid', 2)\n",
				"('raid', 7)\n",
				"('raid', 3)\n",
				"\n",
				"when we do GroupByKey() we will get as pyspark iterable. \n",
				"To watch output as the following ('raid', [5,2,7,3]) we have to use mapValues(parameter) and pass parameter we would like to see. Ex: list\n",
				"and so on..."
			]
		},
		{
			"cell_type": "code",
			"execution_count": 3,
			"metadata": {
				"trusted": true,
				"vscode": {
					"languageId": "python_glue_session"
				}
			},
			"outputs": [
				{
					"name": "stdout",
					"output_type": "stream",
					"text": [
						"['This mango company animal', 'Cat dog ant mic laptop', 'Chair switch mobile am charger cover', 'Amanda any alarm ant']\n"
					]
				}
			],
			"source": [
				"rdd = sc.textFile('s3://xxxxxxxx/quiz2.txt')\n",
				"rdd.collect()"
			]
		},
		{
			"cell_type": "code",
			"execution_count": 4,
			"metadata": {
				"trusted": true,
				"vscode": {
					"languageId": "python_glue_session"
				}
			},
			"outputs": [
				{
					"name": "stdout",
					"output_type": "stream",
					"text": [
						"[('mango', <pyspark.resultiterable.ResultIterable object at 0x7f4b8efd1590>), ('Amanda', <pyspark.resultiterable.ResultIterable object at 0x7f4b8efd1510>), ('alarm', <pyspark.resultiterable.ResultIterable object at 0x7f4b8efd1610>), ('charger', <pyspark.resultiterable.ResultIterable object at 0x7f4b8efd1690>), ('ant', <pyspark.resultiterable.ResultIterable object at 0x7f4b8efd1710>), ('laptop', <pyspark.resultiterable.ResultIterable object at 0x7f4b8efd1790>), ('mobile', <pyspark.resultiterable.ResultIterable object at 0x7f4b8efd1910>), ('any', <pyspark.resultiterable.ResultIterable object at 0x7f4b8efd1810>), ('Cat', <pyspark.resultiterable.ResultIterable object at 0x7f4b8efd15d0>), ('mic', <pyspark.resultiterable.ResultIterable object at 0x7f4b8efd1950>), ('This', <pyspark.resultiterable.ResultIterable object at 0x7f4b8efd18d0>), ('Chair', <pyspark.resultiterable.ResultIterable object at 0x7f4b8efd19d0>), ('am', <pyspark.resultiterable.ResultIterable object at 0x7f4b8efd1a50>), ('dog', <pyspark.resultiterable.ResultIterable object at 0x7f4b8efd1ad0>), ('company', <pyspark.resultiterable.ResultIterable object at 0x7f4b8efd1b50>), ('animal', <pyspark.resultiterable.ResultIterable object at 0x7f4b8efd1bd0>), ('switch', <pyspark.resultiterable.ResultIterable object at 0x7f4b8efd1c50>), ('cover', <pyspark.resultiterable.ResultIterable object at 0x7f4b8efd1cd0>)]\n"
					]
				}
			],
			"source": [
				"rdd3 = rdd.flatMap(lambda x: x.split(' ')).map(lambda x: (x, len(x)))\n",
				"rdd3.groupByKey().collect()"
			]
		},
		{
			"cell_type": "code",
			"execution_count": 5,
			"metadata": {
				"trusted": true,
				"vscode": {
					"languageId": "python_glue_session"
				}
			},
			"outputs": [
				{
					"name": "stdout",
					"output_type": "stream",
					"text": [
						"[('mango', [5]), ('Amanda', [6]), ('alarm', [5]), ('charger', [7]), ('ant', [3, 3]), ('laptop', [6]), ('mobile', [6]), ('any', [3]), ('Cat', [3]), ('mic', [3]), ('This', [4]), ('Chair', [5]), ('am', [2]), ('dog', [3]), ('company', [7]), ('animal', [6]), ('switch', [6]), ('cover', [5])]\n"
					]
				}
			],
			"source": [
				"rdd3.groupByKey().mapValues(list).collect()"
			]
		},
		{
			"cell_type": "markdown",
			"metadata": {
				"tags": []
			},
			"source": [
				"### reduceByKey() [T]\n",
				"*It's used to combine data based on Keys in RDD.*\n",
				"\n",
				"``` python\n",
				"reduceByKey(lambda x,y: x+y)\n",
				"``` \n",
				"  \n",
				"**Example:**  \n",
				"We have the next data in key:value format:\n",
				"- ('raid',3)\n",
				"- ('raid',6)\n",
				"- ('raid',3)\n",
				"- ('raid',10)  \n",
				"We use **reduceByKey(lambda x,y: x+y). This will work as follow:\n",
				"- x = 3 and y = 6 => x + y  = 9 \n",
				"- **then:** x = 9 and y = 3 => x + y = 12\n",
				"- **then:** x = 12 and y = 10 => x + y = 22\n",
				"\n",
				"**So finally, reduceByKey(lambda x,y: x+ y) will give us: ('raid', 22)**\n"
			]
		},
		{
			"cell_type": "markdown",
			"metadata": {
				"tags": []
			},
			"source": [
				"#### Quiz: reduceByKey()"
			]
		},
		{
			"cell_type": "code",
			"execution_count": 6,
			"metadata": {
				"trusted": true,
				"vscode": {
					"languageId": "python_glue_session"
				}
			},
			"outputs": [
				{
					"name": "stdout",
					"output_type": "stream",
					"text": [
						"['This mango company animal', 'Cat dog ant mic laptop', 'Chair switch mobile am charger cover', 'Amanda any alarm ant']\n"
					]
				}
			],
			"source": [
				"rdd = sc.textFile('s3://xxxxxxxx/quiz2.txt')\n",
				"rdd.collect()"
			]
		},
		{
			"cell_type": "code",
			"execution_count": 5,
			"metadata": {
				"trusted": true,
				"vscode": {
					"languageId": "python_glue_session"
				}
			},
			"outputs": [
				{
					"name": "stdout",
					"output_type": "stream",
					"text": [
						"[('mango', 1), ('alarm', 1), ('this', 1), ('charger', 1), ('ant', 2), ('cat', 1), ('laptop', 1), ('chair', 1), ('mobile', 1), ('amanda', 1), ('any', 1), ('mic', 1), ('am', 1), ('dog', 1), ('company', 1), ('animal', 1), ('switch', 1), ('cover', 1)]\n"
					]
				}
			],
			"source": [
				"rdd.flatMap(lambda x: x.lower().split(' ')).map(lambda x: (x,1)).reduceByKey(lambda x,y: x+y).collect()"
			]
		},
		{
			"cell_type": "markdown",
			"metadata": {},
			"source": [
				"### count() [A]\n",
				"**rdd.count()** returns the number of elements inside the rdd"
			]
		},
		{
			"cell_type": "code",
			"execution_count": 7,
			"metadata": {
				"trusted": true,
				"vscode": {
					"languageId": "python_glue_session"
				}
			},
			"outputs": [
				{
					"name": "stdout",
					"output_type": "stream",
					"text": [
						"['This mango company animal', 'Cat dog ant mic laptop', 'Chair switch mobile am charger cover', 'Amanda any alarm ant']\n"
					]
				}
			],
			"source": [
				"rdd = sc.textFile('s3://xxxxxxxx/quiz2.txt')\n",
				"rdd.collect()"
			]
		},
		{
			"cell_type": "code",
			"execution_count": 8,
			"metadata": {
				"trusted": true,
				"vscode": {
					"languageId": "python_glue_session"
				}
			},
			"outputs": [
				{
					"name": "stdout",
					"output_type": "stream",
					"text": [
						"4\n"
					]
				}
			],
			"source": [
				"rdd.count()"
			]
		},
		{
			"cell_type": "code",
			"execution_count": 10,
			"metadata": {
				"trusted": true,
				"vscode": {
					"languageId": "python_glue_session"
				}
			},
			"outputs": [
				{
					"name": "stdout",
					"output_type": "stream",
					"text": [
						"['This', 'mango', 'company', 'animal', 'Cat', 'dog', 'ant', 'mic', 'laptop', 'Chair', 'switch', 'mobile', 'am', 'charger', 'cover', 'Amanda', 'any', 'alarm', 'ant']\n"
					]
				}
			],
			"source": [
				"rdd2 = rdd.flatMap(lambda x: x.split(' '))\n",
				"rdd2.collect()"
			]
		},
		{
			"cell_type": "code",
			"execution_count": 11,
			"metadata": {
				"trusted": true,
				"vscode": {
					"languageId": "python_glue_session"
				}
			},
			"outputs": [
				{
					"name": "stdout",
					"output_type": "stream",
					"text": [
						"19\n"
					]
				}
			],
			"source": [
				"rdd2.count()"
			]
		},
		{
			"cell_type": "markdown",
			"metadata": {},
			"source": [
				"### countByValue() [A]\n",
				"It provide many times each value occur in RDD  \n",
				"``` python\n",
				"rdd.countByValue()\n",
				"```"
			]
		},
		{
			"cell_type": "code",
			"execution_count": 1,
			"metadata": {
				"trusted": true,
				"vscode": {
					"languageId": "python_glue_session"
				}
			},
			"outputs": [
				{
					"name": "stdout",
					"output_type": "stream",
					"text": [
						"['This mango company animal', 'Cat dog ant mic laptop', 'Chair switch mobile am charger cover', 'Amanda any alarm ant']\n"
					]
				}
			],
			"source": [
				"rdd = sc.textFile('s3://xxxxxxxx/quiz2.txt')\n",
				"rdd.collect()"
			]
		},
		{
			"cell_type": "code",
			"execution_count": 3,
			"metadata": {
				"trusted": true,
				"vscode": {
					"languageId": "python_glue_session"
				}
			},
			"outputs": [
				{
					"name": "stdout",
					"output_type": "stream",
					"text": [
						"CPU times: user 3 µs, sys: 0 ns, total: 3 µs\n",
						"Wall time: 5.48 µs\n",
						"defaultdict(<class 'int'>, {'This': 1, 'mango': 1, 'company': 1, 'animal': 1, 'Cat': 1, 'dog': 1, 'ant': 2, 'mic': 1, 'laptop': 1, 'Chair': 1, 'switch': 1, 'mobile': 1, 'am': 1, 'charger': 1, 'cover': 1, 'Amanda': 1, 'any': 1, 'alarm': 1})\n"
					]
				}
			],
			"source": [
				"%time\n",
				"rdd.flatMap(lambda x: x.split(' ')).countByValue()"
			]
		},
		{
			"cell_type": "code",
			"execution_count": 4,
			"metadata": {
				"trusted": true,
				"vscode": {
					"languageId": "python_glue_session"
				}
			},
			"outputs": [
				{
					"name": "stdout",
					"output_type": "stream",
					"text": [
						"\n"
					]
				}
			],
			"source": [
				"hp = sc.textFile('s3://xxxxxxxx/Harry Potter_ The Complete Coll - J.K. Rowling.txt')"
			]
		},
		{
			"cell_type": "code",
			"execution_count": 6,
			"metadata": {
				"trusted": true,
				"vscode": {
					"languageId": "python_glue_session"
				}
			},
			"outputs": [
				{
					"name": "stdout",
					"output_type": "stream",
					"text": [
						"2\n"
					]
				}
			],
			"source": [
				"hp.getNumPartitions() #number of partitions where the rdd has been distribuited"
			]
		},
		{
			"cell_type": "code",
			"execution_count": 14,
			"metadata": {
				"trusted": true,
				"vscode": {
					"languageId": "python_glue_session"
				}
			},
			"outputs": [
				{
					"name": "stdout",
					"output_type": "stream",
					"text": [
						"CPU times: user 3 µs, sys: 0 ns, total: 3 µs\n",
						"Wall time: 5.48 µs\n",
						"\n"
					]
				}
			],
			"source": [
				"%time\n",
				"hp2 = hp.flatMap(lambda x: x.split(' ')).filter(lambda x: x not in ('Harry','Potter',''))"
			]
		},
		{
			"cell_type": "code",
			"execution_count": 21,
			"metadata": {
				"trusted": true,
				"vscode": {
					"languageId": "python_glue_session"
				}
			},
			"outputs": [
				{
					"name": "stdout",
					"output_type": "stream",
					"text": [
						"1109657\n"
					]
				}
			],
			"source": [
				"hp2.count()"
			]
		},
		{
			"cell_type": "code",
			"execution_count": 22,
			"metadata": {
				"trusted": true,
				"vscode": {
					"languageId": "python_glue_session"
				}
			},
			"outputs": [
				{
					"name": "stdout",
					"output_type": "stream",
					"text": [
						"AttributeError: 'collections.defaultdict' object has no attribute 'head'\n"
					]
				}
			],
			"source": [
				"hp2.countByValue().head()"
			]
		},
		{
			"cell_type": "markdown",
			"metadata": {},
			"source": [
				"### saveAsTextFile() [A]  \n",
				"It's used to save a rdd to a file"
			]
		},
		{
			"cell_type": "code",
			"execution_count": 7,
			"metadata": {
				"trusted": true,
				"vscode": {
					"languageId": "python_glue_session"
				}
			},
			"outputs": [
				{
					"name": "stdout",
					"output_type": "stream",
					"text": [
						"['CONTENTS', '']\n"
					]
				}
			],
			"source": [
				"hp.take(2)"
			]
		},
		{
			"cell_type": "code",
			"execution_count": 1,
			"metadata": {
				"trusted": true,
				"vscode": {
					"languageId": "python_glue_session"
				}
			},
			"outputs": [],
			"source": [
				"#hp.saveAsTextFile('s3://xxxxxxxx/output/harrypotterRdd')"
			]
		},
		{
			"cell_type": "markdown",
			"metadata": {},
			"source": [
				"### repartition() [T]\n",
				"repartition is used to change the number of partitions in a RDD \n",
				"\n",
				"``` python\n",
				"rdd.repartition(number of partitions)\n",
				"```\n",
				"### coalesce() [T]\n",
				"Coalesce is used to decrease the number of partitions in RDD \n",
				"``` python\n",
				"rdd.coalesce(number of partitions)\n",
				"```"
			]
		},
		{
			"cell_type": "code",
			"execution_count": 1,
			"metadata": {
				"trusted": true,
				"vscode": {
					"languageId": "python_glue_session"
				}
			},
			"outputs": [
				{
					"name": "stdout",
					"output_type": "stream",
					"text": [
						"\n"
					]
				}
			],
			"source": [
				"hp = sc.textFile('s3://xxxxxxxx/Harry Potter_ The Complete Coll - J.K. Rowling.txt')"
			]
		},
		{
			"cell_type": "code",
			"execution_count": 2,
			"metadata": {
				"trusted": true,
				"vscode": {
					"languageId": "python_glue_session"
				}
			},
			"outputs": [
				{
					"name": "stdout",
					"output_type": "stream",
					"text": [
						"2\n"
					]
				}
			],
			"source": [
				"hp.getNumPartitions()"
			]
		},
		{
			"cell_type": "markdown",
			"metadata": {},
			"source": [
				"### Quiz: Calculate the average score in each month"
			]
		},
		{
			"cell_type": "code",
			"execution_count": 3,
			"metadata": {
				"trusted": true,
				"vscode": {
					"languageId": "python_glue_session"
				}
			},
			"outputs": [
				{
					"name": "stdout",
					"output_type": "stream",
					"text": [
						"\n"
					]
				}
			],
			"source": [
				"rdd = sc.textFile('s3://xxxxxxxx/average_quiz_sample.csv')"
			]
		},
		{
			"cell_type": "code",
			"execution_count": 4,
			"metadata": {
				"trusted": true,
				"vscode": {
					"languageId": "python_glue_session"
				}
			},
			"outputs": [
				{
					"name": "stdout",
					"output_type": "stream",
					"text": [
						"['JAN,NY,3.0', 'JAN,PA,1.0', 'JAN,NJ,2.0', 'JAN,CT,4.0', 'FEB,PA,1.0', 'FEB,NJ,1.0', 'FEB,NY,2.0', 'FEB,VT,1.0', 'MAR,NJ,2.0', 'MAR,NY,1.0', 'MAR,VT,2.0', 'MAR,PA,3.0']\n"
					]
				}
			],
			"source": [
				"rdd.collect()"
			]
		},
		{
			"cell_type": "code",
			"execution_count": 10,
			"metadata": {
				"trusted": true,
				"vscode": {
					"languageId": "python_glue_session"
				}
			},
			"outputs": [
				{
					"name": "stdout",
					"output_type": "stream",
					"text": [
						"\n"
					]
				}
			],
			"source": [
				"rdd2 = rdd.map(lambda x: x.split(','))"
			]
		},
		{
			"cell_type": "code",
			"execution_count": 11,
			"metadata": {
				"trusted": true,
				"vscode": {
					"languageId": "python_glue_session"
				}
			},
			"outputs": [
				{
					"name": "stdout",
					"output_type": "stream",
					"text": [
						"[['JAN', 'NY', '3.0'], ['JAN', 'PA', '1.0'], ['JAN', 'NJ', '2.0'], ['JAN', 'CT', '4.0'], ['FEB', 'PA', '1.0'], ['FEB', 'NJ', '1.0'], ['FEB', 'NY', '2.0'], ['FEB', 'VT', '1.0'], ['MAR', 'NJ', '2.0'], ['MAR', 'NY', '1.0'], ['MAR', 'VT', '2.0'], ['MAR', 'PA', '3.0']]\n"
					]
				}
			],
			"source": [
				"rdd2.collect()"
			]
		},
		{
			"cell_type": "code",
			"execution_count": 24,
			"metadata": {
				"trusted": true,
				"vscode": {
					"languageId": "python_glue_session"
				}
			},
			"outputs": [
				{
					"name": "stdout",
					"output_type": "stream",
					"text": [
						"\n"
					]
				}
			],
			"source": [
				"rdd3 = rdd2.map(lambda x: (x[0],(float(x[2]),1)))"
			]
		},
		{
			"cell_type": "code",
			"execution_count": 25,
			"metadata": {
				"trusted": true,
				"vscode": {
					"languageId": "python_glue_session"
				}
			},
			"outputs": [
				{
					"name": "stdout",
					"output_type": "stream",
					"text": [
						"[('JAN', (3.0, 1)), ('JAN', (1.0, 1)), ('JAN', (2.0, 1)), ('JAN', (4.0, 1)), ('FEB', (1.0, 1)), ('FEB', (1.0, 1)), ('FEB', (2.0, 1)), ('FEB', (1.0, 1)), ('MAR', (2.0, 1)), ('MAR', (1.0, 1)), ('MAR', (2.0, 1)), ('MAR', (3.0, 1))]\n"
					]
				}
			],
			"source": [
				"rdd3.collect()"
			]
		},
		{
			"cell_type": "code",
			"execution_count": 37,
			"metadata": {
				"trusted": true,
				"vscode": {
					"languageId": "python_glue_session"
				}
			},
			"outputs": [
				{
					"name": "stdout",
					"output_type": "stream",
					"text": [
						"[('MAR', (8.0, 4)), ('JAN', (10.0, 4)), ('FEB', (5.0, 4))]\n"
					]
				}
			],
			"source": [
				"rdd4 = rdd3.reduceByKey( lambda x, y: (x[0]+y[0], x[1]+y[1]))\n",
				"rdd4.collect()"
			]
		},
		{
			"cell_type": "code",
			"execution_count": 39,
			"metadata": {
				"trusted": true,
				"vscode": {
					"languageId": "python_glue_session"
				}
			},
			"outputs": [
				{
					"name": "stdout",
					"output_type": "stream",
					"text": [
						"[('MAR', 2.0), ('JAN', 2.5), ('FEB', 1.25)]\n"
					]
				}
			],
			"source": [
				"rdd4.map(lambda x: (x[0], x[1][0]/x[1][1])).collect()"
			]
		},
		{
			"cell_type": "markdown",
			"metadata": {},
			"source": [
				"### Finding Min and Max"
			]
		},
		{
			"cell_type": "markdown",
			"metadata": {},
			"source": [
				"Convert the data to pair-value  \n",
				"```python\n",
				"(x.split(',')[0],x.split(',')[1])\n",
				"```\n",
				"#### ReduceByKey()\n",
				"```python\n",
				"    rdd2  = rdd.reduceByKey(lambda x,y: x if x < y else y )\n",
				"```\n",
				"- ('The Matrix', 5)  \n",
				"- ('The Matrix', 3)  \n",
				"- ('The Matrix', 4)  \n",
				"- 5 , 3 => 3  \n",
				"- 3 , 4 => 3\n",
				"\n",
				"Then the output of the last iteration will be considered for the next iteration"
			]
		},
		{
			"cell_type": "markdown",
			"metadata": {},
			"source": [
				"### Quiz Max Min:\n",
				"Calculate Minimum and maximum rating given by each city"
			]
		},
		{
			"cell_type": "code",
			"execution_count": 1,
			"metadata": {
				"trusted": true,
				"vscode": {
					"languageId": "python_glue_session"
				}
			},
			"outputs": [
				{
					"name": "stdout",
					"output_type": "stream",
					"text": [
						"\n"
					]
				}
			],
			"source": [
				"rdd = sc.textFile('s3://xxxxxxxx/average_quiz_sample.csv')"
			]
		},
		{
			"cell_type": "code",
			"execution_count": 2,
			"metadata": {
				"trusted": true,
				"vscode": {
					"languageId": "python_glue_session"
				}
			},
			"outputs": [
				{
					"name": "stdout",
					"output_type": "stream",
					"text": [
						"['JAN,NY,3.0', 'JAN,PA,1.0', 'JAN,NJ,2.0', 'JAN,CT,4.0', 'FEB,PA,1.0', 'FEB,NJ,1.0', 'FEB,NY,2.0', 'FEB,VT,1.0', 'MAR,NJ,2.0', 'MAR,NY,1.0', 'MAR,VT,2.0', 'MAR,PA,3.0']\n"
					]
				}
			],
			"source": [
				"rdd.collect()"
			]
		},
		{
			"cell_type": "code",
			"execution_count": 3,
			"metadata": {
				"trusted": true,
				"vscode": {
					"languageId": "python_glue_session"
				}
			},
			"outputs": [
				{
					"name": "stdout",
					"output_type": "stream",
					"text": [
						"\n"
					]
				}
			],
			"source": [
				"rdd2 = rdd.map(lambda x: (x.split(',')[1],x.split(',')[2]))"
			]
		},
		{
			"cell_type": "code",
			"execution_count": 7,
			"metadata": {
				"trusted": true,
				"vscode": {
					"languageId": "python_glue_session"
				}
			},
			"outputs": [
				{
					"name": "stdout",
					"output_type": "stream",
					"text": [
						"[('NY', '1.0'), ('NJ', '1.0'), ('PA', '1.0'), ('CT', '4.0'), ('VT', '1.0')]\n"
					]
				}
			],
			"source": [
				"rddMin = rdd2.reduceByKey(lambda x,y: x if x<y else y)\n",
				"rddMin.collect()"
			]
		},
		{
			"cell_type": "code",
			"execution_count": 8,
			"metadata": {
				"trusted": true,
				"vscode": {
					"languageId": "python_glue_session"
				}
			},
			"outputs": [
				{
					"name": "stdout",
					"output_type": "stream",
					"text": [
						"[('NY', '3.0'), ('NJ', '2.0'), ('PA', '3.0'), ('CT', '4.0'), ('VT', '2.0')]\n"
					]
				}
			],
			"source": [
				"rddMax = rdd2.reduceByKey(lambda x,y: x if x>y else y)\n",
				"rddMax.collect()"
			]
		},
		{
			"cell_type": "markdown",
			"metadata": {},
			"source": [
				"## Spark RDD Project :]\n",
				"### Perform the following analytics on the data\n",
				"- Show the number of students in the file\n",
				"- Show the total marks achieved by Female and Male students\n",
				"- Show the total number of students that have passed and failed. 50+ marks are required to pass the course\n",
				"- Show the total number of students enrolled per course \n",
				"- Show the total marks that that students have achieved per course \n",
				"- Show the average marks that students have achieved per course \n",
				"- Show the minimum and maximum marks achieved per course \n",
				"- Show the average age of male and female students"
			]
		},
		{
			"cell_type": "code",
			"execution_count": 1,
			"metadata": {
				"trusted": true,
				"vscode": {
					"languageId": "python_glue_session"
				}
			},
			"outputs": [
				{
					"name": "stdout",
					"output_type": "stream",
					"text": [
						"\n"
					]
				}
			],
			"source": [
				"rdd = sc.textFile('s3://xxxxxxxx/StudentData.csv')"
			]
		},
		{
			"cell_type": "code",
			"execution_count": 15,
			"metadata": {
				"trusted": true,
				"vscode": {
					"languageId": "python_glue_session"
				}
			},
			"outputs": [
				{
					"name": "stdout",
					"output_type": "stream",
					"text": [
						"['age,gender,name,course,roll,marks,email', '28,Female,Hubert Oliveras,DB,02984,59,Annika Hoffman_Naoma Fritts@OOP.com', '29,Female,Toshiko Hillyard,Cloud,12899,62,Margene Moores_Marylee Capasso@DB.com', '28,Male,Celeste Lollis,PF,21267,45,Jeannetta Golden_Jenna Montague@DSA.com', '29,Female,Elenore Choy,DB,32877,29,Billi Clore_Mitzi Seldon@DB.com', '28,Male,Sheryll Towler,DSA,41487,41,Claude Panos_Judie Chipps@OOP.com', '28,Male,Margene Moores,MVC,52771,32,Toshiko Hillyard_Clementina Menke@MVC.com', '28,Male,Neda Briski,OOP,61973,69,Alberta Freund_Elenore Choy@DB.com', '28,Female,Claude Panos,Cloud,72409,85,Sheryll Towler_Alberta Freund@Cloud.com', '28,Male,Celeste Lollis,MVC,81492,64,Nicole Harwood_Claude Panos@MVC.com']\n"
					]
				}
			],
			"source": [
				"rdd.take(10)"
			]
		},
		{
			"cell_type": "code",
			"execution_count": 2,
			"metadata": {
				"trusted": true,
				"vscode": {
					"languageId": "python_glue_session"
				}
			},
			"outputs": [
				{
					"name": "stdout",
					"output_type": "stream",
					"text": [
						"\n"
					]
				}
			],
			"source": [
				"col = rdd.first()"
			]
		},
		{
			"cell_type": "code",
			"execution_count": 4,
			"metadata": {
				"trusted": true,
				"vscode": {
					"languageId": "python_glue_session"
				}
			},
			"outputs": [
				{
					"name": "stdout",
					"output_type": "stream",
					"text": [
						"1000\n"
					]
				}
			],
			"source": [
				"rdd2 = rdd.filter(lambda x: x != col)\n",
				"rdd2.count()"
			]
		},
		{
			"cell_type": "code",
			"execution_count": 5,
			"metadata": {
				"trusted": true,
				"vscode": {
					"languageId": "python_glue_session"
				}
			},
			"outputs": [
				{
					"name": "stdout",
					"output_type": "stream",
					"text": [
						"['28,Female,Hubert Oliveras,DB,02984,59,Annika Hoffman_Naoma Fritts@OOP.com', '29,Female,Toshiko Hillyard,Cloud,12899,62,Margene Moores_Marylee Capasso@DB.com', '28,Male,Celeste Lollis,PF,21267,45,Jeannetta Golden_Jenna Montague@DSA.com', '29,Female,Elenore Choy,DB,32877,29,Billi Clore_Mitzi Seldon@DB.com', '28,Male,Sheryll Towler,DSA,41487,41,Claude Panos_Judie Chipps@OOP.com', '28,Male,Margene Moores,MVC,52771,32,Toshiko Hillyard_Clementina Menke@MVC.com', '28,Male,Neda Briski,OOP,61973,69,Alberta Freund_Elenore Choy@DB.com', '28,Female,Claude Panos,Cloud,72409,85,Sheryll Towler_Alberta Freund@Cloud.com', '28,Male,Celeste Lollis,MVC,81492,64,Nicole Harwood_Claude Panos@MVC.com', '29,Male,Cordie Harnois,OOP,92882,51,Judie Chipps_Clementina Menke@MVC.com']\n"
					]
				}
			],
			"source": [
				"rdd2.take(10)"
			]
		},
		{
			"cell_type": "code",
			"execution_count": 20,
			"metadata": {
				"trusted": true,
				"vscode": {
					"languageId": "python_glue_session"
				}
			},
			"outputs": [
				{
					"name": "stdout",
					"output_type": "stream",
					"text": [
						"\n"
					]
				}
			],
			"source": [
				"rdd3  = rdd2.map(lambda x: x.split(','))"
			]
		},
		{
			"cell_type": "code",
			"execution_count": 22,
			"metadata": {
				"trusted": true,
				"vscode": {
					"languageId": "python_glue_session"
				}
			},
			"outputs": [
				{
					"name": "stdout",
					"output_type": "stream",
					"text": [
						"[['28', 'Female', 'Hubert Oliveras', 'DB', '02984', '59', 'Annika Hoffman_Naoma Fritts@OOP.com'], ['29', 'Female', 'Toshiko Hillyard', 'Cloud', '12899', '62', 'Margene Moores_Marylee Capasso@DB.com'], ['28', 'Male', 'Celeste Lollis', 'PF', '21267', '45', 'Jeannetta Golden_Jenna Montague@DSA.com'], ['29', 'Female', 'Elenore Choy', 'DB', '32877', '29', 'Billi Clore_Mitzi Seldon@DB.com'], ['28', 'Male', 'Sheryll Towler', 'DSA', '41487', '41', 'Claude Panos_Judie Chipps@OOP.com'], ['28', 'Male', 'Margene Moores', 'MVC', '52771', '32', 'Toshiko Hillyard_Clementina Menke@MVC.com'], ['28', 'Male', 'Neda Briski', 'OOP', '61973', '69', 'Alberta Freund_Elenore Choy@DB.com'], ['28', 'Female', 'Claude Panos', 'Cloud', '72409', '85', 'Sheryll Towler_Alberta Freund@Cloud.com'], ['28', 'Male', 'Celeste Lollis', 'MVC', '81492', '64', 'Nicole Harwood_Claude Panos@MVC.com'], ['29', 'Male', 'Cordie Harnois', 'OOP', '92882', '51', 'Judie Chipps_Clementina Menke@MVC.com']]\n"
					]
				}
			],
			"source": [
				"rdd3.take(10)"
			]
		},
		{
			"cell_type": "code",
			"execution_count": 36,
			"metadata": {
				"trusted": true,
				"vscode": {
					"languageId": "python_glue_session"
				}
			},
			"outputs": [
				{
					"name": "stdout",
					"output_type": "stream",
					"text": [
						"\n"
					]
				}
			],
			"source": [
				"rdd4 = rdd3.map(lambda x: (x[1], int(x[5])))"
			]
		},
		{
			"cell_type": "code",
			"execution_count": 37,
			"metadata": {
				"trusted": true,
				"vscode": {
					"languageId": "python_glue_session"
				}
			},
			"outputs": [
				{
					"name": "stdout",
					"output_type": "stream",
					"text": [
						"[('Female', 59), ('Female', 62), ('Male', 45), ('Female', 29), ('Male', 41), ('Male', 32), ('Male', 69), ('Female', 85), ('Male', 64), ('Male', 51)]\n"
					]
				}
			],
			"source": [
				"rdd4.take(10)"
			]
		},
		{
			"cell_type": "code",
			"execution_count": 38,
			"metadata": {
				"trusted": true,
				"vscode": {
					"languageId": "python_glue_session"
				}
			},
			"outputs": [
				{
					"name": "stdout",
					"output_type": "stream",
					"text": [
						"[('Male', 30461), ('Female', 29636)]\n"
					]
				}
			],
			"source": [
				"rdd4.reduceByKey(lambda x, y: x+y).collect()"
			]
		},
		{
			"cell_type": "code",
			"execution_count": 44,
			"metadata": {
				"trusted": true,
				"vscode": {
					"languageId": "python_glue_session"
				}
			},
			"outputs": [
				{
					"name": "stdout",
					"output_type": "stream",
					"text": [
						"\n"
					]
				}
			],
			"source": [
				"rdd3 = rdd2.map(lambda x: x.split(','))"
			]
		},
		{
			"cell_type": "code",
			"execution_count": 45,
			"metadata": {
				"trusted": true,
				"vscode": {
					"languageId": "python_glue_session"
				}
			},
			"outputs": [
				{
					"name": "stdout",
					"output_type": "stream",
					"text": [
						"[['28', 'Female', 'Hubert Oliveras', 'DB', '02984', '59', 'Annika Hoffman_Naoma Fritts@OOP.com'], ['29', 'Female', 'Toshiko Hillyard', 'Cloud', '12899', '62', 'Margene Moores_Marylee Capasso@DB.com'], ['28', 'Male', 'Celeste Lollis', 'PF', '21267', '45', 'Jeannetta Golden_Jenna Montague@DSA.com'], ['29', 'Female', 'Elenore Choy', 'DB', '32877', '29', 'Billi Clore_Mitzi Seldon@DB.com'], ['28', 'Male', 'Sheryll Towler', 'DSA', '41487', '41', 'Claude Panos_Judie Chipps@OOP.com'], ['28', 'Male', 'Margene Moores', 'MVC', '52771', '32', 'Toshiko Hillyard_Clementina Menke@MVC.com'], ['28', 'Male', 'Neda Briski', 'OOP', '61973', '69', 'Alberta Freund_Elenore Choy@DB.com'], ['28', 'Female', 'Claude Panos', 'Cloud', '72409', '85', 'Sheryll Towler_Alberta Freund@Cloud.com'], ['28', 'Male', 'Celeste Lollis', 'MVC', '81492', '64', 'Nicole Harwood_Claude Panos@MVC.com'], ['29', 'Male', 'Cordie Harnois', 'OOP', '92882', '51', 'Judie Chipps_Clementina Menke@MVC.com']]\n"
					]
				}
			],
			"source": [
				"rdd3.take(10)"
			]
		},
		{
			"cell_type": "code",
			"execution_count": 53,
			"metadata": {
				"trusted": true,
				"vscode": {
					"languageId": "python_glue_session"
				}
			},
			"outputs": [
				{
					"name": "stdout",
					"output_type": "stream",
					"text": [
						"\n"
					]
				}
			],
			"source": [
				"rdd4 = rdd3.map(lambda x: 1 if int(x[5]) > 50 else 0)"
			]
		},
		{
			"cell_type": "code",
			"execution_count": 54,
			"metadata": {
				"trusted": true,
				"vscode": {
					"languageId": "python_glue_session"
				}
			},
			"outputs": [
				{
					"name": "stdout",
					"output_type": "stream",
					"text": [
						"[1, 1, 0, 0, 0, 0, 1, 1, 1, 1]\n"
					]
				}
			],
			"source": [
				"rdd4.take(10)"
			]
		},
		{
			"cell_type": "code",
			"execution_count": 37,
			"metadata": {
				"trusted": true,
				"vscode": {
					"languageId": "python_glue_session"
				}
			},
			"outputs": [
				{
					"name": "stdout",
					"output_type": "stream",
					"text": [
						"defaultdict(<class 'int'>, {('Female', 1): 501, ('Male', 1): 499})\n"
					]
				}
			],
			"source": [
				"rdd4.countByValue()"
			]
		},
		{
			"cell_type": "markdown",
			"metadata": {},
			"source": [
				"### Show the total number of students enrolled per course"
			]
		},
		{
			"cell_type": "code",
			"execution_count": 38,
			"metadata": {
				"trusted": true,
				"vscode": {
					"languageId": "python_glue_session"
				}
			},
			"outputs": [
				{
					"name": "stdout",
					"output_type": "stream",
					"text": [
						"age,gender,name,course,roll,marks,email\n"
					]
				}
			],
			"source": [
				"rdd = sc.textFile('s3://xxxxxxxx/StudentData.csv')\n",
				"col = rdd.first()\n",
				"print(col)"
			]
		},
		{
			"cell_type": "code",
			"execution_count": 39,
			"metadata": {
				"trusted": true,
				"vscode": {
					"languageId": "python_glue_session"
				}
			},
			"outputs": [
				{
					"name": "stdout",
					"output_type": "stream",
					"text": [
						"\n"
					]
				}
			],
			"source": [
				"rdd = rdd.filter( lambda x: x != col)"
			]
		},
		{
			"cell_type": "code",
			"execution_count": 40,
			"metadata": {
				"trusted": true,
				"vscode": {
					"languageId": "python_glue_session"
				}
			},
			"outputs": [
				{
					"name": "stdout",
					"output_type": "stream",
					"text": [
						"\n"
					]
				}
			],
			"source": [
				"rdd2 = rdd.map(lambda x: x.split(','))"
			]
		},
		{
			"cell_type": "code",
			"execution_count": 42,
			"metadata": {
				"trusted": true,
				"vscode": {
					"languageId": "python_glue_session"
				}
			},
			"outputs": [
				{
					"name": "stdout",
					"output_type": "stream",
					"text": [
						"[('Cloud', 192), ('DSA', 176), ('DB', 157), ('MVC', 157), ('PF', 166), ('OOP', 152)]\n"
					]
				}
			],
			"source": [
				"rdd3 = rdd2.map(lambda x: (x[3],1))\n",
				"rdd4 = rdd3.reduceByKey(lambda x, y: x+y)\n",
				"rdd4.collect()"
			]
		},
		{
			"cell_type": "code",
			"execution_count": null,
			"metadata": {
				"vscode": {
					"languageId": "python_glue_session"
				}
			},
			"outputs": [],
			"source": []
		},
		{
			"cell_type": "markdown",
			"metadata": {},
			"source": [
				"### Show the total marks that that students have achieved per course "
			]
		},
		{
			"cell_type": "code",
			"execution_count": 64,
			"metadata": {
				"trusted": true,
				"vscode": {
					"languageId": "python_glue_session"
				}
			},
			"outputs": [
				{
					"name": "stdout",
					"output_type": "stream",
					"text": [
						"age,gender,name,course,roll,marks,email\n"
					]
				}
			],
			"source": [
				"rdd = sc.textFile('s3://xxxxxxxx/StudentData.csv')\n",
				"col = rdd.first()\n",
				"print(col)"
			]
		},
		{
			"cell_type": "code",
			"execution_count": 65,
			"metadata": {
				"trusted": true,
				"vscode": {
					"languageId": "python_glue_session"
				}
			},
			"outputs": [
				{
					"name": "stdout",
					"output_type": "stream",
					"text": [
						"\n"
					]
				}
			],
			"source": [
				"rdd = rdd.filter( lambda x: x != col)"
			]
		},
		{
			"cell_type": "code",
			"execution_count": 66,
			"metadata": {
				"trusted": true,
				"vscode": {
					"languageId": "python_glue_session"
				}
			},
			"outputs": [
				{
					"name": "stdout",
					"output_type": "stream",
					"text": [
						"[['28', 'Female', 'Hubert Oliveras', 'DB', '02984', '59', 'Annika Hoffman_Naoma Fritts@OOP.com'], ['29', 'Female', 'Toshiko Hillyard', 'Cloud', '12899', '62', 'Margene Moores_Marylee Capasso@DB.com'], ['28', 'Male', 'Celeste Lollis', 'PF', '21267', '45', 'Jeannetta Golden_Jenna Montague@DSA.com'], ['29', 'Female', 'Elenore Choy', 'DB', '32877', '29', 'Billi Clore_Mitzi Seldon@DB.com'], ['28', 'Male', 'Sheryll Towler', 'DSA', '41487', '41', 'Claude Panos_Judie Chipps@OOP.com'], ['28', 'Male', 'Margene Moores', 'MVC', '52771', '32', 'Toshiko Hillyard_Clementina Menke@MVC.com'], ['28', 'Male', 'Neda Briski', 'OOP', '61973', '69', 'Alberta Freund_Elenore Choy@DB.com'], ['28', 'Female', 'Claude Panos', 'Cloud', '72409', '85', 'Sheryll Towler_Alberta Freund@Cloud.com'], ['28', 'Male', 'Celeste Lollis', 'MVC', '81492', '64', 'Nicole Harwood_Claude Panos@MVC.com'], ['29', 'Male', 'Cordie Harnois', 'OOP', '92882', '51', 'Judie Chipps_Clementina Menke@MVC.com']]\n"
					]
				}
			],
			"source": [
				"rdd2 = rdd.map(lambda x: x.split(','))\n",
				"rdd2.take(10)"
			]
		},
		{
			"cell_type": "code",
			"execution_count": 69,
			"metadata": {
				"trusted": true,
				"vscode": {
					"languageId": "python_glue_session"
				}
			},
			"outputs": [
				{
					"name": "stdout",
					"output_type": "stream",
					"text": [
						"\n"
					]
				}
			],
			"source": [
				"rdd3 = rdd2.map( lambda x: (x[3],int(x[5])))"
			]
		},
		{
			"cell_type": "code",
			"execution_count": 70,
			"metadata": {
				"trusted": true,
				"vscode": {
					"languageId": "python_glue_session"
				}
			},
			"outputs": [
				{
					"name": "stdout",
					"output_type": "stream",
					"text": [
						"[('DB', 59), ('Cloud', 62), ('PF', 45), ('DB', 29), ('DSA', 41), ('MVC', 32), ('OOP', 69), ('Cloud', 85), ('MVC', 64), ('OOP', 51)]\n"
					]
				}
			],
			"source": [
				"rdd3.take(10)"
			]
		},
		{
			"cell_type": "code",
			"execution_count": 72,
			"metadata": {
				"trusted": true,
				"vscode": {
					"languageId": "python_glue_session"
				}
			},
			"outputs": [
				{
					"name": "stdout",
					"output_type": "stream",
					"text": [
						"\n"
					]
				}
			],
			"source": [
				"rdd4 = rdd3.reduceByKey(lambda x, y: x + y)"
			]
		},
		{
			"cell_type": "code",
			"execution_count": 73,
			"metadata": {
				"trusted": true,
				"vscode": {
					"languageId": "python_glue_session"
				}
			},
			"outputs": [
				{
					"name": "stdout",
					"output_type": "stream",
					"text": [
						"[('Cloud', 11443), ('DSA', 10950), ('DB', 9270), ('MVC', 9585), ('PF', 9933), ('OOP', 8916)]\n"
					]
				}
			],
			"source": [
				"rdd4.take(10)"
			]
		},
		{
			"cell_type": "markdown",
			"metadata": {},
			"source": [
				"### Show the average marks that students have achieved per course "
			]
		},
		{
			"cell_type": "code",
			"execution_count": 44,
			"metadata": {
				"trusted": true,
				"vscode": {
					"languageId": "python_glue_session"
				}
			},
			"outputs": [
				{
					"name": "stdout",
					"output_type": "stream",
					"text": [
						"age,gender,name,course,roll,marks,email\n"
					]
				}
			],
			"source": [
				"rdd = sc.textFile('s3://xxxxxxxx/StudentData.csv')\n",
				"col = rdd.first()\n",
				"print(col)"
			]
		},
		{
			"cell_type": "code",
			"execution_count": 45,
			"metadata": {
				"trusted": true,
				"vscode": {
					"languageId": "python_glue_session"
				}
			},
			"outputs": [
				{
					"name": "stdout",
					"output_type": "stream",
					"text": [
						"\n"
					]
				}
			],
			"source": [
				"rdd2 = rdd.filter(lambda x: x != col)"
			]
		},
		{
			"cell_type": "code",
			"execution_count": 46,
			"metadata": {
				"trusted": true,
				"vscode": {
					"languageId": "python_glue_session"
				}
			},
			"outputs": [
				{
					"name": "stdout",
					"output_type": "stream",
					"text": [
						"[['28', 'Female', 'Hubert Oliveras', 'DB', '02984', '59', 'Annika Hoffman_Naoma Fritts@OOP.com'], ['29', 'Female', 'Toshiko Hillyard', 'Cloud', '12899', '62', 'Margene Moores_Marylee Capasso@DB.com'], ['28', 'Male', 'Celeste Lollis', 'PF', '21267', '45', 'Jeannetta Golden_Jenna Montague@DSA.com'], ['29', 'Female', 'Elenore Choy', 'DB', '32877', '29', 'Billi Clore_Mitzi Seldon@DB.com'], ['28', 'Male', 'Sheryll Towler', 'DSA', '41487', '41', 'Claude Panos_Judie Chipps@OOP.com'], ['28', 'Male', 'Margene Moores', 'MVC', '52771', '32', 'Toshiko Hillyard_Clementina Menke@MVC.com'], ['28', 'Male', 'Neda Briski', 'OOP', '61973', '69', 'Alberta Freund_Elenore Choy@DB.com'], ['28', 'Female', 'Claude Panos', 'Cloud', '72409', '85', 'Sheryll Towler_Alberta Freund@Cloud.com'], ['28', 'Male', 'Celeste Lollis', 'MVC', '81492', '64', 'Nicole Harwood_Claude Panos@MVC.com'], ['29', 'Male', 'Cordie Harnois', 'OOP', '92882', '51', 'Judie Chipps_Clementina Menke@MVC.com']]\n"
					]
				}
			],
			"source": [
				"rdd3 = rdd2.map(lambda x: x.split(','))\n",
				"rdd3.take(10)"
			]
		},
		{
			"cell_type": "code",
			"execution_count": 47,
			"metadata": {
				"trusted": true,
				"vscode": {
					"languageId": "python_glue_session"
				}
			},
			"outputs": [
				{
					"name": "stdout",
					"output_type": "stream",
					"text": [
						"[('DB', (59, 1)), ('Cloud', (62, 1)), ('PF', (45, 1)), ('DB', (29, 1)), ('DSA', (41, 1)), ('MVC', (32, 1)), ('OOP', (69, 1)), ('Cloud', (85, 1)), ('MVC', (64, 1)), ('OOP', (51, 1))]\n"
					]
				}
			],
			"source": [
				"rdd4 = rdd3.map(lambda x: (x[3], (int(x[5]), 1)))\n",
				"rdd4.take(10)"
			]
		},
		{
			"cell_type": "code",
			"execution_count": 48,
			"metadata": {
				"trusted": true,
				"vscode": {
					"languageId": "python_glue_session"
				}
			},
			"outputs": [
				{
					"name": "stdout",
					"output_type": "stream",
					"text": [
						"[('Cloud', (11443, 192)), ('DSA', (10950, 176)), ('DB', (9270, 157)), ('MVC', (9585, 157)), ('PF', (9933, 166)), ('OOP', (8916, 152))]\n"
					]
				}
			],
			"source": [
				"rdd5 = rdd4.reduceByKey( lambda x, y: (x[0] + y[0], x[1]+y[1]) )\n",
				"rdd5.take(10)"
			]
		},
		{
			"cell_type": "code",
			"execution_count": 49,
			"metadata": {
				"trusted": true,
				"vscode": {
					"languageId": "python_glue_session"
				}
			},
			"outputs": [
				{
					"name": "stdout",
					"output_type": "stream",
					"text": [
						"[('Cloud', 59.598958333333336), ('DSA', 62.21590909090909), ('DB', 59.044585987261144), ('MVC', 61.05095541401274), ('PF', 59.83734939759036), ('OOP', 58.6578947368421)]\n"
					]
				}
			],
			"source": [
				"rdd6 = rdd5.map(lambda x: ( x[0], x[1][0]/x[1][1]))\n",
				"rdd6.collect()"
			]
		},
		{
			"cell_type": "markdown",
			"metadata": {},
			"source": [
				"mapValues(): will focus on the value of a {key: value} so, in this case will be easier to handle de calculation.\n",
				"Example: \n",
				"```python\n",
				"rdd5.mapValues(lambda x: x[0]/x[1]).collect()\n",
				"```\n",
				"It will bring the same result as line before :) "
			]
		},
		{
			"cell_type": "code",
			"execution_count": 50,
			"metadata": {
				"trusted": true,
				"vscode": {
					"languageId": "python_glue_session"
				}
			},
			"outputs": [
				{
					"name": "stdout",
					"output_type": "stream",
					"text": [
						"[('Cloud', 59.598958333333336), ('DSA', 62.21590909090909), ('DB', 59.044585987261144), ('MVC', 61.05095541401274), ('PF', 59.83734939759036), ('OOP', 58.6578947368421)]\n"
					]
				}
			],
			"source": [
				"rdd5.mapValues(lambda x: x[0] / x[1] ).collect()"
			]
		},
		{
			"cell_type": "markdown",
			"metadata": {},
			"source": [
				"### Show the minimum and maximum marks achieved per course "
			]
		},
		{
			"cell_type": "code",
			"execution_count": 8,
			"metadata": {
				"trusted": true,
				"vscode": {
					"languageId": "python_glue_session"
				}
			},
			"outputs": [
				{
					"name": "stdout",
					"output_type": "stream",
					"text": [
						"age,gender,name,course,roll,marks,email\n"
					]
				}
			],
			"source": [
				"rdd = sc.textFile('s3://xxxxxxxx/StudentData.csv')\n",
				"col = rdd.first() \n",
				"print(col)"
			]
		},
		{
			"cell_type": "code",
			"execution_count": 9,
			"metadata": {
				"trusted": true,
				"vscode": {
					"languageId": "python_glue_session"
				}
			},
			"outputs": [
				{
					"name": "stdout",
					"output_type": "stream",
					"text": [
						"\n"
					]
				}
			],
			"source": [
				"rd2 = rdd.filter(lambda x: x != col)"
			]
		},
		{
			"cell_type": "code",
			"execution_count": 10,
			"metadata": {
				"trusted": true,
				"vscode": {
					"languageId": "python_glue_session"
				}
			},
			"outputs": [
				{
					"name": "stdout",
					"output_type": "stream",
					"text": [
						"[['28', 'Female', 'Hubert Oliveras', 'DB', '02984', '59', 'Annika Hoffman_Naoma Fritts@OOP.com'], ['29', 'Female', 'Toshiko Hillyard', 'Cloud', '12899', '62', 'Margene Moores_Marylee Capasso@DB.com'], ['28', 'Male', 'Celeste Lollis', 'PF', '21267', '45', 'Jeannetta Golden_Jenna Montague@DSA.com'], ['29', 'Female', 'Elenore Choy', 'DB', '32877', '29', 'Billi Clore_Mitzi Seldon@DB.com'], ['28', 'Male', 'Sheryll Towler', 'DSA', '41487', '41', 'Claude Panos_Judie Chipps@OOP.com'], ['28', 'Male', 'Margene Moores', 'MVC', '52771', '32', 'Toshiko Hillyard_Clementina Menke@MVC.com'], ['28', 'Male', 'Neda Briski', 'OOP', '61973', '69', 'Alberta Freund_Elenore Choy@DB.com'], ['28', 'Female', 'Claude Panos', 'Cloud', '72409', '85', 'Sheryll Towler_Alberta Freund@Cloud.com'], ['28', 'Male', 'Celeste Lollis', 'MVC', '81492', '64', 'Nicole Harwood_Claude Panos@MVC.com'], ['29', 'Male', 'Cordie Harnois', 'OOP', '92882', '51', 'Judie Chipps_Clementina Menke@MVC.com']]\n"
					]
				}
			],
			"source": [
				"rd3 = rd2.map(lambda x: x.split(','))\n",
				"rd3.take(10)"
			]
		},
		{
			"cell_type": "code",
			"execution_count": 11,
			"metadata": {
				"trusted": true,
				"vscode": {
					"languageId": "python_glue_session"
				}
			},
			"outputs": [
				{
					"name": "stdout",
					"output_type": "stream",
					"text": [
						"[('DB', '59'), ('Cloud', '62'), ('PF', '45'), ('DB', '29'), ('DSA', '41'), ('MVC', '32'), ('OOP', '69'), ('Cloud', '85'), ('MVC', '64'), ('OOP', '51')]\n"
					]
				}
			],
			"source": [
				"rd4 = rd3.map(lambda x: (x[3],x[5]))\n",
				"rd4.take(10)"
			]
		},
		{
			"cell_type": "code",
			"execution_count": 17,
			"metadata": {
				"trusted": true,
				"vscode": {
					"languageId": "python_glue_session"
				}
			},
			"outputs": [
				{
					"name": "stdout",
					"output_type": "stream",
					"text": [
						"min:  [('Cloud', '20'), ('DSA', '20'), ('DB', '20'), ('MVC', '22'), ('PF', '20'), ('OOP', '20')]\n",
						"max:  [('Cloud', '99'), ('DSA', '99'), ('DB', '98'), ('MVC', '99'), ('PF', '99'), ('OOP', '99')]\n"
					]
				}
			],
			"source": [
				"minim = rd4.reduceByKey(lambda x, y: x if x<y else y).collect()\n",
				"maxim = rd4.reduceByKey(lambda x, y: x if x>y else y).collect()\n",
				"print('min: ', minim)\n",
				"print('max: ', maxim)"
			]
		},
		{
			"cell_type": "markdown",
			"metadata": {},
			"source": [
				"### Show the average age of male and female students"
			]
		},
		{
			"cell_type": "code",
			"execution_count": 19,
			"metadata": {
				"trusted": true,
				"vscode": {
					"languageId": "python_glue_session"
				}
			},
			"outputs": [
				{
					"name": "stdout",
					"output_type": "stream",
					"text": [
						"age,gender,name,course,roll,marks,email\n"
					]
				}
			],
			"source": [
				"rdd = sc.textFile('s3://xxxxxxxx/StudentData.csv')\n",
				"col = rdd.first()\n",
				"print(col)"
			]
		},
		{
			"cell_type": "code",
			"execution_count": 56,
			"metadata": {
				"trusted": true,
				"vscode": {
					"languageId": "python_glue_session"
				}
			},
			"outputs": [
				{
					"name": "stdout",
					"output_type": "stream",
					"text": [
						"[('Female', (28, 1)), ('Female', (29, 1)), ('Male', (28, 1)), ('Female', (29, 1)), ('Male', (28, 1)), ('Male', (28, 1)), ('Male', (28, 1)), ('Female', (28, 1)), ('Male', (28, 1)), ('Male', (29, 1))]\n"
					]
				}
			],
			"source": [
				"rdd2 = rdd.filter(lambda x: x != col) \n",
				"rdd3 = rdd2.map(lambda x: x.split(','))\n",
				"rdd4 = rdd3.map(lambda x: (x[1],(int(x[0]),1)))\n",
				"total = rdd4.count()\n",
				"rdd4.take(10)"
			]
		},
		{
			"cell_type": "code",
			"execution_count": 57,
			"metadata": {
				"trusted": true,
				"vscode": {
					"languageId": "python_glue_session"
				}
			},
			"outputs": [
				{
					"name": "stdout",
					"output_type": "stream",
					"text": [
						"[('Male', (14233, 499)), ('Female', (14273, 501))]\n"
					]
				}
			],
			"source": [
				"rdd5 = rdd4.reduceByKey(lambda x, y: (x[0]+y[0], x[1]+y[1]))\n",
				"rdd5.collect()"
			]
		},
		{
			"cell_type": "code",
			"execution_count": 62,
			"metadata": {
				"trusted": true,
				"vscode": {
					"languageId": "python_glue_session"
				}
			},
			"outputs": [
				{
					"name": "stdout",
					"output_type": "stream",
					"text": [
						"[('Male', 28.52304609218437), ('Female', 28.489021956087825)]\n"
					]
				}
			],
			"source": [
				"rdd5.map(lambda x: (x[0],x[1][0]/x[1][1])).collect()"
			]
		},
		{
			"cell_type": "code",
			"execution_count": 61,
			"metadata": {
				"trusted": true,
				"vscode": {
					"languageId": "python_glue_session"
				}
			},
			"outputs": [
				{
					"name": "stdout",
					"output_type": "stream",
					"text": [
						"[('Male', 28.52304609218437), ('Female', 28.489021956087825)]\n"
					]
				}
			],
			"source": [
				"rdd5.mapValues(lambda x: x[0]/x[1]).collect()"
			]
		},
		{
			"cell_type": "code",
			"execution_count": null,
			"metadata": {
				"vscode": {
					"languageId": "python_glue_session"
				}
			},
			"outputs": [],
			"source": []
		}
	],
	"metadata": {
		"kernelspec": {
			"display_name": "Glue PySpark",
			"language": "python",
			"name": "glue_pyspark"
		},
		"language_info": {
			"codemirror_mode": {
				"name": "python",
				"version": 3
			},
			"file_extension": ".py",
			"mimetype": "text/x-python",
			"name": "Python_Glue_Session",
			"pygments_lexer": "python3"
		}
	},
	"nbformat": 4,
	"nbformat_minor": 4
}
